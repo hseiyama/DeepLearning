{
 "cells": [
  {
   "cell_type": "markdown",
   "id": "e17e0f98",
   "metadata": {},
   "source": [
    "# 2層のニューラルネットワーク（レイヤの実装）"
   ]
  },
  {
   "cell_type": "code",
   "execution_count": null,
   "id": "e1a0a4f1",
   "metadata": {},
   "outputs": [],
   "source": [
    "import numpy as np\n",
    "import matplotlib.pyplot as plt\n",
    "from dataset.mnist import load_mnist\n",
    "from collections import OrderedDict"
   ]
  },
  {
   "cell_type": "markdown",
   "id": "dc803d8a",
   "metadata": {},
   "source": [
    "### ソフトマックス関数（出力層：分類問題）\n",
    "$ y_k = \\frac{exp(a_k)}{\\sum_{i=1}^{n}exp(a_i)} $"
   ]
  },
  {
   "cell_type": "code",
   "execution_count": null,
   "id": "594552ce",
   "metadata": {},
   "outputs": [],
   "source": [
    "def softmax(x):\n",
    "    x = x - np.max(x, axis=-1, keepdims=True)  # オーバーフロー対策\n",
    "    return np.exp(x) / np.sum(np.exp(x), axis=-1, keepdims=True)"
   ]
  },
  {
   "cell_type": "markdown",
   "id": "fd828a12",
   "metadata": {},
   "source": [
    "### 交差エントロピー誤差（損失関数）\n",
    "$ E = -\\sum_{k}^{n}t_k log(y_k) $"
   ]
  },
  {
   "cell_type": "code",
   "execution_count": null,
   "id": "17c3f217",
   "metadata": {},
   "outputs": [],
   "source": [
    "def cross_entropy_error(y, t):\n",
    "    if y.ndim == 1:\n",
    "        t = t.reshape(1, t.size)\n",
    "        y = y.reshape(1, y.size)\n",
    "        \n",
    "    # 教師データがone-hot-vectorの場合、正解ラベルのインデックスに変換\n",
    "    if t.size == y.size:\n",
    "        t = t.argmax(axis=1)\n",
    "             \n",
    "    batch_size = y.shape[0]\n",
    "    return -np.sum(np.log(y[np.arange(batch_size), t] + 1e-7)) / batch_size"
   ]
  },
  {
   "cell_type": "markdown",
   "id": "d57950cf",
   "metadata": {},
   "source": [
    "### Affine レイヤ（全結合層）"
   ]
  },
  {
   "cell_type": "code",
   "execution_count": null,
   "id": "ab30c1bf",
   "metadata": {},
   "outputs": [],
   "source": [
    "class Affine:\n",
    "    def __init__(self, W, b):\n",
    "        self.W =W\n",
    "        self.b = b\n",
    "        \n",
    "        self.x = None\n",
    "        self.original_x_shape = None\n",
    "        # 重み・バイアスパラメータの微分\n",
    "        self.dW = None\n",
    "        self.db = None\n",
    "\n",
    "    def forward(self, x):\n",
    "        # テンソル対応\n",
    "        self.original_x_shape = x.shape\n",
    "        x = x.reshape(x.shape[0], -1)\n",
    "        self.x = x\n",
    "\n",
    "        out = np.dot(self.x, self.W) + self.b\n",
    "\n",
    "        return out\n",
    "\n",
    "    def backward(self, dout):\n",
    "        dx = np.dot(dout, self.W.T)\n",
    "        self.dW = np.dot(self.x.T, dout)\n",
    "        self.db = np.sum(dout, axis=0)\n",
    "        \n",
    "        dx = dx.reshape(*self.original_x_shape)  # 入力データの形状に戻す（テンソル対応）\n",
    "        return dx"
   ]
  },
  {
   "cell_type": "markdown",
   "id": "3f5224b6",
   "metadata": {},
   "source": [
    "### ReLU レイヤ（活性化関数）\n",
    "$ y = \\begin{cases}\n",
    "          x \\quad (x > 0) \\\\\n",
    "          0 \\quad (x \\leqq 0) \\\\\n",
    "      \\end{cases} $"
   ]
  },
  {
   "cell_type": "code",
   "execution_count": null,
   "id": "b8cf0c68",
   "metadata": {},
   "outputs": [],
   "source": [
    "class Relu:\n",
    "    def __init__(self):\n",
    "        self.mask = None\n",
    "\n",
    "    def forward(self, x):\n",
    "        self.mask = (x <= 0)\n",
    "        out = x.copy()\n",
    "        out[self.mask] = 0\n",
    "\n",
    "        return out\n",
    "\n",
    "    def backward(self, dout):\n",
    "        dout[self.mask] = 0\n",
    "        dx = dout\n",
    "\n",
    "        return dx"
   ]
  },
  {
   "cell_type": "markdown",
   "id": "16f7efae",
   "metadata": {},
   "source": [
    "### Softmax-with-Loss レイヤ（損失関数）\n",
    "$ L = -\\sum_{k}^{n}t_k log(\\frac{exp(a_k)}{\\sum_{i}^{n}exp(a_i)}) $"
   ]
  },
  {
   "cell_type": "code",
   "execution_count": null,
   "id": "89d655aa",
   "metadata": {},
   "outputs": [],
   "source": [
    "class SoftmaxWithLoss:\n",
    "    def __init__(self):\n",
    "        self.loss = None\n",
    "        self.y = None # softmaxの出力\n",
    "        self.t = None # 教師データ\n",
    "\n",
    "    def forward(self, x, t):\n",
    "        self.t = t\n",
    "        self.y = softmax(x)\n",
    "        self.loss = cross_entropy_error(self.y, self.t)\n",
    "        \n",
    "        return self.loss\n",
    "\n",
    "    def backward(self, dout=1):\n",
    "        batch_size = self.t.shape[0]\n",
    "        if self.t.size == self.y.size: # 教師データがone-hot-vectorの場合\n",
    "            dx = (self.y - self.t) / batch_size\n",
    "        else:\n",
    "            dx = self.y.copy()\n",
    "            dx[np.arange(batch_size), self.t] -= 1\n",
    "            dx = dx / batch_size\n",
    "        \n",
    "        return dx"
   ]
  },
  {
   "cell_type": "markdown",
   "id": "9f3fdee6",
   "metadata": {},
   "source": [
    "### MNIST データセット"
   ]
  },
  {
   "cell_type": "code",
   "execution_count": null,
   "id": "0551a485",
   "metadata": {},
   "outputs": [],
   "source": [
    "# データの読み込み\n",
    "(x_train, t_train), (x_test, t_test) = load_mnist(normalize=True, one_hot_label=True)\n",
    "print('x_train.shape [N, H * W]:', x_train.shape)\n",
    "print('t_train.shape:', t_train.shape, t_train.dtype)"
   ]
  },
  {
   "cell_type": "markdown",
   "id": "68787ab6",
   "metadata": {},
   "source": [
    "#### 【オプション】入力データの確認"
   ]
  },
  {
   "cell_type": "code",
   "execution_count": null,
   "id": "1865dd29",
   "metadata": {},
   "outputs": [],
   "source": [
    "# 画像を表示\n",
    "figure = plt.figure(figsize=(12, 4))\n",
    "rows, cols = 2, 6\n",
    "for i in range(rows * cols):\n",
    "    img, label = x_train[i], t_train[i].argmax()\n",
    "    figure.add_subplot(rows, cols, i + 1)\n",
    "    plt.title(f'{label} (idx={i})')\n",
    "    plt.axis('off')\n",
    "    img = img.reshape(28, 28)  # 784 -> 28x28 に変換\n",
    "    plt.imshow(img, cmap='gray')\n",
    "plt.show()\n",
    "print(t_train[:rows * cols])"
   ]
  },
  {
   "cell_type": "markdown",
   "id": "95cf47be",
   "metadata": {},
   "source": [
    "### ニューラルネットワークの定義"
   ]
  },
  {
   "cell_type": "code",
   "execution_count": null,
   "id": "46fcec1d",
   "metadata": {},
   "outputs": [],
   "source": [
    "class TwoLayerNet:\n",
    "\n",
    "    def __init__(self, input_size, hidden_size, output_size, weight_init_std = 0.01):\n",
    "        # 重みの初期化\n",
    "        self.params = {}\n",
    "        self.params['W1'] = weight_init_std * np.random.randn(input_size, hidden_size)\n",
    "        self.params['b1'] = np.zeros(hidden_size)\n",
    "        self.params['W2'] = weight_init_std * np.random.randn(hidden_size, output_size) \n",
    "        self.params['b2'] = np.zeros(output_size)\n",
    "\n",
    "        # レイヤの生成\n",
    "        self.layers = OrderedDict()\n",
    "        self.layers['Affine1'] = Affine(self.params['W1'], self.params['b1'])\n",
    "        self.layers['Relu1'] = Relu()\n",
    "        self.layers['Affine2'] = Affine(self.params['W2'], self.params['b2'])\n",
    "\n",
    "        self.lastLayer = SoftmaxWithLoss()\n",
    "        \n",
    "    def predict(self, x):\n",
    "        for layer in self.layers.values():\n",
    "            x = layer.forward(x)\n",
    "        \n",
    "        return x\n",
    "        \n",
    "    # x:入力データ, t:教師データ\n",
    "    def loss(self, x, t):\n",
    "        y = self.predict(x)\n",
    "        return self.lastLayer.forward(y, t)\n",
    "    \n",
    "    def accuracy(self, x, t):\n",
    "        y = self.predict(x)\n",
    "        y = np.argmax(y, axis=1)\n",
    "        if t.ndim != 1 : t = np.argmax(t, axis=1)\n",
    "        \n",
    "        accuracy = np.sum(y == t) / float(x.shape[0])\n",
    "        return accuracy\n",
    "        \n",
    "    # x:入力データ, t:教師データ\n",
    "    def gradient(self, x, t):\n",
    "        # forward\n",
    "        self.loss(x, t)\n",
    "\n",
    "        # backward\n",
    "        dout = 1\n",
    "        dout = self.lastLayer.backward(dout)\n",
    "        \n",
    "        layers = list(self.layers.values())\n",
    "        layers.reverse()\n",
    "        for layer in layers:\n",
    "            dout = layer.backward(dout)\n",
    "\n",
    "        # 設定\n",
    "        grads = {}\n",
    "        grads['W1'], grads['b1'] = self.layers['Affine1'].dW, self.layers['Affine1'].db\n",
    "        grads['W2'], grads['b2'] = self.layers['Affine2'].dW, self.layers['Affine2'].db\n",
    "\n",
    "        return grads"
   ]
  },
  {
   "cell_type": "markdown",
   "id": "c53ab207",
   "metadata": {},
   "source": [
    "### ニューラルネットワークのインスタンス化"
   ]
  },
  {
   "cell_type": "code",
   "execution_count": null,
   "id": "df18efc0",
   "metadata": {},
   "outputs": [],
   "source": [
    "network = TwoLayerNet(input_size=784, hidden_size=50, output_size=10)\n",
    "print(network)"
   ]
  },
  {
   "cell_type": "markdown",
   "id": "f1b8d8fb",
   "metadata": {},
   "source": [
    "### パラメータの定義"
   ]
  },
  {
   "cell_type": "code",
   "execution_count": null,
   "id": "3a3c3dac",
   "metadata": {},
   "outputs": [],
   "source": [
    "epoch_num = 20  # エポック数を設定する\n",
    "batch_size = 100  # バッチの数\n",
    "learning_rate = 0.1  # 学習係数"
   ]
  },
  {
   "cell_type": "markdown",
   "id": "71a20711",
   "metadata": {},
   "source": [
    "### ミニバッチの学習"
   ]
  },
  {
   "cell_type": "code",
   "execution_count": null,
   "id": "13161b63",
   "metadata": {},
   "outputs": [],
   "source": [
    "train_loss_list = []\n",
    "train_acc_list = [0.0]\n",
    "test_acc_list = [0.0]\n",
    "\n",
    "train_size = x_train.shape[0]  # 訓練データの数\n",
    "iter_per_epoch = max(int(train_size / batch_size), 1)  # エポック毎の繰り返しの回数\n",
    "iters_num = iter_per_epoch * epoch_num  # 全体の繰り返しの回数\n",
    "\n",
    "for i in range(iters_num):\n",
    "    batch_mask = np.random.choice(train_size, batch_size)\n",
    "    x_batch = x_train[batch_mask]\n",
    "    t_batch = t_train[batch_mask]\n",
    "    \n",
    "    # 勾配の計算\n",
    "    grad = network.gradient(x_batch, t_batch)\n",
    "    \n",
    "    # パラメータの更新\n",
    "    for key in ('W1', 'b1', 'W2', 'b2'):\n",
    "        network.params[key] -= learning_rate * grad[key]\n",
    "    \n",
    "    loss = network.loss(x_batch, t_batch)\n",
    "    train_loss_list.append(loss)\n",
    "    \n",
    "    if (i + 1) % iter_per_epoch == 0:\n",
    "        epoch_count = int((i + 1) / iter_per_epoch)\n",
    "        #print(f'epoch({epoch_count}) loss = {train_loss_list[-1]}')\n",
    "        train_acc = network.accuracy(x_train, t_train)\n",
    "        test_acc = network.accuracy(x_test, t_test)\n",
    "        train_acc_list.append(train_acc)\n",
    "        test_acc_list.append(test_acc)\n",
    "        print(f'epoch({epoch_count}) accuracy(train, test) = ({train_acc}, {test_acc})')\n",
    "\n",
    "print('Done!')"
   ]
  },
  {
   "cell_type": "markdown",
   "id": "3357d344",
   "metadata": {},
   "source": [
    "### 損失関数の推移"
   ]
  },
  {
   "cell_type": "code",
   "execution_count": null,
   "id": "254d9d0f",
   "metadata": {},
   "outputs": [],
   "source": [
    "# グラフの描画\n",
    "x = np.arange(len(train_loss_list))\n",
    "plt.plot(x, train_loss_list, label='train loss')\n",
    "plt.xlabel('batchs')\n",
    "plt.ylabel('loss')\n",
    "plt.title('loss by batchs')\n",
    "plt.legend(loc='upper right')\n",
    "plt.show()"
   ]
  },
  {
   "cell_type": "markdown",
   "id": "632bd5e4",
   "metadata": {},
   "source": [
    "### 認識精度の推移"
   ]
  },
  {
   "cell_type": "code",
   "execution_count": null,
   "id": "a6ce5f21",
   "metadata": {},
   "outputs": [],
   "source": [
    "# グラフの描画\n",
    "x = np.arange(len(train_acc_list))\n",
    "plt.plot(x, train_acc_list, label='train acc', marker='o')\n",
    "plt.plot(x, test_acc_list, label='test acc', linestyle='--', marker='^')\n",
    "plt.xlabel('epochs')\n",
    "plt.ylabel('accuracy')\n",
    "plt.title('accuracy by epochs')\n",
    "plt.ylim(0, 1.0)\n",
    "plt.legend(loc='lower right')\n",
    "plt.show()"
   ]
  },
  {
   "cell_type": "markdown",
   "id": "ed96fa49",
   "metadata": {},
   "source": [
    "#### 【オプション】テストの結果"
   ]
  },
  {
   "cell_type": "code",
   "execution_count": null,
   "id": "eb5653a1",
   "metadata": {},
   "outputs": [],
   "source": [
    "# テストの実行\n",
    "test_predict = network.predict(x_test)\n",
    "print(test_predict.shape)\n",
    "for index in range(3):\n",
    "    print(f'index = {index}')\n",
    "    print(test_predict[index])\n",
    "    print(t_test[index])"
   ]
  },
  {
   "cell_type": "markdown",
   "id": "1bef472c",
   "metadata": {},
   "source": [
    "#### 【オプション】エラー結果の確認"
   ]
  },
  {
   "cell_type": "code",
   "execution_count": null,
   "id": "1c057cfb",
   "metadata": {},
   "outputs": [],
   "source": [
    "# エラー結果の要素を抽出\n",
    "index_error = np.argmax(test_predict, axis=1) != np.argmax(t_test, axis=1)\n",
    "error_list = np.arange(len(test_predict))[index_error]\n",
    "print(f'error rate = {len(error_list) / len(test_predict) * 100}[%]',\n",
    "      f'(num = {len(error_list)}/{len(test_predict)})')\n",
    "\n",
    "offset = 0\n",
    "# 画像を表示\n",
    "figure = plt.figure(figsize=(12, 2))\n",
    "rows, cols = 1, 6\n",
    "for i in range(rows * cols):\n",
    "    index = error_list[offset + i]\n",
    "    img, label_t, label_y = x_test[index], t_test[index].argmax(), test_predict[index].argmax()\n",
    "    figure.add_subplot(rows, cols, i + 1)\n",
    "    plt.title(f'{label_y} (t={label_t})')\n",
    "    plt.axis('off')\n",
    "    img = img.reshape(28, 28)  # 784 -> 28x28 に変換\n",
    "    plt.imshow(img, cmap='gray')\n",
    "plt.show()\n",
    "print(test_predict[error_list[offset:offset + rows * cols]])"
   ]
  }
 ],
 "metadata": {
  "kernelspec": {
   "display_name": "Python 3 (ipykernel)",
   "language": "python",
   "name": "python3"
  },
  "language_info": {
   "codemirror_mode": {
    "name": "ipython",
    "version": 3
   },
   "file_extension": ".py",
   "mimetype": "text/x-python",
   "name": "python",
   "nbconvert_exporter": "python",
   "pygments_lexer": "ipython3",
   "version": "3.9.6"
  }
 },
 "nbformat": 4,
 "nbformat_minor": 5
}
