{
 "cells": [
  {
   "cell_type": "markdown",
   "id": "e17e0f98",
   "metadata": {},
   "source": [
    "# 2層のニューラルネットワーク（レイヤの実装）"
   ]
  },
  {
   "cell_type": "code",
   "execution_count": 30,
   "id": "e1a0a4f1",
   "metadata": {},
   "outputs": [],
   "source": [
    "import numpy as np\n",
    "import matplotlib.pyplot as plt\n",
    "from dataset.mnist import load_mnist\n",
    "from collections import OrderedDict"
   ]
  },
  {
   "cell_type": "markdown",
   "id": "dc803d8a",
   "metadata": {},
   "source": [
    "### ソフトマックス関数（出力層：分類問題）\n",
    "$ y_k = \\frac{exp(a_k)}{\\sum_{i=1}^{n}exp(a_i)} $"
   ]
  },
  {
   "cell_type": "code",
   "execution_count": 31,
   "id": "594552ce",
   "metadata": {},
   "outputs": [],
   "source": [
    "def softmax(x):\n",
    "    x = x - np.max(x, axis=-1, keepdims=True)  # オーバーフロー対策\n",
    "    return np.exp(x) / np.sum(np.exp(x), axis=-1, keepdims=True)"
   ]
  },
  {
   "cell_type": "markdown",
   "id": "fd828a12",
   "metadata": {},
   "source": [
    "### 交差エントロピー誤差（損失関数）\n",
    "$ E = -\\sum_{k}^{n}t_k log(y_k) $"
   ]
  },
  {
   "cell_type": "code",
   "execution_count": 32,
   "id": "17c3f217",
   "metadata": {},
   "outputs": [],
   "source": [
    "def cross_entropy_error(y, t):\n",
    "    if y.ndim == 1:\n",
    "        t = t.reshape(1, t.size)\n",
    "        y = y.reshape(1, y.size)\n",
    "        \n",
    "    # 教師データがone-hot-vectorの場合、正解ラベルのインデックスに変換\n",
    "    if t.size == y.size:\n",
    "        t = t.argmax(axis=1)\n",
    "             \n",
    "    batch_size = y.shape[0]\n",
    "    return -np.sum(np.log(y[np.arange(batch_size), t] + 1e-7)) / batch_size"
   ]
  },
  {
   "cell_type": "markdown",
   "id": "d57950cf",
   "metadata": {},
   "source": [
    "### Affine レイヤ（全結合層）"
   ]
  },
  {
   "cell_type": "code",
   "execution_count": 33,
   "id": "ab30c1bf",
   "metadata": {},
   "outputs": [],
   "source": [
    "class Affine:\n",
    "    def __init__(self, W, b):\n",
    "        self.W =W\n",
    "        self.b = b\n",
    "        \n",
    "        self.x = None\n",
    "        self.original_x_shape = None\n",
    "        # 重み・バイアスパラメータの微分\n",
    "        self.dW = None\n",
    "        self.db = None\n",
    "\n",
    "    def forward(self, x):\n",
    "        # テンソル対応\n",
    "        self.original_x_shape = x.shape\n",
    "        x = x.reshape(x.shape[0], -1)\n",
    "        self.x = x\n",
    "\n",
    "        out = np.dot(self.x, self.W) + self.b\n",
    "\n",
    "        return out\n",
    "\n",
    "    def backward(self, dout):\n",
    "        dx = np.dot(dout, self.W.T)\n",
    "        self.dW = np.dot(self.x.T, dout)\n",
    "        self.db = np.sum(dout, axis=0)\n",
    "        \n",
    "        dx = dx.reshape(*self.original_x_shape)  # 入力データの形状に戻す（テンソル対応）\n",
    "        return dx"
   ]
  },
  {
   "cell_type": "markdown",
   "id": "3f5224b6",
   "metadata": {},
   "source": [
    "### ReLU レイヤ（活性化関数）\n",
    "$ y = \\begin{cases}\n",
    "          x \\quad (x > 0) \\\\\n",
    "          0 \\quad (x \\leqq 0) \\\\\n",
    "      \\end{cases} $"
   ]
  },
  {
   "cell_type": "code",
   "execution_count": 34,
   "id": "b8cf0c68",
   "metadata": {},
   "outputs": [],
   "source": [
    "class Relu:\n",
    "    def __init__(self):\n",
    "        self.mask = None\n",
    "\n",
    "    def forward(self, x):\n",
    "        self.mask = (x <= 0)\n",
    "        out = x.copy()\n",
    "        out[self.mask] = 0\n",
    "\n",
    "        return out\n",
    "\n",
    "    def backward(self, dout):\n",
    "        dout[self.mask] = 0\n",
    "        dx = dout\n",
    "\n",
    "        return dx"
   ]
  },
  {
   "cell_type": "markdown",
   "id": "16f7efae",
   "metadata": {},
   "source": [
    "### Softmax-with-Loss レイヤ（損失関数）\n",
    "$ L = -\\sum_{k}^{n}t_k log(\\frac{exp(a_k)}{\\sum_{i}^{n}exp(a_i)}) $"
   ]
  },
  {
   "cell_type": "code",
   "execution_count": 35,
   "id": "89d655aa",
   "metadata": {},
   "outputs": [],
   "source": [
    "class SoftmaxWithLoss:\n",
    "    def __init__(self):\n",
    "        self.loss = None\n",
    "        self.y = None # softmaxの出力\n",
    "        self.t = None # 教師データ\n",
    "\n",
    "    def forward(self, x, t):\n",
    "        self.t = t\n",
    "        self.y = softmax(x)\n",
    "        self.loss = cross_entropy_error(self.y, self.t)\n",
    "        \n",
    "        return self.loss\n",
    "\n",
    "    def backward(self, dout=1):\n",
    "        batch_size = self.t.shape[0]\n",
    "        if self.t.size == self.y.size: # 教師データがone-hot-vectorの場合\n",
    "            dx = (self.y - self.t) / batch_size\n",
    "        else:\n",
    "            dx = self.y.copy()\n",
    "            dx[np.arange(batch_size), self.t] -= 1\n",
    "            dx = dx / batch_size\n",
    "        \n",
    "        return dx"
   ]
  },
  {
   "cell_type": "markdown",
   "id": "9f3fdee6",
   "metadata": {},
   "source": [
    "### MNIST データセット"
   ]
  },
  {
   "cell_type": "code",
   "execution_count": 36,
   "id": "0551a485",
   "metadata": {},
   "outputs": [
    {
     "name": "stdout",
     "output_type": "stream",
     "text": [
      "x_train.shape [N, H * W]: (60000, 784)\n",
      "t_train.shape: (60000, 10) float64\n"
     ]
    }
   ],
   "source": [
    "# データの読み込み\n",
    "(x_train, t_train), (x_test, t_test) = load_mnist(normalize=True, one_hot_label=True)\n",
    "print(\"x_train.shape [N, H * W]:\", x_train.shape)\n",
    "print(\"t_train.shape:\", t_train.shape, t_train.dtype)"
   ]
  },
  {
   "cell_type": "markdown",
   "id": "68787ab6",
   "metadata": {},
   "source": [
    "#### 【オプション】入力データの確認"
   ]
  },
  {
   "cell_type": "code",
   "execution_count": 37,
   "id": "1865dd29",
   "metadata": {},
   "outputs": [
    {
     "data": {
      "image/png": "[encoded data removed]",
      "text/plain": [
       "<Figure size 864x288 with 12 Axes>"
      ]
     },
     "metadata": {
      "needs_background": "light"
     },
     "output_type": "display_data"
    },
    {
     "name": "stdout",
     "output_type": "stream",
     "text": [
      "[[0. 0. 0. 0. 0. 1. 0. 0. 0. 0.]\n",
      " [1. 0. 0. 0. 0. 0. 0. 0. 0. 0.]\n",
      " [0. 0. 0. 0. 1. 0. 0. 0. 0. 0.]\n",
      " [0. 1. 0. 0. 0. 0. 0. 0. 0. 0.]\n",
      " [0. 0. 0. 0. 0. 0. 0. 0. 0. 1.]\n",
      " [0. 0. 1. 0. 0. 0. 0. 0. 0. 0.]\n",
      " [0. 1. 0. 0. 0. 0. 0. 0. 0. 0.]\n",
      " [0. 0. 0. 1. 0. 0. 0. 0. 0. 0.]\n",
      " [0. 1. 0. 0. 0. 0. 0. 0. 0. 0.]\n",
      " [0. 0. 0. 0. 1. 0. 0. 0. 0. 0.]\n",
      " [0. 0. 0. 1. 0. 0. 0. 0. 0. 0.]\n",
      " [0. 0. 0. 0. 0. 1. 0. 0. 0. 0.]]\n"
     ]
    }
   ],
   "source": [
    "# 画像を表示\n",
    "figure = plt.figure(figsize=(12, 4))\n",
    "rows, cols = 2, 6\n",
    "for i in range(rows * cols):\n",
    "    img, label = x_train[i], t_train[i].argmax()\n",
    "    figure.add_subplot(rows, cols, i + 1)\n",
    "    plt.title(f'{label} (idx={i})')\n",
    "    plt.axis('off')\n",
    "    img = img.reshape(28, 28)  # 784 -> 28x28 に変換\n",
    "    plt.imshow(img, cmap='gray')\n",
    "plt.show()\n",
    "print(t_train[:rows * cols])"
   ]
  },
  {
   "cell_type": "markdown",
   "id": "95cf47be",
   "metadata": {},
   "source": [
    "### ニューラルネットワークの定義"
   ]
  },
  {
   "cell_type": "code",
   "execution_count": 38,
   "id": "46fcec1d",
   "metadata": {},
   "outputs": [],
   "source": [
    "class TwoLayerNet:\n",
    "\n",
    "    def __init__(self, input_size, hidden_size, output_size, weight_init_std = 0.01):\n",
    "        # 重みの初期化\n",
    "        self.params = {}\n",
    "        self.params['W1'] = weight_init_std * np.random.randn(input_size, hidden_size)\n",
    "        self.params['b1'] = np.zeros(hidden_size)\n",
    "        self.params['W2'] = weight_init_std * np.random.randn(hidden_size, output_size) \n",
    "        self.params['b2'] = np.zeros(output_size)\n",
    "\n",
    "        # レイヤの生成\n",
    "        self.layers = OrderedDict()\n",
    "        self.layers['Affine1'] = Affine(self.params['W1'], self.params['b1'])\n",
    "        self.layers['Relu1'] = Relu()\n",
    "        self.layers['Affine2'] = Affine(self.params['W2'], self.params['b2'])\n",
    "\n",
    "        self.lastLayer = SoftmaxWithLoss()\n",
    "        \n",
    "    def predict(self, x):\n",
    "        for layer in self.layers.values():\n",
    "            x = layer.forward(x)\n",
    "        \n",
    "        return x\n",
    "        \n",
    "    # x:入力データ, t:教師データ\n",
    "    def loss(self, x, t):\n",
    "        y = self.predict(x)\n",
    "        return self.lastLayer.forward(y, t)\n",
    "    \n",
    "    def accuracy(self, x, t):\n",
    "        y = self.predict(x)\n",
    "        y = np.argmax(y, axis=1)\n",
    "        if t.ndim != 1 : t = np.argmax(t, axis=1)\n",
    "        \n",
    "        accuracy = np.sum(y == t) / float(x.shape[0])\n",
    "        return accuracy\n",
    "        \n",
    "    # x:入力データ, t:教師データ\n",
    "    def gradient(self, x, t):\n",
    "        # forward\n",
    "        self.loss(x, t)\n",
    "\n",
    "        # backward\n",
    "        dout = 1\n",
    "        dout = self.lastLayer.backward(dout)\n",
    "        \n",
    "        layers = list(self.layers.values())\n",
    "        layers.reverse()\n",
    "        for layer in layers:\n",
    "            dout = layer.backward(dout)\n",
    "\n",
    "        # 設定\n",
    "        grads = {}\n",
    "        grads['W1'], grads['b1'] = self.layers['Affine1'].dW, self.layers['Affine1'].db\n",
    "        grads['W2'], grads['b2'] = self.layers['Affine2'].dW, self.layers['Affine2'].db\n",
    "\n",
    "        return grads"
   ]
  },
  {
   "cell_type": "markdown",
   "id": "c53ab207",
   "metadata": {},
   "source": [
    "### ニューラルネットワークのインスタンス化"
   ]
  },
  {
   "cell_type": "code",
   "execution_count": 39,
   "id": "df18efc0",
   "metadata": {},
   "outputs": [
    {
     "name": "stdout",
     "output_type": "stream",
     "text": [
      "<__main__.TwoLayerNet object at 0x0000024A57020AC0>\n"
     ]
    }
   ],
   "source": [
    "network = TwoLayerNet(input_size=784, hidden_size=50, output_size=10)\n",
    "print(network)"
   ]
  },
  {
   "cell_type": "markdown",
   "id": "f1b8d8fb",
   "metadata": {},
   "source": [
    "### パラメータの定義"
   ]
  },
  {
   "cell_type": "code",
   "execution_count": 40,
   "id": "3a3c3dac",
   "metadata": {},
   "outputs": [],
   "source": [
    "epoch_num = 20  # エポック数を設定する\n",
    "batch_size = 100  # バッチの数\n",
    "learning_rate = 0.1  # 学習係数"
   ]
  },
  {
   "cell_type": "markdown",
   "id": "71a20711",
   "metadata": {},
   "source": [
    "### ミニバッチの学習"
   ]
  },
  {
   "cell_type": "code",
   "execution_count": 41,
   "id": "13161b63",
   "metadata": {},
   "outputs": [
    {
     "name": "stdout",
     "output_type": "stream",
     "text": [
      "epoch(1) accuracy(train, test) = (0.9023833333333333, 0.9092)\n",
      "epoch(2) accuracy(train, test) = (0.92255, 0.9253)\n",
      "epoch(3) accuracy(train, test) = (0.9334833333333333, 0.9323)\n",
      "epoch(4) accuracy(train, test) = (0.9422166666666667, 0.9405)\n",
      "epoch(5) accuracy(train, test) = (0.94805, 0.9477)\n",
      "epoch(6) accuracy(train, test) = (0.9542, 0.9516)\n",
      "epoch(7) accuracy(train, test) = (0.9598166666666667, 0.9553)\n",
      "epoch(8) accuracy(train, test) = (0.96225, 0.9584)\n",
      "epoch(9) accuracy(train, test) = (0.9654166666666667, 0.9608)\n",
      "epoch(10) accuracy(train, test) = (0.96745, 0.9627)\n",
      "epoch(11) accuracy(train, test) = (0.9706833333333333, 0.9641)\n",
      "epoch(12) accuracy(train, test) = (0.97235, 0.9649)\n",
      "epoch(13) accuracy(train, test) = (0.9742666666666666, 0.9662)\n",
      "epoch(14) accuracy(train, test) = (0.9738833333333333, 0.9664)\n",
      "epoch(15) accuracy(train, test) = (0.9764166666666667, 0.9687)\n",
      "epoch(16) accuracy(train, test) = (0.9782166666666666, 0.9688)\n",
      "epoch(17) accuracy(train, test) = (0.9788166666666667, 0.9691)\n",
      "epoch(18) accuracy(train, test) = (0.9802, 0.9698)\n",
      "epoch(19) accuracy(train, test) = (0.9815, 0.9707)\n",
      "epoch(20) accuracy(train, test) = (0.9827833333333333, 0.9729)\n",
      "Done!\n"
     ]
    }
   ],
   "source": [
    "train_loss_list = []\n",
    "train_acc_list = [0.0]\n",
    "test_acc_list = [0.0]\n",
    "\n",
    "train_size = x_train.shape[0]  # 訓練データの数\n",
    "iter_per_epoch = max(int(train_size / batch_size), 1)  # エポック毎の繰り返しの回数\n",
    "iters_num = iter_per_epoch * epoch_num  # 全体の繰り返しの回数\n",
    "\n",
    "for i in range(iters_num):\n",
    "    batch_mask = np.random.choice(train_size, batch_size)\n",
    "    x_batch = x_train[batch_mask]\n",
    "    t_batch = t_train[batch_mask]\n",
    "    \n",
    "    # 勾配の計算\n",
    "    grad = network.gradient(x_batch, t_batch)\n",
    "    \n",
    "    # パラメータの更新\n",
    "    for key in ('W1', 'b1', 'W2', 'b2'):\n",
    "        network.params[key] -= learning_rate * grad[key]\n",
    "    \n",
    "    loss = network.loss(x_batch, t_batch)\n",
    "    train_loss_list.append(loss)\n",
    "    \n",
    "    if (i + 1) % iter_per_epoch == 0:\n",
    "        epoch_count = int((i + 1) / iter_per_epoch)\n",
    "        #print(f'epoch({epoch_count}) loss = {train_loss_list[-1]}')\n",
    "        train_acc = network.accuracy(x_train, t_train)\n",
    "        test_acc = network.accuracy(x_test, t_test)\n",
    "        train_acc_list.append(train_acc)\n",
    "        test_acc_list.append(test_acc)\n",
    "        print(f'epoch({epoch_count}) accuracy(train, test) = ({train_acc}, {test_acc})')\n",
    "\n",
    "print('Done!')"
   ]
  },
  {
   "cell_type": "markdown",
   "id": "3357d344",
   "metadata": {},
   "source": [
    "### 損失関数の推移"
   ]
  },
  {
   "cell_type": "code",
   "execution_count": 42,
   "id": "254d9d0f",
   "metadata": {},
   "outputs": [
    {
     "data": {
      "image/png": "[encoded data removed]",
      "text/plain": [
       "<Figure size 432x288 with 1 Axes>"
      ]
     },
     "metadata": {
      "needs_background": "light"
     },
     "output_type": "display_data"
    }
   ],
   "source": [
    "# グラフの描画\n",
    "x = np.arange(len(train_loss_list))\n",
    "plt.plot(x, train_loss_list, label='train loss')\n",
    "plt.xlabel('batchs')\n",
    "plt.ylabel('loss')\n",
    "plt.title('loss by batchs')\n",
    "plt.legend(loc='upper right')\n",
    "plt.show()"
   ]
  },
  {
   "cell_type": "markdown",
   "id": "632bd5e4",
   "metadata": {},
   "source": [
    "### 認識精度の推移"
   ]
  },
  {
   "cell_type": "code",
   "execution_count": 43,
   "id": "a6ce5f21",
   "metadata": {},
   "outputs": [
    {
     "data": {
      "image/png": "[encoded data removed]",
      "text/plain": [
       "<Figure size 432x288 with 1 Axes>"
      ]
     },
     "metadata": {
      "needs_background": "light"
     },
     "output_type": "display_data"
    }
   ],
   "source": [
    "# グラフの描画\n",
    "x = np.arange(len(train_acc_list))\n",
    "plt.plot(x, train_acc_list, label='train acc', marker='o')\n",
    "plt.plot(x, test_acc_list, label='test acc', linestyle='--', marker='^')\n",
    "plt.xlabel('epochs')\n",
    "plt.ylabel('accuracy')\n",
    "plt.title('accuracy by epochs')\n",
    "plt.ylim(0, 1.0)\n",
    "plt.legend(loc='lower right')\n",
    "plt.show()"
   ]
  },
  {
   "cell_type": "markdown",
   "id": "ed96fa49",
   "metadata": {},
   "source": [
    "#### 【オプション】テストの結果"
   ]
  },
  {
   "cell_type": "code",
   "execution_count": 44,
   "id": "eb5653a1",
   "metadata": {},
   "outputs": [
    {
     "name": "stdout",
     "output_type": "stream",
     "text": [
      "(10000, 10)\n",
      "index = 0\n",
      "[ -1.16963407  -3.81086093   4.86445898   5.66410241  -5.34978022\n",
      "  -0.25115171 -14.04943677  12.19054103  -0.03513872   2.07288755]\n",
      "[0. 0. 0. 0. 0. 0. 0. 1. 0. 0.]\n",
      "index = 1\n",
      "[  0.25537474   5.81988536  14.9199197    5.91975131 -17.59253334\n",
      "   4.08667596   3.47880752  -9.94021713   4.35569099 -11.71661227]\n",
      "[0. 0. 1. 0. 0. 0. 0. 0. 0. 0.]\n",
      "index = 2\n",
      "[-6.76819424  7.15434257  1.66412619 -1.20781993 -1.61054143  0.17451899\n",
      " -0.05136384  0.85442948  2.33653417 -2.68321622]\n",
      "[0. 1. 0. 0. 0. 0. 0. 0. 0. 0.]\n"
     ]
    }
   ],
   "source": [
    "# テストの実行\n",
    "test_predict = network.predict(x_test)\n",
    "print(test_predict.shape)\n",
    "for index in range(3):\n",
    "    print(f'index = {index}')\n",
    "    print(test_predict[index])\n",
    "    print(t_test[index])"
   ]
  },
  {
   "cell_type": "markdown",
   "id": "1bef472c",
   "metadata": {},
   "source": [
    "#### 【オプション】エラー結果の確認"
   ]
  },
  {
   "cell_type": "code",
   "execution_count": 45,
   "id": "1c057cfb",
   "metadata": {},
   "outputs": [
    {
     "name": "stdout",
     "output_type": "stream",
     "text": [
      "error rate = 2.71[%] (num = 271/10000)\n"
     ]
    },
    {
     "data": {
      "image/png": "[encoded data removed]",
      "text/plain": [
       "<Figure size 864x144 with 6 Axes>"
      ]
     },
     "metadata": {
      "needs_background": "light"
     },
     "output_type": "display_data"
    },
    {
     "name": "stdout",
     "output_type": "stream",
     "text": [
      "[[ -1.73000275  -2.46908054   7.69777113   0.02161104   3.31815155\n",
      "    0.08966576   4.80290098  -1.08565458  -3.22688081  -7.57928819]\n",
      " [  9.17830038  -7.45540102  -3.54090006  -0.63175777  -2.83716809\n",
      "    4.516501     5.68419304   0.80082426  -3.4143527   -2.4132953 ]\n",
      " [ -3.49796447   0.14973955   6.69012855   4.79336243  -9.51944442\n",
      "   -2.75430344  -8.83723559   9.22617975   3.65469311   0.19187554]\n",
      " [ -5.27198448   3.44634972  -3.07519104   7.29422435  -4.36716466\n",
      "    7.20478962   0.24114574  -3.7274095   -0.17489366  -2.12585357]\n",
      " [ -3.03575184   1.661325     3.63397939   5.63810227  -3.77323969\n",
      "   -3.88459997  -5.06626503   6.95703929  -2.6623486    0.31213838]\n",
      " [  9.40407509 -10.69672712  -2.80083035  -0.22704115  -3.5878873\n",
      "    3.96870554   7.1855987    1.97075028  -3.67698634  -1.66629453]]\n"
     ]
    }
   ],
   "source": [
    "# エラー結果の要素を抽出\n",
    "index_error = np.argmax(test_predict, axis=1) != np.argmax(t_test, axis=1)\n",
    "error_list = np.arange(len(test_predict))[index_error]\n",
    "print(f'error rate = {len(error_list) / len(test_predict) * 100}[%]',\n",
    "      f'(num = {len(error_list)}/{len(test_predict)})')\n",
    "\n",
    "offset = 0\n",
    "# 画像を表示\n",
    "figure = plt.figure(figsize=(12, 2))\n",
    "rows, cols = 1, 6\n",
    "for i in range(rows * cols):\n",
    "    index = error_list[offset + i]\n",
    "    img, label_t, label_y = x_test[index], t_test[index].argmax(), test_predict[index].argmax()\n",
    "    figure.add_subplot(rows, cols, i + 1)\n",
    "    plt.title(f'{label_y} (t={label_t})')\n",
    "    plt.axis('off')\n",
    "    img = img.reshape(28, 28)  # 784 -> 28x28 に変換\n",
    "    plt.imshow(img, cmap='gray')\n",
    "plt.show()\n",
    "print(test_predict[error_list[offset:offset + rows * cols]])"
   ]
  },
  {
   "cell_type": "code",
   "execution_count": null,
   "id": "dbade79a",
   "metadata": {},
   "outputs": [],
   "source": []
  }
 ],
 "metadata": {
  "kernelspec": {
   "display_name": "Python 3 (ipykernel)",
   "language": "python",
   "name": "python3"
  },
  "language_info": {
   "codemirror_mode": {
    "name": "ipython",
    "version": 3
   },
   "file_extension": ".py",
   "mimetype": "text/x-python",
   "name": "python",
   "nbconvert_exporter": "python",
   "pygments_lexer": "ipython3",
   "version": "3.9.6"
  }
 },
 "nbformat": 4,
 "nbformat_minor": 5
}
