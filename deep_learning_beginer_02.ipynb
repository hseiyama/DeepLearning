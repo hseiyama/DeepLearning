{
 "cells": [
  {
   "cell_type": "markdown",
   "id": "dd9f4f52",
   "metadata": {},
   "source": [
    "# データの取り扱い\n",
    "PyTorchではデータを取り扱う際に、基本的な要素が2つ存在します。\n",
    "torch.utils.data.Datasetとtorch.utils.data.DataLoaderです。"
   ]
  },
  {
   "cell_type": "code",
   "execution_count": 1,
   "id": "c76c0f40",
   "metadata": {},
   "outputs": [],
   "source": [
    "%matplotlib inline"
   ]
  },
  {
   "cell_type": "code",
   "execution_count": 2,
   "id": "3a62fcd3",
   "metadata": {},
   "outputs": [],
   "source": [
    "import torch\n",
    "from torch import nn\n",
    "from torch.utils.data import DataLoader\n",
    "from torchvision import datasets\n",
    "from torchvision.transforms import ToTensor, Lambda, Compose\n",
    "import matplotlib.pyplot as plt"
   ]
  },
  {
   "cell_type": "markdown",
   "id": "f9d4cd17",
   "metadata": {},
   "source": [
    "torchvision.datasets モジュールには、画像データの Dataset オブジェクトがたくさん用意されています。"
   ]
  },
  {
   "cell_type": "code",
   "execution_count": 3,
   "id": "18837b51",
   "metadata": {},
   "outputs": [
    {
     "name": "stdout",
     "output_type": "stream",
     "text": [
      "Downloading http://fashion-mnist.s3-website.eu-central-1.amazonaws.com/train-images-idx3-ubyte.gz\n",
      "Downloading http://fashion-mnist.s3-website.eu-central-1.amazonaws.com/train-images-idx3-ubyte.gz to data\\FashionMNIST\\raw\\train-images-idx3-ubyte.gz\n"
     ]
    },
    {
     "data": {
      "application/vnd.jupyter.widget-view+json": {
       "model_id": "6a8c7ed9f2534980889d4d7601e7c865",
       "version_major": 2,
       "version_minor": 0
      },
      "text/plain": [
       "  0%|          | 0/26421880 [00:00<?, ?it/s]"
      ]
     },
     "metadata": {},
     "output_type": "display_data"
    },
    {
     "name": "stdout",
     "output_type": "stream",
     "text": [
      "Extracting data\\FashionMNIST\\raw\\train-images-idx3-ubyte.gz to data\\FashionMNIST\\raw\n",
      "\n",
      "Downloading http://fashion-mnist.s3-website.eu-central-1.amazonaws.com/train-labels-idx1-ubyte.gz\n",
      "Downloading http://fashion-mnist.s3-website.eu-central-1.amazonaws.com/train-labels-idx1-ubyte.gz to data\\FashionMNIST\\raw\\train-labels-idx1-ubyte.gz\n"
     ]
    },
    {
     "data": {
      "application/vnd.jupyter.widget-view+json": {
       "model_id": "bd79041b4dcb41d09623ec54182821a5",
       "version_major": 2,
       "version_minor": 0
      },
      "text/plain": [
       "  0%|          | 0/29515 [00:00<?, ?it/s]"
      ]
     },
     "metadata": {},
     "output_type": "display_data"
    },
    {
     "name": "stdout",
     "output_type": "stream",
     "text": [
      "Extracting data\\FashionMNIST\\raw\\train-labels-idx1-ubyte.gz to data\\FashionMNIST\\raw\n",
      "\n",
      "Downloading http://fashion-mnist.s3-website.eu-central-1.amazonaws.com/t10k-images-idx3-ubyte.gz\n",
      "Downloading http://fashion-mnist.s3-website.eu-central-1.amazonaws.com/t10k-images-idx3-ubyte.gz to data\\FashionMNIST\\raw\\t10k-images-idx3-ubyte.gz\n"
     ]
    },
    {
     "data": {
      "application/vnd.jupyter.widget-view+json": {
       "model_id": "5643a810104c46ce8dbe91393dd9d509",
       "version_major": 2,
       "version_minor": 0
      },
      "text/plain": [
       "  0%|          | 0/4422102 [00:00<?, ?it/s]"
      ]
     },
     "metadata": {},
     "output_type": "display_data"
    },
    {
     "name": "stdout",
     "output_type": "stream",
     "text": [
      "Extracting data\\FashionMNIST\\raw\\t10k-images-idx3-ubyte.gz to data\\FashionMNIST\\raw\n",
      "\n",
      "Downloading http://fashion-mnist.s3-website.eu-central-1.amazonaws.com/t10k-labels-idx1-ubyte.gz\n",
      "Downloading http://fashion-mnist.s3-website.eu-central-1.amazonaws.com/t10k-labels-idx1-ubyte.gz to data\\FashionMNIST\\raw\\t10k-labels-idx1-ubyte.gz\n"
     ]
    },
    {
     "data": {
      "application/vnd.jupyter.widget-view+json": {
       "model_id": "1eea3c6df07c40b9b62bb48c61d1a322",
       "version_major": 2,
       "version_minor": 0
      },
      "text/plain": [
       "  0%|          | 0/5148 [00:00<?, ?it/s]"
      ]
     },
     "metadata": {},
     "output_type": "display_data"
    },
    {
     "name": "stdout",
     "output_type": "stream",
     "text": [
      "Extracting data\\FashionMNIST\\raw\\t10k-labels-idx1-ubyte.gz to data\\FashionMNIST\\raw\n",
      "\n"
     ]
    },
    {
     "name": "stderr",
     "output_type": "stream",
     "text": [
      "C:\\anaconda3\\lib\\site-packages\\torchvision\\datasets\\mnist.py:498: UserWarning: The given NumPy array is not writeable, and PyTorch does not support non-writeable tensors. This means you can write to the underlying (supposedly non-writeable) NumPy array using the tensor. You may want to copy the array to protect its data or make it writeable before converting it to a tensor. This type of warning will be suppressed for the rest of this program. (Triggered internally at  ..\\torch\\csrc\\utils\\tensor_numpy.cpp:180.)\n",
      "  return torch.from_numpy(parsed.astype(m[2], copy=False)).view(*s)\n"
     ]
    }
   ],
   "source": [
    "# 訓練データをdatasetsからダウンロード\n",
    "training_data = datasets.FashionMNIST(\n",
    "    root=\"data\",\n",
    "    train=True,\n",
    "    download=True,\n",
    "    transform=ToTensor(),\n",
    ")\n",
    "\n",
    "# テストデータをdatasetsからダウンロード\n",
    "test_data = datasets.FashionMNIST(\n",
    "    root=\"data\",\n",
    "    train=False,\n",
    "    download=True,\n",
    "    transform=ToTensor(),\n",
    ")"
   ]
  },
  {
   "cell_type": "markdown",
   "id": "0d0f4df3",
   "metadata": {},
   "source": [
    "以下では、バッチサイズを64と定義します。\n",
    "つまり、データローダの反復要素は、64個の特徴量とラベルから構成されるバッチを返すことになります。"
   ]
  },
  {
   "cell_type": "code",
   "execution_count": 5,
   "id": "cf9a0b64",
   "metadata": {},
   "outputs": [
    {
     "name": "stdout",
     "output_type": "stream",
     "text": [
      "Shape of X [N, C, H, W]:  torch.Size([64, 1, 28, 28])\n",
      "Shape of y:  torch.Size([64]) torch.int64\n"
     ]
    }
   ],
   "source": [
    "batch_size = 64\n",
    "\n",
    "# データローダーの作成\n",
    "train_dataloader = DataLoader(training_data, batch_size=batch_size)\n",
    "test_dataloader = DataLoader(test_data, batch_size=batch_size)\n",
    "\n",
    "for X, y in test_dataloader:\n",
    "    print(\"Shape of X [N, C, H, W]: \", X.shape)\n",
    "    print(\"Shape of y: \", y.shape, y.dtype)\n",
    "    break"
   ]
  },
  {
   "cell_type": "markdown",
   "id": "41175e46",
   "metadata": {},
   "source": [
    "# モデルの構築\n",
    "PyTorchでニューラルネットワークの形を定義する際には、nn.Moduleを継承します。"
   ]
  },
  {
   "cell_type": "code",
   "execution_count": 6,
   "id": "8c2eb427",
   "metadata": {},
   "outputs": [
    {
     "name": "stdout",
     "output_type": "stream",
     "text": [
      "Using cpu device\n",
      "NeuralNetwork(\n",
      "  (flatten): Flatten(start_dim=1, end_dim=-1)\n",
      "  (linear_relu_stack): Sequential(\n",
      "    (0): Linear(in_features=784, out_features=512, bias=True)\n",
      "    (1): ReLU()\n",
      "    (2): Linear(in_features=512, out_features=512, bias=True)\n",
      "    (3): ReLU()\n",
      "    (4): Linear(in_features=512, out_features=10, bias=True)\n",
      "    (5): ReLU()\n",
      "  )\n",
      ")\n"
     ]
    }
   ],
   "source": [
    "# 訓練に際して、可能であればGPU（cuda）を設定します。GPUが搭載されていない場合はCPUを使用します\n",
    "device = \"cuda\" if torch.cuda.is_available() else \"cpu\"\n",
    "print(\"Using {} device\".format(device))\n",
    "\n",
    "# modelを定義します\n",
    "class NeuralNetwork(nn.Module):\n",
    "    def __init__(self):\n",
    "        super(NeuralNetwork, self).__init__()\n",
    "        self.flatten = nn.Flatten()\n",
    "        self.linear_relu_stack = nn.Sequential(\n",
    "            nn.Linear(28*28, 512),\n",
    "            nn.ReLU(),\n",
    "            nn.Linear(512, 512),\n",
    "            nn.ReLU(),\n",
    "            nn.Linear(512, 10),\n",
    "            nn.ReLU()\n",
    "        )\n",
    "\n",
    "    def forward(self, x):\n",
    "        x = self.flatten(x)\n",
    "        logits = self.linear_relu_stack(x)\n",
    "        return logits\n",
    "\n",
    "model = NeuralNetwork().to(device)\n",
    "print(model)"
   ]
  },
  {
   "cell_type": "markdown",
   "id": "2d28317e",
   "metadata": {},
   "source": [
    "# モデルパラメータの最適化\n",
    "ニューラルネットワークモデルを訓練するためには、\n",
    "損失関数：loss functionと、最適化手法：optimizerが必要です。"
   ]
  },
  {
   "cell_type": "code",
   "execution_count": 8,
   "id": "b3998cdd",
   "metadata": {},
   "outputs": [],
   "source": [
    "loss_fn = nn.CrossEntropyLoss()\n",
    "optimizer = torch.optim.SGD(model.parameters(), lr=1e-3)"
   ]
  },
  {
   "cell_type": "markdown",
   "id": "91111a92",
   "metadata": {},
   "source": [
    "1回の訓練ループにおいてモデルは、まず訓練データのバッチに対して推論を実行して損失誤差を計算し、\n",
    "その後、損失誤差をバックプロパゲーションして、モデルパラメータを更新します。"
   ]
  },
  {
   "cell_type": "code",
   "execution_count": 9,
   "id": "6b38867d",
   "metadata": {},
   "outputs": [],
   "source": [
    "def train(dataloader, model, loss_fn, optimizer):\n",
    "    size = len(dataloader.dataset)\n",
    "    for batch, (X, y) in enumerate(dataloader):\n",
    "        X, y = X.to(device), y.to(device)\n",
    "        \n",
    "        # 損失誤差を計算\n",
    "        pred = model(X)\n",
    "        loss = loss_fn(pred, y)\n",
    "        \n",
    "        # バックプロパゲーション\n",
    "        optimizer.zero_grad()\n",
    "        loss.backward()\n",
    "        optimizer.step()\n",
    "\n",
    "        if batch % 100 == 0:\n",
    "            loss, current = loss.item(), batch * len(X)\n",
    "            print(f\"loss: {loss:>7f}  [{current:>5d}/{size:>5d}]\")"
   ]
  },
  {
   "cell_type": "markdown",
   "id": "e5a30ab3",
   "metadata": {},
   "source": [
    "また、モデルがうまく学習していることを確認するために、テストデータセットに対するモデルの性能も確認します。"
   ]
  },
  {
   "cell_type": "code",
   "execution_count": 10,
   "id": "cefdda51",
   "metadata": {},
   "outputs": [],
   "source": [
    "def test(dataloader, model):\n",
    "    size = len(dataloader.dataset)\n",
    "    model.eval()\n",
    "    test_loss, correct = 0, 0\n",
    "    with torch.no_grad():\n",
    "        for X, y in dataloader:\n",
    "            X, y = X.to(device), y.to(device)\n",
    "            pred = model(X)\n",
    "            test_loss += loss_fn(pred, y).item()\n",
    "            correct += (pred.argmax(1) == y).type(torch.float).sum().item()\n",
    "    test_loss /= size\n",
    "    correct /= size\n",
    "    print(f\"Test Error: \\n Accuracy: {(100*correct):>0.1f}%, Avg loss: {test_loss:>8f} \\n\")"
   ]
  },
  {
   "cell_type": "markdown",
   "id": "c1d3ec47",
   "metadata": {},
   "source": [
    "訓練プロセスでは複数イテレーションを実行します。"
   ]
  },
  {
   "cell_type": "code",
   "execution_count": 11,
   "id": "3e7fc1a9",
   "metadata": {},
   "outputs": [
    {
     "name": "stdout",
     "output_type": "stream",
     "text": [
      "Epoch 1\n",
      "-------------------------------\n",
      "loss: 2.303864  [    0/60000]\n",
      "loss: 2.302899  [ 6400/60000]\n",
      "loss: 2.286360  [12800/60000]\n",
      "loss: 2.291350  [19200/60000]\n",
      "loss: 2.276013  [25600/60000]\n",
      "loss: 2.259913  [32000/60000]\n",
      "loss: 2.256891  [38400/60000]\n",
      "loss: 2.238112  [44800/60000]\n",
      "loss: 2.246659  [51200/60000]\n",
      "loss: 2.243817  [57600/60000]\n",
      "Test Error: \n",
      " Accuracy: 43.1%, Avg loss: 0.035162 \n",
      "\n",
      "Epoch 2\n",
      "-------------------------------\n",
      "loss: 2.231855  [    0/60000]\n",
      "loss: 2.245013  [ 6400/60000]\n",
      "loss: 2.204699  [12800/60000]\n",
      "loss: 2.231269  [19200/60000]\n",
      "loss: 2.202425  [25600/60000]\n",
      "loss: 2.169513  [32000/60000]\n",
      "loss: 2.169956  [38400/60000]\n",
      "loss: 2.129831  [44800/60000]\n",
      "loss: 2.160489  [51200/60000]\n",
      "loss: 2.152254  [57600/60000]\n",
      "Test Error: \n",
      " Accuracy: 44.2%, Avg loss: 0.033731 \n",
      "\n",
      "Epoch 3\n",
      "-------------------------------\n",
      "loss: 2.135037  [    0/60000]\n",
      "loss: 2.160249  [ 6400/60000]\n",
      "loss: 2.083942  [12800/60000]\n",
      "loss: 2.135674  [19200/60000]\n",
      "loss: 2.076067  [25600/60000]\n",
      "loss: 2.029641  [32000/60000]\n",
      "loss: 2.032001  [38400/60000]\n",
      "loss: 1.962877  [44800/60000]\n",
      "loss: 2.028015  [51200/60000]\n",
      "loss: 2.008429  [57600/60000]\n",
      "Test Error: \n",
      " Accuracy: 44.3%, Avg loss: 0.031561 \n",
      "\n",
      "Epoch 4\n",
      "-------------------------------\n",
      "loss: 1.994322  [    0/60000]\n",
      "loss: 2.037126  [ 6400/60000]\n",
      "loss: 1.915435  [12800/60000]\n",
      "loss: 1.995939  [19200/60000]\n",
      "loss: 1.913955  [25600/60000]\n",
      "loss: 1.861636  [32000/60000]\n",
      "loss: 1.855169  [38400/60000]\n",
      "loss: 1.773790  [44800/60000]\n",
      "loss: 1.873898  [51200/60000]\n",
      "loss: 1.840672  [57600/60000]\n",
      "Test Error: \n",
      " Accuracy: 44.3%, Avg loss: 0.029250 \n",
      "\n",
      "Epoch 5\n",
      "-------------------------------\n",
      "loss: 1.846734  [    0/60000]\n",
      "loss: 1.919378  [ 6400/60000]\n",
      "loss: 1.764987  [12800/60000]\n",
      "loss: 1.856515  [19200/60000]\n",
      "loss: 1.778618  [25600/60000]\n",
      "loss: 1.728634  [32000/60000]\n",
      "loss: 1.691670  [38400/60000]\n",
      "loss: 1.629620  [44800/60000]\n",
      "loss: 1.740367  [51200/60000]\n",
      "loss: 1.695449  [57600/60000]\n",
      "Test Error: \n",
      " Accuracy: 45.4%, Avg loss: 0.027384 \n",
      "\n",
      "Done!\n"
     ]
    }
   ],
   "source": [
    "epochs = 5\n",
    "for t in range(epochs):\n",
    "    print(f\"Epoch {t+1}\\n-------------------------------\")\n",
    "    train(train_dataloader, model, loss_fn, optimizer)\n",
    "    test(test_dataloader, model)\n",
    "print(\"Done!\")"
   ]
  }
 ],
 "metadata": {
  "kernelspec": {
   "display_name": "Python 3",
   "language": "python",
   "name": "python3"
  },
  "language_info": {
   "codemirror_mode": {
    "name": "ipython",
    "version": 3
   },
   "file_extension": ".py",
   "mimetype": "text/x-python",
   "name": "python",
   "nbconvert_exporter": "python",
   "pygments_lexer": "ipython3",
   "version": "3.8.8"
  }
 },
 "nbformat": 4,
 "nbformat_minor": 5
}
