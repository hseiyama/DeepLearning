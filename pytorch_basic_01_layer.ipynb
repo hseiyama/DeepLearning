{
 "cells": [
  {
   "cell_type": "markdown",
   "id": "e95231ab",
   "metadata": {},
   "source": [
    "# PyTorch を利用した実装"
   ]
  },
  {
   "cell_type": "markdown",
   "id": "e72a2c8c",
   "metadata": {},
   "source": [
    "[![Open In Colab](https://colab.research.google.com/assets/colab-badge.svg)](http://colab.research.google.com/github/hseiyama/DeepLearning/blob/main/pytorch_basic_01_layer.ipynb)"
   ]
  },
  {
   "cell_type": "code",
   "execution_count": 40,
   "id": "e4acc762",
   "metadata": {},
   "outputs": [],
   "source": [
    "import torch\n",
    "from torch import nn\n",
    "from torch.utils.data import DataLoader\n",
    "from torchvision import datasets\n",
    "from torchvision.transforms import ToTensor\n",
    "import matplotlib.pyplot as plt"
   ]
  },
  {
   "cell_type": "markdown",
   "id": "67197fa6",
   "metadata": {},
   "source": [
    "### パラメータの定義"
   ]
  },
  {
   "cell_type": "code",
   "execution_count": 41,
   "id": "383e5d30",
   "metadata": {},
   "outputs": [],
   "source": [
    "epoch_num = 20  # エポック数を設定する\n",
    "batch_size = 100  # バッチの数\n",
    "learning_rate = 0.1  # 学習係数"
   ]
  },
  {
   "cell_type": "markdown",
   "id": "fd15d5e9",
   "metadata": {},
   "source": [
    "### MNIST データセット"
   ]
  },
  {
   "cell_type": "code",
   "execution_count": 42,
   "id": "eb2fe989",
   "metadata": {},
   "outputs": [],
   "source": [
    "# 訓練データをdatasetsからダウンロード\n",
    "training_data = datasets.MNIST(\n",
    "    root='data',\n",
    "    train=True,\n",
    "    download=True,\n",
    "    transform=ToTensor()\n",
    ")\n",
    "\n",
    "# テストデータをdatasetsからダウンロード\n",
    "test_data = datasets.MNIST(\n",
    "    root='data',\n",
    "    train=False,\n",
    "    download=True,\n",
    "    transform=ToTensor()\n",
    ")"
   ]
  },
  {
   "cell_type": "markdown",
   "id": "649faba1",
   "metadata": {},
   "source": [
    "### データローダー"
   ]
  },
  {
   "cell_type": "code",
   "execution_count": 43,
   "id": "72b4c0b6",
   "metadata": {},
   "outputs": [
    {
     "name": "stdout",
     "output_type": "stream",
     "text": [
      "X.shape [N, C, H, W]: torch.Size([100, 1, 28, 28])\n",
      "y.shape: torch.Size([100]) torch.int64\n"
     ]
    }
   ],
   "source": [
    "# データローダーの作成\n",
    "train_dataloader = DataLoader(training_data, batch_size=batch_size)\n",
    "test_dataloader = DataLoader(test_data, batch_size=batch_size)\n",
    "\n",
    "for X, y in test_dataloader:\n",
    "    print('X.shape [N, C, H, W]:', X.shape)\n",
    "    print('y.shape:', y.shape, y.dtype)\n",
    "    break"
   ]
  },
  {
   "cell_type": "markdown",
   "id": "ff9d0dbc",
   "metadata": {},
   "source": [
    "#### 【オプション】入力データの確認"
   ]
  },
  {
   "cell_type": "code",
   "execution_count": 44,
   "id": "57f6b6c1",
   "metadata": {},
   "outputs": [
    {
     "data": {
      "image/png": "[encoded data removed]",
      "text/plain": [
       "<Figure size 864x288 with 12 Axes>"
      ]
     },
     "metadata": {
      "needs_background": "light"
     },
     "output_type": "display_data"
    },
    {
     "name": "stdout",
     "output_type": "stream",
     "text": [
      "tensor([5, 0, 4, 1, 9, 2, 1, 3, 1, 4, 3, 5])\n"
     ]
    }
   ],
   "source": [
    "for X, y in train_dataloader:\n",
    "    x_train = X\n",
    "    t_train = y\n",
    "    break\n",
    "\n",
    "# 画像を表示\n",
    "figure = plt.figure(figsize=(12, 4))\n",
    "rows, cols = 2, 6\n",
    "for i in range(rows * cols):\n",
    "    img, label = x_train[i], t_train[i]\n",
    "    figure.add_subplot(rows, cols, i + 1)\n",
    "    plt.title(f'{label} (idx={i})')\n",
    "    plt.axis('off')\n",
    "    plt.imshow(img.squeeze(), cmap='gray')  # 1x28x28 -> 28x28 に変換\n",
    "plt.show()\n",
    "print(y[:rows * cols])"
   ]
  },
  {
   "cell_type": "markdown",
   "id": "ea1751a9",
   "metadata": {},
   "source": [
    "### ニューラルネットワークの定義"
   ]
  },
  {
   "cell_type": "code",
   "execution_count": 45,
   "id": "2a8235d4",
   "metadata": {},
   "outputs": [],
   "source": [
    "# modelを定義します\n",
    "class NeuralNetwork(nn.Module):\n",
    "    def __init__(self):\n",
    "        super(NeuralNetwork, self).__init__()\n",
    "        self.flatten = nn.Flatten()  # (batch)x1x28x28 -> (batch)x(28*28) に変換\n",
    "        self.linear_relu_stack = nn.Sequential(\n",
    "            nn.Linear(28*28, 50),  # 全結合層 (batch)x(28*28) -> (batch)x50\n",
    "            #nn.Sigmoid(),\n",
    "            nn.ReLU(),\n",
    "            nn.Linear(50, 10)  # 全結合層 (batch)x50 -> (batch)x10\n",
    "        )\n",
    "\n",
    "    def forward(self, x):\n",
    "        x = self.flatten(x)\n",
    "        x = self.linear_relu_stack(x)\n",
    "        return x"
   ]
  },
  {
   "cell_type": "markdown",
   "id": "544e268d",
   "metadata": {},
   "source": [
    "### ニューラルネットワークのインスタンス化"
   ]
  },
  {
   "cell_type": "code",
   "execution_count": 46,
   "id": "c97e4688",
   "metadata": {},
   "outputs": [
    {
     "name": "stdout",
     "output_type": "stream",
     "text": [
      "Using cpu device\n",
      "NeuralNetwork(\n",
      "  (flatten): Flatten(start_dim=1, end_dim=-1)\n",
      "  (linear_relu_stack): Sequential(\n",
      "    (0): Linear(in_features=784, out_features=50, bias=True)\n",
      "    (1): ReLU()\n",
      "    (2): Linear(in_features=50, out_features=10, bias=True)\n",
      "  )\n",
      ")\n"
     ]
    }
   ],
   "source": [
    "# 訓練に際して、可能であればGPU（cuda）を設定します。GPUが搭載されていない場合はCPUを使用します\n",
    "device = 'cuda' if torch.cuda.is_available() else 'cpu'\n",
    "print(f'Using {device} device')\n",
    "\n",
    "model = NeuralNetwork().to(device)\n",
    "print(model)"
   ]
  },
  {
   "cell_type": "markdown",
   "id": "f4363c18",
   "metadata": {},
   "source": [
    "### 損失関数と最適化手法を定義"
   ]
  },
  {
   "cell_type": "code",
   "execution_count": 47,
   "id": "14ff85f9",
   "metadata": {},
   "outputs": [],
   "source": [
    "loss_fn = nn.CrossEntropyLoss()\n",
    "optimizer = torch.optim.SGD(model.parameters(), lr=learning_rate)"
   ]
  },
  {
   "cell_type": "markdown",
   "id": "a7b9f22e",
   "metadata": {},
   "source": [
    "### 訓練のプロセス"
   ]
  },
  {
   "cell_type": "code",
   "execution_count": 48,
   "id": "3b858f73",
   "metadata": {},
   "outputs": [],
   "source": [
    "def train(dataloader, model, loss_fn, optimizer):\n",
    "    model.train()  # 訓練モード\n",
    "    loss_list = []\n",
    "    size = len(dataloader.dataset)\n",
    "    for batch, (X, y) in enumerate(dataloader):\n",
    "        X, y = X.to(device), y.to(device)\n",
    "        #y = torch.eye(10)[y]  # index -> one-hot 形式に変換\n",
    "        \n",
    "        # 損失誤差を計算\n",
    "        pred = model(X)\n",
    "        loss = loss_fn(pred, y)\n",
    "        \n",
    "        # バックプロパゲーション\n",
    "        optimizer.zero_grad()\n",
    "        loss.backward()\n",
    "        optimizer.step()\n",
    "        \n",
    "        loss_list.append(loss.item())\n",
    "        print(f'\\rtrain batch({batch + 1})', end='')\n",
    "    \n",
    "    return loss_list"
   ]
  },
  {
   "cell_type": "markdown",
   "id": "25d1036b",
   "metadata": {},
   "source": [
    "### 評価のプロセス"
   ]
  },
  {
   "cell_type": "code",
   "execution_count": 49,
   "id": "2cc55dab",
   "metadata": {},
   "outputs": [],
   "source": [
    "def test(dataloader, model, title):\n",
    "    model.eval()  # 評価モード\n",
    "    correct = 0\n",
    "    size = len(dataloader.dataset)\n",
    "    with torch.no_grad():\n",
    "        for batch, (X, y) in enumerate(dataloader):\n",
    "            X, y = X.to(device), y.to(device)\n",
    "            pred = model(X)\n",
    "            correct += (pred.argmax(1) == y).type(torch.float).sum().item()\n",
    "            print(f'\\rtest({title}) batch({batch + 1}){\" \" * 5}', end='')\n",
    "    correct /= size\n",
    "    \n",
    "    return correct"
   ]
  },
  {
   "cell_type": "markdown",
   "id": "f364be56",
   "metadata": {},
   "source": [
    "### ミニバッチの学習"
   ]
  },
  {
   "cell_type": "code",
   "execution_count": 50,
   "id": "8fe2bc91",
   "metadata": {},
   "outputs": [
    {
     "name": "stdout",
     "output_type": "stream",
     "text": [
      "epoch(1) loss = 0.36792027950286865\n",
      "epoch(1) accuracy(train, test) = (0.9023166666666667, 0.9085)\n",
      "epoch(2) loss = 0.330897718667984\n",
      "epoch(2) accuracy(train, test) = (0.9215333333333333, 0.9234)\n",
      "epoch(3) loss = 0.29836970567703247\n",
      "epoch(3) accuracy(train, test) = (0.9351666666666667, 0.9332)\n",
      "epoch(4) loss = 0.27072781324386597\n",
      "epoch(4) accuracy(train, test) = (0.9447, 0.9434)\n",
      "epoch(5) loss = 0.2523236870765686\n",
      "epoch(5) accuracy(train, test) = (0.95135, 0.949)\n",
      "epoch(6) loss = 0.2366209626197815\n",
      "epoch(6) accuracy(train, test) = (0.9569666666666666, 0.9525)\n",
      "epoch(7) loss = 0.22880619764328003\n",
      "epoch(7) accuracy(train, test) = (0.96045, 0.9557)\n",
      "epoch(8) loss = 0.22294148802757263\n",
      "epoch(8) accuracy(train, test) = (0.9635833333333333, 0.9585)\n",
      "epoch(9) loss = 0.21800604462623596\n",
      "epoch(9) accuracy(train, test) = (0.9660333333333333, 0.9603)\n",
      "epoch(10) loss = 0.21408714354038239\n",
      "epoch(10) accuracy(train, test) = (0.9686666666666667, 0.9624)\n",
      "epoch(11) loss = 0.2115103304386139\n",
      "epoch(11) accuracy(train, test) = (0.9706666666666667, 0.9635)\n",
      "epoch(12) loss = 0.2107999175786972\n",
      "epoch(12) accuracy(train, test) = (0.9727666666666667, 0.9654)\n",
      "epoch(13) loss = 0.20853480696678162\n",
      "epoch(13) accuracy(train, test) = (0.9744333333333334, 0.9667)\n",
      "epoch(14) loss = 0.20863813161849976\n",
      "epoch(14) accuracy(train, test) = (0.9759333333333333, 0.9674)\n",
      "epoch(15) loss = 0.20600296556949615\n",
      "epoch(15) accuracy(train, test) = (0.9771666666666666, 0.9681)\n",
      "epoch(16) loss = 0.20287281274795532\n",
      "epoch(16) accuracy(train, test) = (0.9780166666666666, 0.9683)\n",
      "epoch(17) loss = 0.20291803777217865\n",
      "epoch(17) accuracy(train, test) = (0.97885, 0.9688)\n",
      "epoch(18) loss = 0.19797997176647186\n",
      "epoch(18) accuracy(train, test) = (0.9796333333333334, 0.969)\n",
      "epoch(19) loss = 0.1971735805273056\n",
      "epoch(19) accuracy(train, test) = (0.9804, 0.9703)\n",
      "epoch(20) loss = 0.19439436495304108\n",
      "epoch(20) accuracy(train, test) = (0.9811666666666666, 0.9702)\n",
      "Done!\n"
     ]
    }
   ],
   "source": [
    "train_loss_list = []\n",
    "train_acc_list = [0.0]\n",
    "test_acc_list = [0.0]\n",
    "\n",
    "for t in range(epoch_num):\n",
    "    train_loss = train(train_dataloader, model, loss_fn, optimizer)\n",
    "    train_loss_list += train_loss\n",
    "    print(f'\\repoch({t + 1}) loss = {train_loss_list[-1]}')\n",
    "    train_acc = test(train_dataloader, model, 'train_data')\n",
    "    test_acc = test(test_dataloader, model, 'test_data')\n",
    "    train_acc_list.append(train_acc)\n",
    "    test_acc_list.append(test_acc)\n",
    "    print(f'\\repoch({t + 1}) accuracy(train, test) = ({train_acc}, {test_acc})')\n",
    "\n",
    "print('Done!')"
   ]
  },
  {
   "cell_type": "markdown",
   "id": "2ff68a9d",
   "metadata": {},
   "source": [
    "### 損失関数の推移"
   ]
  },
  {
   "cell_type": "code",
   "execution_count": 51,
   "id": "f4db9b20",
   "metadata": {},
   "outputs": [
    {
     "data": {
      "image/png": "[encoded data removed]",
      "text/plain": [
       "<Figure size 432x288 with 1 Axes>"
      ]
     },
     "metadata": {
      "needs_background": "light"
     },
     "output_type": "display_data"
    }
   ],
   "source": [
    "# グラフの描画\n",
    "x = torch.arange(len(train_loss_list))\n",
    "plt.plot(x, train_loss_list, label='train loss')\n",
    "plt.xlabel('batchs')\n",
    "plt.ylabel('loss')\n",
    "plt.title('loss by batchs')\n",
    "plt.legend(loc='upper right')\n",
    "plt.show()"
   ]
  },
  {
   "cell_type": "markdown",
   "id": "e9543c97",
   "metadata": {},
   "source": [
    "### 認識精度の推移"
   ]
  },
  {
   "cell_type": "code",
   "execution_count": 52,
   "id": "a6fdc67f",
   "metadata": {},
   "outputs": [
    {
     "data": {
      "image/png": "[encoded data removed]",
      "text/plain": [
       "<Figure size 432x288 with 1 Axes>"
      ]
     },
     "metadata": {
      "needs_background": "light"
     },
     "output_type": "display_data"
    }
   ],
   "source": [
    "# グラフの描画\n",
    "x = torch.arange(len(train_acc_list))\n",
    "plt.plot(x, train_acc_list, label='train acc', marker='o')\n",
    "plt.plot(x, test_acc_list, label='test acc', linestyle='--', marker='^')\n",
    "plt.xlabel('epochs')\n",
    "plt.ylabel('accuracy')\n",
    "plt.title('accuracy by epochs')\n",
    "plt.ylim(0, 1.0)\n",
    "plt.legend(loc='lower right')\n",
    "plt.show()"
   ]
  },
  {
   "cell_type": "markdown",
   "id": "c218411b",
   "metadata": {},
   "source": [
    "#### 【オプション】テストの結果"
   ]
  },
  {
   "cell_type": "code",
   "execution_count": 53,
   "id": "e1b67440",
   "metadata": {},
   "outputs": [
    {
     "name": "stdout",
     "output_type": "stream",
     "text": [
      "torch.Size([10000, 10])\n",
      "index = 0\n",
      "tensor([ -1.9496,  -2.6722,   3.9225,   6.1410,  -5.7591,  -0.0165, -15.1281,\n",
      "         12.8737,   1.2758,   2.4548])\n",
      "tensor(7)\n",
      "index = 1\n",
      "tensor([  5.5478,   3.3323,  13.1805,   3.8774, -12.8098,   5.0272,   5.1551,\n",
      "        -14.4201,   3.9862, -10.1377])\n",
      "tensor(2)\n",
      "index = 2\n",
      "tensor([-4.3526,  8.6404,  2.2747, -0.1267, -0.7647, -1.3050, -1.1796,  2.0610,\n",
      "         1.7712, -2.3492])\n",
      "tensor(1)\n"
     ]
    }
   ],
   "source": [
    "x_test = None\n",
    "t_test = None\n",
    "test_predict = None\n",
    "\n",
    "# テストの実行\n",
    "model.eval()\n",
    "with torch.no_grad():\n",
    "    for X, y in test_dataloader:\n",
    "        X, y = X.to(device), y.to(device)\n",
    "        pred = model(X)\n",
    "        X, y, pred = X.to('cpu'), y.to('cpu'), pred.to('cpu')\n",
    "        x_test = torch.cat((x_test,X),0) if x_test is not None else X\n",
    "        t_test = torch.cat((t_test,y),0) if t_test is not None else y\n",
    "        test_predict = torch.cat((test_predict,pred),0) if test_predict is not None else pred\n",
    "\n",
    "print(test_predict.shape)\n",
    "for index in range(3):\n",
    "    print(f'index = {index}')\n",
    "    print(test_predict[index])\n",
    "    print(t_test[index])"
   ]
  },
  {
   "cell_type": "markdown",
   "id": "a2eb9cca",
   "metadata": {},
   "source": [
    "#### 【オプション】エラー結果の確認"
   ]
  },
  {
   "cell_type": "code",
   "execution_count": 54,
   "id": "0d49b25e",
   "metadata": {},
   "outputs": [
    {
     "name": "stdout",
     "output_type": "stream",
     "text": [
      "error rate = 2.98[%] (num = 298/10000)\n"
     ]
    },
    {
     "data": {
      "image/png": "[encoded data removed]",
      "text/plain": [
       "<Figure size 864x144 with 6 Axes>"
      ]
     },
     "metadata": {
      "needs_background": "light"
     },
     "output_type": "display_data"
    },
    {
     "name": "stdout",
     "output_type": "stream",
     "text": [
      "tensor([[ 9.1563e-01, -6.6249e+00,  5.4455e+00, -5.0486e+00,  1.7016e+00,\n",
      "          5.0513e+00,  8.3884e+00, -1.0714e+01,  2.3505e+00, -3.7950e-01],\n",
      "        [-6.3526e+00, -6.4992e+00, -1.5937e+00, -1.3206e+00,  1.0331e+01,\n",
      "         -1.2428e+00, -1.3650e+00,  8.1981e+00,  3.5049e+00,  1.4111e+00],\n",
      "        [ 2.0955e+00, -1.0314e-01,  1.0927e+00, -4.7858e+00,  5.2940e-01,\n",
      "          1.0126e+01,  9.9887e+00, -1.6363e+01,  7.3368e+00, -5.7137e+00],\n",
      "        [ 2.6262e+00, -1.1235e+01, -7.5289e-01,  2.4471e+00, -5.2145e+00,\n",
      "          6.4447e+00, -3.8745e+00, -4.3119e+00,  3.8093e+00,  6.2463e+00],\n",
      "        [-1.2193e+00, -1.1464e+00,  7.9564e+00, -5.3240e-01,  3.5636e+00,\n",
      "          1.8997e-01,  6.5561e+00, -4.5075e+00, -1.4157e-02, -6.9531e+00],\n",
      "        [ 9.7940e+00, -8.5276e+00,  1.5142e-01, -2.7143e+00, -3.4823e+00,\n",
      "          4.6928e+00,  7.2765e+00,  8.2859e-01, -7.3201e-01, -6.7714e+00]])\n"
     ]
    }
   ],
   "source": [
    "# エラー結果の要素を抽出\n",
    "index_error = torch.argmax(test_predict, axis=1) != t_test\n",
    "error_list = torch.arange(len(test_predict))[index_error]\n",
    "print(f'error rate = {len(error_list) / len(test_predict) * 100}[%]',\n",
    "      f'(num = {len(error_list)}/{len(test_predict)})')\n",
    "\n",
    "offset = 0\n",
    "# 画像を表示\n",
    "figure = plt.figure(figsize=(12, 2))\n",
    "rows, cols = 1, 6\n",
    "for i in range(rows * cols):\n",
    "    index = error_list[offset + i]\n",
    "    img, label_t, label_y = x_test[index], t_test[index], test_predict[index].argmax()\n",
    "    figure.add_subplot(rows, cols, i + 1)\n",
    "    plt.title(f'{label_y} (t={label_t})')\n",
    "    plt.axis('off')\n",
    "    plt.imshow(img.squeeze(), cmap='gray')  # 1x28x28 -> 28x28 に変換\n",
    "plt.show()\n",
    "print(test_predict[error_list[offset:offset + rows * cols]])"
   ]
  },
  {
   "cell_type": "code",
   "execution_count": null,
   "id": "fafd3cb8",
   "metadata": {},
   "outputs": [],
   "source": []
  }
 ],
 "metadata": {
  "kernelspec": {
   "display_name": "PytorchEnv",
   "language": "python",
   "name": "pytorchenv"
  },
  "language_info": {
   "codemirror_mode": {
    "name": "ipython",
    "version": 3
   },
   "file_extension": ".py",
   "mimetype": "text/x-python",
   "name": "python",
   "nbconvert_exporter": "python",
   "pygments_lexer": "ipython3",
   "version": "3.9.6"
  }
 },
 "nbformat": 4,
 "nbformat_minor": 5
}
