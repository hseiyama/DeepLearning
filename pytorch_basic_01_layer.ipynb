{
 "cells": [
  {
   "cell_type": "markdown",
   "id": "e95231ab",
   "metadata": {},
   "source": [
    "# PyTorch を利用した実装"
   ]
  },
  {
   "cell_type": "code",
   "execution_count": 30,
   "id": "e4acc762",
   "metadata": {},
   "outputs": [],
   "source": [
    "import torch\n",
    "from torch import nn\n",
    "from torch.utils.data import DataLoader\n",
    "from torchvision import datasets\n",
    "from torchvision.transforms import ToTensor\n",
    "import matplotlib.pyplot as plt"
   ]
  },
  {
   "cell_type": "markdown",
   "id": "67197fa6",
   "metadata": {},
   "source": [
    "### パラメータの定義"
   ]
  },
  {
   "cell_type": "code",
   "execution_count": 31,
   "id": "383e5d30",
   "metadata": {},
   "outputs": [],
   "source": [
    "epoch_num = 20  # エポック数を設定する\n",
    "batch_size = 100  # バッチの数\n",
    "learning_rate = 0.1  # 学習係数"
   ]
  },
  {
   "cell_type": "markdown",
   "id": "fd15d5e9",
   "metadata": {},
   "source": [
    "### MNIST データセット"
   ]
  },
  {
   "cell_type": "code",
   "execution_count": 32,
   "id": "eb2fe989",
   "metadata": {},
   "outputs": [],
   "source": [
    "# 訓練データをdatasetsからダウンロード\n",
    "training_data = datasets.MNIST(\n",
    "    root=\"data\",\n",
    "    train=True,\n",
    "    download=True,\n",
    "    transform=ToTensor()\n",
    ")\n",
    "\n",
    "# テストデータをdatasetsからダウンロード\n",
    "test_data = datasets.MNIST(\n",
    "    root=\"data\",\n",
    "    train=False,\n",
    "    download=True,\n",
    "    transform=ToTensor()\n",
    ")"
   ]
  },
  {
   "cell_type": "markdown",
   "id": "649faba1",
   "metadata": {},
   "source": [
    "### データローダー"
   ]
  },
  {
   "cell_type": "code",
   "execution_count": 33,
   "id": "72b4c0b6",
   "metadata": {},
   "outputs": [
    {
     "name": "stdout",
     "output_type": "stream",
     "text": [
      "X.shape [N, C, H, W]: torch.Size([100, 1, 28, 28])\n",
      "y.shape: torch.Size([100]) torch.int64\n"
     ]
    }
   ],
   "source": [
    "# データローダーの作成\n",
    "train_dataloader = DataLoader(training_data, batch_size=batch_size)\n",
    "test_dataloader = DataLoader(test_data, batch_size=batch_size)\n",
    "\n",
    "for X, y in test_dataloader:\n",
    "    print(\"X.shape [N, C, H, W]:\", X.shape)\n",
    "    print(\"y.shape:\", y.shape, y.dtype)\n",
    "    break"
   ]
  },
  {
   "cell_type": "markdown",
   "id": "ff9d0dbc",
   "metadata": {},
   "source": [
    "#### 【オプション】入力データの確認"
   ]
  },
  {
   "cell_type": "code",
   "execution_count": 34,
   "id": "57f6b6c1",
   "metadata": {},
   "outputs": [
    {
     "data": {
      "image/png": "[encoded data removed]",
      "text/plain": [
       "<Figure size 864x288 with 12 Axes>"
      ]
     },
     "metadata": {
      "needs_background": "light"
     },
     "output_type": "display_data"
    },
    {
     "name": "stdout",
     "output_type": "stream",
     "text": [
      "tensor([5, 0, 4, 1, 9, 2, 1, 3, 1, 4, 3, 5])\n"
     ]
    }
   ],
   "source": [
    "for X, y in train_dataloader:\n",
    "    x_train = X\n",
    "    t_train = y\n",
    "    break\n",
    "\n",
    "# 画像を表示\n",
    "figure = plt.figure(figsize=(12, 4))\n",
    "rows, cols = 2, 6\n",
    "for i in range(rows * cols):\n",
    "    img, label = x_train[i], t_train[i]\n",
    "    figure.add_subplot(rows, cols, i + 1)\n",
    "    plt.title(f'{label} (idx={i})')\n",
    "    plt.axis('off')\n",
    "    plt.imshow(img.squeeze(), cmap='gray')  # 1x28x28 -> 28x28 に変換\n",
    "plt.show()\n",
    "print(y[:rows * cols])"
   ]
  },
  {
   "cell_type": "markdown",
   "id": "ea1751a9",
   "metadata": {},
   "source": [
    "### ニューラルネットワークの定義"
   ]
  },
  {
   "cell_type": "code",
   "execution_count": 35,
   "id": "2a8235d4",
   "metadata": {},
   "outputs": [],
   "source": [
    "# modelを定義します\n",
    "class NeuralNetwork(nn.Module):\n",
    "    def __init__(self):\n",
    "        super(NeuralNetwork, self).__init__()\n",
    "        self.flatten = nn.Flatten()\n",
    "        self.linear_sigmoid_stack = nn.Sequential(\n",
    "            nn.Linear(28*28, 50),\n",
    "            #nn.Sigmoid(),\n",
    "            nn.ReLU(),\n",
    "            nn.Linear(50, 10)\n",
    "        )\n",
    "\n",
    "    def forward(self, x):\n",
    "        x = self.flatten(x)\n",
    "        logits = self.linear_sigmoid_stack(x)\n",
    "        return logits"
   ]
  },
  {
   "cell_type": "markdown",
   "id": "544e268d",
   "metadata": {},
   "source": [
    "### ニューラルネットワークのインスタンス化"
   ]
  },
  {
   "cell_type": "code",
   "execution_count": 36,
   "id": "c97e4688",
   "metadata": {},
   "outputs": [
    {
     "name": "stdout",
     "output_type": "stream",
     "text": [
      "Using cpu device\n",
      "NeuralNetwork(\n",
      "  (flatten): Flatten(start_dim=1, end_dim=-1)\n",
      "  (linear_sigmoid_stack): Sequential(\n",
      "    (0): Linear(in_features=784, out_features=50, bias=True)\n",
      "    (1): ReLU()\n",
      "    (2): Linear(in_features=50, out_features=10, bias=True)\n",
      "  )\n",
      ")\n"
     ]
    }
   ],
   "source": [
    "# 訓練に際して、可能であればGPU（cuda）を設定します。GPUが搭載されていない場合はCPUを使用します\n",
    "device = \"cuda\" if torch.cuda.is_available() else \"cpu\"\n",
    "print(\"Using {} device\".format(device))\n",
    "\n",
    "model = NeuralNetwork().to(device)\n",
    "print(model)"
   ]
  },
  {
   "cell_type": "markdown",
   "id": "f4363c18",
   "metadata": {},
   "source": [
    "### 損失関数と最適化手法を定義"
   ]
  },
  {
   "cell_type": "code",
   "execution_count": 37,
   "id": "14ff85f9",
   "metadata": {},
   "outputs": [],
   "source": [
    "loss_fn = nn.CrossEntropyLoss()\n",
    "optimizer = torch.optim.SGD(model.parameters(), lr=learning_rate)"
   ]
  },
  {
   "cell_type": "markdown",
   "id": "a7b9f22e",
   "metadata": {},
   "source": [
    "### 訓練のプロセス"
   ]
  },
  {
   "cell_type": "code",
   "execution_count": 38,
   "id": "3b858f73",
   "metadata": {},
   "outputs": [],
   "source": [
    "def train(dataloader, model, loss_fn, optimizer):\n",
    "    model.train()  # 訓練モード\n",
    "    loss_list = []\n",
    "    size = len(dataloader.dataset)\n",
    "    for batch, (X, y) in enumerate(dataloader):\n",
    "        X, y = X.to(device), y.to(device)\n",
    "        #y = torch.eye(10)[y]  # index -> one-hot 形式に変換\n",
    "        \n",
    "        # 損失誤差を計算\n",
    "        pred = model(X)\n",
    "        loss = loss_fn(pred, y)\n",
    "        \n",
    "        # バックプロパゲーション\n",
    "        optimizer.zero_grad()\n",
    "        loss.backward()\n",
    "        optimizer.step()\n",
    "        \n",
    "        loss_list.append(loss.item())\n",
    "    \n",
    "    return loss_list"
   ]
  },
  {
   "cell_type": "markdown",
   "id": "25d1036b",
   "metadata": {},
   "source": [
    "### 評価のプロセス"
   ]
  },
  {
   "cell_type": "code",
   "execution_count": 39,
   "id": "2cc55dab",
   "metadata": {},
   "outputs": [],
   "source": [
    "def test(dataloader, model):\n",
    "    model.eval()  # 評価モード\n",
    "    correct = 0\n",
    "    size = len(dataloader.dataset)\n",
    "    with torch.no_grad():\n",
    "        for X, y in dataloader:\n",
    "            X, y = X.to(device), y.to(device)\n",
    "            pred = model(X)\n",
    "            correct += (pred.argmax(1) == y).type(torch.float).sum().item()\n",
    "    correct /= size\n",
    "    \n",
    "    return correct"
   ]
  },
  {
   "cell_type": "markdown",
   "id": "f364be56",
   "metadata": {},
   "source": [
    "### ミニバッチの学習"
   ]
  },
  {
   "cell_type": "code",
   "execution_count": 40,
   "id": "8fe2bc91",
   "metadata": {},
   "outputs": [
    {
     "name": "stdout",
     "output_type": "stream",
     "text": [
      "epoch(1) loss = 0.35061293840408325\n",
      "epoch(1) accuracy(train, test) = (0.9050333333333334, 0.9094)\n",
      "epoch(2) loss = 0.29743894934654236\n",
      "epoch(2) accuracy(train, test) = (0.9268666666666666, 0.9298)\n",
      "epoch(3) loss = 0.2688058912754059\n",
      "epoch(3) accuracy(train, test) = (0.9386833333333333, 0.9374)\n",
      "epoch(4) loss = 0.2539989948272705\n",
      "epoch(4) accuracy(train, test) = (0.9479833333333333, 0.944)\n",
      "epoch(5) loss = 0.24498037993907928\n",
      "epoch(5) accuracy(train, test) = (0.9552833333333334, 0.9497)\n",
      "epoch(6) loss = 0.23960334062576294\n",
      "epoch(6) accuracy(train, test) = (0.9603333333333334, 0.9544)\n",
      "epoch(7) loss = 0.23193806409835815\n",
      "epoch(7) accuracy(train, test) = (0.9640166666666666, 0.9582)\n",
      "epoch(8) loss = 0.22791673243045807\n",
      "epoch(8) accuracy(train, test) = (0.9671666666666666, 0.9606)\n",
      "epoch(9) loss = 0.22262676060199738\n",
      "epoch(9) accuracy(train, test) = (0.96985, 0.9628)\n",
      "epoch(10) loss = 0.21910451352596283\n",
      "epoch(10) accuracy(train, test) = (0.97145, 0.9645)\n",
      "epoch(11) loss = 0.21721947193145752\n",
      "epoch(11) accuracy(train, test) = (0.9733166666666667, 0.9657)\n",
      "epoch(12) loss = 0.2159421592950821\n",
      "epoch(12) accuracy(train, test) = (0.9754, 0.967)\n",
      "epoch(13) loss = 0.21507444977760315\n",
      "epoch(13) accuracy(train, test) = (0.97695, 0.9687)\n",
      "epoch(14) loss = 0.21381396055221558\n",
      "epoch(14) accuracy(train, test) = (0.9782, 0.9698)\n",
      "epoch(15) loss = 0.21148799359798431\n",
      "epoch(15) accuracy(train, test) = (0.9790166666666666, 0.9703)\n",
      "epoch(16) loss = 0.20933128893375397\n",
      "epoch(16) accuracy(train, test) = (0.98025, 0.9706)\n",
      "epoch(17) loss = 0.20766372978687286\n",
      "epoch(17) accuracy(train, test) = (0.9810666666666666, 0.9703)\n",
      "epoch(18) loss = 0.20421622693538666\n",
      "epoch(18) accuracy(train, test) = (0.9819166666666667, 0.9704)\n",
      "epoch(19) loss = 0.202567458152771\n",
      "epoch(19) accuracy(train, test) = (0.98265, 0.9707)\n",
      "epoch(20) loss = 0.2000187486410141\n",
      "epoch(20) accuracy(train, test) = (0.9836, 0.9708)\n",
      "Done!\n"
     ]
    }
   ],
   "source": [
    "train_loss_list = []\n",
    "train_acc_list = [0.0]\n",
    "test_acc_list = [0.0]\n",
    "\n",
    "for t in range(epoch_num):\n",
    "    train_loss = train(train_dataloader, model, loss_fn, optimizer)\n",
    "    train_loss_list += train_loss\n",
    "    print(f'epoch({t + 1}) loss = {train_loss_list[-1]}')\n",
    "    train_acc = test(train_dataloader, model)\n",
    "    test_acc = test(test_dataloader, model)\n",
    "    train_acc_list.append(train_acc)\n",
    "    test_acc_list.append(test_acc)\n",
    "    print(f'epoch({t + 1}) accuracy(train, test) = ({train_acc}, {test_acc})')\n",
    "\n",
    "print('Done!')"
   ]
  },
  {
   "cell_type": "markdown",
   "id": "2ff68a9d",
   "metadata": {},
   "source": [
    "### 損失関数の推移"
   ]
  },
  {
   "cell_type": "code",
   "execution_count": 41,
   "id": "f4db9b20",
   "metadata": {},
   "outputs": [
    {
     "data": {
      "image/png": "[encoded data removed]",
      "text/plain": [
       "<Figure size 432x288 with 1 Axes>"
      ]
     },
     "metadata": {
      "needs_background": "light"
     },
     "output_type": "display_data"
    }
   ],
   "source": [
    "# グラフの描画\n",
    "x = torch.arange(len(train_loss_list))\n",
    "plt.plot(x, train_loss_list, label='train loss')\n",
    "plt.xlabel('batchs')\n",
    "plt.ylabel('loss')\n",
    "plt.title('loss by batchs')\n",
    "plt.legend(loc='upper right')\n",
    "plt.show()"
   ]
  },
  {
   "cell_type": "markdown",
   "id": "e9543c97",
   "metadata": {},
   "source": [
    "### 認識精度の推移"
   ]
  },
  {
   "cell_type": "code",
   "execution_count": 42,
   "id": "a6fdc67f",
   "metadata": {},
   "outputs": [
    {
     "data": {
      "image/png": "[encoded data removed]",
      "text/plain": [
       "<Figure size 432x288 with 1 Axes>"
      ]
     },
     "metadata": {
      "needs_background": "light"
     },
     "output_type": "display_data"
    }
   ],
   "source": [
    "# グラフの描画\n",
    "x = torch.arange(len(train_acc_list))\n",
    "plt.plot(x, train_acc_list, label='train acc', marker='o')\n",
    "plt.plot(x, test_acc_list, label='test acc', linestyle='--', marker='^')\n",
    "plt.xlabel('epochs')\n",
    "plt.ylabel('accuracy')\n",
    "plt.title('accuracy by epochs')\n",
    "plt.ylim(0, 1.0)\n",
    "plt.legend(loc='lower right')\n",
    "plt.show()"
   ]
  },
  {
   "cell_type": "markdown",
   "id": "c218411b",
   "metadata": {},
   "source": [
    "#### 【オプション】テストの結果"
   ]
  },
  {
   "cell_type": "code",
   "execution_count": 43,
   "id": "e1b67440",
   "metadata": {},
   "outputs": [
    {
     "name": "stdout",
     "output_type": "stream",
     "text": [
      "torch.Size([10000, 10])\n",
      "index = 0\n",
      "tensor([  0.6088,  -4.3959,   5.9133,   6.1510,  -4.8688,  -2.1265, -15.6472,\n",
      "         14.1798,  -2.5260,   1.9641])\n",
      "tensor(7)\n",
      "index = 1\n",
      "tensor([ -0.4570,   5.1100,  15.1153,   8.4950, -12.2529,   3.8457,   1.9629,\n",
      "         -9.7362,   2.7925, -10.7149])\n",
      "tensor(2)\n",
      "index = 2\n",
      "tensor([-4.0131,  8.0581,  1.0457, -1.2704, -0.0903,  0.6838, -1.5005,  1.2144,\n",
      "         1.6584, -3.3626])\n",
      "tensor(1)\n"
     ]
    }
   ],
   "source": [
    "x_test = None\n",
    "t_test = None\n",
    "test_predict = None\n",
    "\n",
    "# テストの実行\n",
    "model.eval()\n",
    "for batch, (X, y) in enumerate(test_dataloader):\n",
    "    with torch.no_grad():\n",
    "        pred = model(X)\n",
    "        x_test = torch.cat((x_test,X),0) if x_test is not None else X\n",
    "        t_test = torch.cat((t_test,y),0) if t_test is not None else y\n",
    "        test_predict = torch.cat((test_predict,pred),0) if test_predict is not None else pred\n",
    "\n",
    "print(test_predict.shape)\n",
    "for index in range(3):\n",
    "    print(f'index = {index}')\n",
    "    print(test_predict[index])\n",
    "    print(t_test[index])"
   ]
  },
  {
   "cell_type": "markdown",
   "id": "a2eb9cca",
   "metadata": {},
   "source": [
    "#### 【オプション】エラー結果の確認"
   ]
  },
  {
   "cell_type": "code",
   "execution_count": 44,
   "id": "0d49b25e",
   "metadata": {},
   "outputs": [
    {
     "name": "stdout",
     "output_type": "stream",
     "text": [
      "error rate = 2.92[%] (num = 292/10000)\n"
     ]
    },
    {
     "data": {
      "image/png": "[encoded data removed]",
      "text/plain": [
       "<Figure size 864x144 with 6 Axes>"
      ]
     },
     "metadata": {
      "needs_background": "light"
     },
     "output_type": "display_data"
    },
    {
     "name": "stdout",
     "output_type": "stream",
     "text": [
      "tensor([[ -0.4096,  -5.7916,   2.2272,  -4.4653,  -0.3189,   3.3207,   5.7749,\n",
      "          -5.1660,   2.8112,   0.1960],\n",
      "        [ -1.6003,   0.9700,   9.4405,   9.3827,  -9.6496,  -1.9021,  -5.6061,\n",
      "          -1.1805,   4.6456,   2.0353],\n",
      "        [ -3.5795,  -0.6464,   3.4722,   0.0625,   4.3796,   0.3522,  -1.4543,\n",
      "          -2.9643,  -0.8380,   2.6317],\n",
      "        [ -1.0700,  -0.9030,   8.9391,  -1.5026,   3.9646,  -0.2588,   7.8433,\n",
      "          -0.4630,  -3.1335,  -9.9440],\n",
      "        [ -9.2030,  -1.9972,  -8.1013,   0.7423,   6.6388,   6.9861,  -2.6196,\n",
      "          -7.8144,   6.0306,   4.8257],\n",
      "        [ -3.7994,   1.4512,   6.3470,   5.6205,  -8.1647,   1.5813, -13.9771,\n",
      "           9.1327,   3.2498,   1.0674]])\n"
     ]
    }
   ],
   "source": [
    "# エラー結果の要素を抽出\n",
    "index_error = torch.argmax(test_predict, axis=1) != t_test\n",
    "error_list = torch.arange(len(test_predict))[index_error]\n",
    "print(f'error rate = {len(error_list) / len(test_predict) * 100}[%]',\n",
    "      f'(num = {len(error_list)}/{len(test_predict)})')\n",
    "\n",
    "offset = 0\n",
    "# 画像を表示\n",
    "figure = plt.figure(figsize=(12, 2))\n",
    "rows, cols = 1, 6\n",
    "for i in range(rows * cols):\n",
    "    index = error_list[offset + i]\n",
    "    img, label_t, label_y = x_test[index], t_test[index], test_predict[index].argmax()\n",
    "    figure.add_subplot(rows, cols, i + 1)\n",
    "    plt.title(f'{label_y} (t={label_t})')\n",
    "    plt.axis('off')\n",
    "    plt.imshow(img.squeeze(), cmap='gray')  # 1x28x28 -> 28x28 に変換\n",
    "plt.show()\n",
    "print(test_predict[error_list[offset:offset + rows * cols]])"
   ]
  },
  {
   "cell_type": "code",
   "execution_count": null,
   "id": "fafd3cb8",
   "metadata": {},
   "outputs": [],
   "source": []
  }
 ],
 "metadata": {
  "kernelspec": {
   "display_name": "PytorchEnv",
   "language": "python",
   "name": "pytorchenv"
  },
  "language_info": {
   "codemirror_mode": {
    "name": "ipython",
    "version": 3
   },
   "file_extension": ".py",
   "mimetype": "text/x-python",
   "name": "python",
   "nbconvert_exporter": "python",
   "pygments_lexer": "ipython3",
   "version": "3.9.6"
  }
 },
 "nbformat": 4,
 "nbformat_minor": 5
}
