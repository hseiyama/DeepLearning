{
 "cells": [
  {
   "cell_type": "markdown",
   "id": "e95231ab",
   "metadata": {},
   "source": [
    "# ディープラーニングフレームワーク PyTorch を利用した実装"
   ]
  },
  {
   "cell_type": "code",
   "execution_count": 1,
   "id": "e4acc762",
   "metadata": {},
   "outputs": [],
   "source": [
    "import torch\n",
    "from torch import nn\n",
    "from torch.utils.data import DataLoader\n",
    "from torchvision import datasets\n",
    "from torchvision.transforms import ToTensor\n",
    "import matplotlib.pyplot as plt"
   ]
  },
  {
   "cell_type": "code",
   "execution_count": 2,
   "id": "eb2fe989",
   "metadata": {},
   "outputs": [],
   "source": [
    "# 訓練データをdatasetsからダウンロード\n",
    "training_data = datasets.MNIST(\n",
    "    root=\"data\",\n",
    "    train=True,\n",
    "    download=True,\n",
    "    transform=ToTensor(),\n",
    ")\n",
    "\n",
    "# テストデータをdatasetsからダウンロード\n",
    "test_data = datasets.MNIST(\n",
    "    root=\"data\",\n",
    "    train=False,\n",
    "    download=True,\n",
    "    transform=ToTensor(),\n",
    ")"
   ]
  },
  {
   "cell_type": "code",
   "execution_count": 3,
   "id": "72b4c0b6",
   "metadata": {},
   "outputs": [
    {
     "name": "stdout",
     "output_type": "stream",
     "text": [
      "Shape of X [N, C, H, W]:  torch.Size([64, 1, 28, 28])\n",
      "Shape of y:  torch.Size([64]) torch.int64\n"
     ]
    }
   ],
   "source": [
    "batch_size = 64\n",
    "\n",
    "# データローダーの作成\n",
    "train_dataloader = DataLoader(training_data, batch_size=batch_size)\n",
    "test_dataloader = DataLoader(test_data, batch_size=batch_size)\n",
    "\n",
    "for X, y in test_dataloader:\n",
    "    print(\"Shape of X [N, C, H, W]: \", X.shape)\n",
    "    print(\"Shape of y: \", y.shape, y.dtype)\n",
    "    break"
   ]
  },
  {
   "cell_type": "code",
   "execution_count": 4,
   "id": "2a8235d4",
   "metadata": {},
   "outputs": [
    {
     "name": "stdout",
     "output_type": "stream",
     "text": [
      "Using cpu device\n",
      "NeuralNetwork(\n",
      "  (flatten): Flatten(start_dim=1, end_dim=-1)\n",
      "  (linear_relu_stack): Sequential(\n",
      "    (0): Linear(in_features=784, out_features=512, bias=True)\n",
      "    (1): ReLU()\n",
      "    (2): Linear(in_features=512, out_features=512, bias=True)\n",
      "    (3): ReLU()\n",
      "    (4): Linear(in_features=512, out_features=10, bias=True)\n",
      "    (5): ReLU()\n",
      "  )\n",
      ")\n"
     ]
    }
   ],
   "source": [
    "# 訓練に際して、可能であればGPU（cuda）を設定します。GPUが搭載されていない場合はCPUを使用します\n",
    "device = \"cuda\" if torch.cuda.is_available() else \"cpu\"\n",
    "print(\"Using {} device\".format(device))\n",
    "\n",
    "# modelを定義します\n",
    "class NeuralNetwork(nn.Module):\n",
    "    def __init__(self):\n",
    "        super(NeuralNetwork, self).__init__()\n",
    "        self.flatten = nn.Flatten()\n",
    "        self.linear_relu_stack = nn.Sequential(\n",
    "            nn.Linear(28*28, 512),\n",
    "            nn.ReLU(),\n",
    "            nn.Linear(512, 512),\n",
    "            nn.ReLU(),\n",
    "            nn.Linear(512, 10),\n",
    "            nn.ReLU()\n",
    "        )\n",
    "\n",
    "    def forward(self, x):\n",
    "        x = self.flatten(x)\n",
    "        logits = self.linear_relu_stack(x)\n",
    "        return logits\n",
    "\n",
    "model = NeuralNetwork().to(device)\n",
    "print(model)"
   ]
  },
  {
   "cell_type": "code",
   "execution_count": 5,
   "id": "14ff85f9",
   "metadata": {},
   "outputs": [],
   "source": [
    "loss_fn = nn.CrossEntropyLoss()\n",
    "optimizer = torch.optim.SGD(model.parameters(), lr=1e-3)"
   ]
  },
  {
   "cell_type": "code",
   "execution_count": 6,
   "id": "3b858f73",
   "metadata": {},
   "outputs": [],
   "source": [
    "def train(dataloader, model, loss_fn, optimizer):\n",
    "    size = len(dataloader.dataset)\n",
    "    for batch, (X, y) in enumerate(dataloader):\n",
    "        X, y = X.to(device), y.to(device)\n",
    "        \n",
    "        # 損失誤差を計算\n",
    "        pred = model(X)\n",
    "        loss = loss_fn(pred, y)\n",
    "        \n",
    "        # バックプロパゲーション\n",
    "        optimizer.zero_grad()\n",
    "        loss.backward()\n",
    "        optimizer.step()\n",
    "\n",
    "        if batch % 100 == 0:\n",
    "            loss, current = loss.item(), batch * len(X)\n",
    "            print(f\"loss: {loss:>7f}  [{current:>5d}/{size:>5d}]\")"
   ]
  },
  {
   "cell_type": "code",
   "execution_count": 7,
   "id": "2cc55dab",
   "metadata": {},
   "outputs": [],
   "source": [
    "def test(dataloader, model):\n",
    "    size = len(dataloader.dataset)\n",
    "    model.eval()\n",
    "    test_loss, correct = 0, 0\n",
    "    with torch.no_grad():\n",
    "        for X, y in dataloader:\n",
    "            X, y = X.to(device), y.to(device)\n",
    "            pred = model(X)\n",
    "            test_loss += loss_fn(pred, y).item()\n",
    "            correct += (pred.argmax(1) == y).type(torch.float).sum().item()\n",
    "    test_loss /= size\n",
    "    correct /= size\n",
    "    print(f\"Test Error: \\n Accuracy: {(100*correct):>0.1f}%, Avg loss: {test_loss:>8f} \\n\")"
   ]
  },
  {
   "cell_type": "code",
   "execution_count": 8,
   "id": "8fe2bc91",
   "metadata": {},
   "outputs": [
    {
     "name": "stdout",
     "output_type": "stream",
     "text": [
      "Epoch 1\n",
      "-------------------------------\n",
      "loss: 2.300003  [    0/60000]\n",
      "loss: 2.300577  [ 6400/60000]\n",
      "loss: 2.293638  [12800/60000]\n",
      "loss: 2.296550  [19200/60000]\n",
      "loss: 2.289283  [25600/60000]\n",
      "loss: 2.284236  [32000/60000]\n",
      "loss: 2.278177  [38400/60000]\n",
      "loss: 2.286668  [44800/60000]\n",
      "loss: 2.276907  [51200/60000]\n",
      "loss: 2.265453  [57600/60000]\n",
      "Test Error: \n",
      " Accuracy: 44.7%, Avg loss: 0.035651 \n",
      "\n",
      "Epoch 2\n",
      "-------------------------------\n",
      "loss: 2.273788  [    0/60000]\n",
      "loss: 2.270266  [ 6400/60000]\n",
      "loss: 2.262070  [12800/60000]\n",
      "loss: 2.258938  [19200/60000]\n",
      "loss: 2.250349  [25600/60000]\n",
      "loss: 2.247115  [32000/60000]\n",
      "loss: 2.243308  [38400/60000]\n",
      "loss: 2.261898  [44800/60000]\n",
      "loss: 2.236513  [51200/60000]\n",
      "loss: 2.223630  [57600/60000]\n",
      "Test Error: \n",
      " Accuracy: 58.6%, Avg loss: 0.035003 \n",
      "\n",
      "Epoch 3\n",
      "-------------------------------\n",
      "loss: 2.234789  [    0/60000]\n",
      "loss: 2.227665  [ 6400/60000]\n",
      "loss: 2.218719  [12800/60000]\n",
      "loss: 2.208559  [19200/60000]\n",
      "loss: 2.197887  [25600/60000]\n",
      "loss: 2.195520  [32000/60000]\n",
      "loss: 2.191331  [38400/60000]\n",
      "loss: 2.225435  [44800/60000]\n",
      "loss: 2.178831  [51200/60000]\n",
      "loss: 2.161858  [57600/60000]\n",
      "Test Error: \n",
      " Accuracy: 62.3%, Avg loss: 0.034038 \n",
      "\n",
      "Epoch 4\n",
      "-------------------------------\n",
      "loss: 2.177468  [    0/60000]\n",
      "loss: 2.165999  [ 6400/60000]\n",
      "loss: 2.151290  [12800/60000]\n",
      "loss: 2.132117  [19200/60000]\n",
      "loss: 2.115666  [25600/60000]\n",
      "loss: 2.114176  [32000/60000]\n",
      "loss: 2.109877  [38400/60000]\n",
      "loss: 2.165627  [44800/60000]\n",
      "loss: 2.087150  [51200/60000]\n",
      "loss: 2.064130  [57600/60000]\n",
      "Test Error: \n",
      " Accuracy: 63.6%, Avg loss: 0.032473 \n",
      "\n",
      "Epoch 5\n",
      "-------------------------------\n",
      "loss: 2.088065  [    0/60000]\n",
      "loss: 2.065885  [ 6400/60000]\n",
      "loss: 2.034887  [12800/60000]\n",
      "loss: 2.013506  [19200/60000]\n",
      "loss: 1.980627  [25600/60000]\n",
      "loss: 1.975318  [32000/60000]\n",
      "loss: 1.976830  [38400/60000]\n",
      "loss: 2.057950  [44800/60000]\n",
      "loss: 1.941376  [51200/60000]\n",
      "loss: 1.912494  [57600/60000]\n",
      "Test Error: \n",
      " Accuracy: 63.8%, Avg loss: 0.029970 \n",
      "\n",
      "Done!\n"
     ]
    }
   ],
   "source": [
    "epochs = 5\n",
    "for t in range(epochs):\n",
    "    print(f\"Epoch {t+1}\\n-------------------------------\")\n",
    "    train(train_dataloader, model, loss_fn, optimizer)\n",
    "    test(test_dataloader, model)\n",
    "print(\"Done!\")"
   ]
  },
  {
   "cell_type": "code",
   "execution_count": 9,
   "id": "c093a047",
   "metadata": {},
   "outputs": [
    {
     "name": "stdout",
     "output_type": "stream",
     "text": [
      "Saved PyTorch Model State to model.pth\n"
     ]
    }
   ],
   "source": [
    "torch.save(model.state_dict(), \"model.pth\")\n",
    "print(\"Saved PyTorch Model State to model.pth\")"
   ]
  },
  {
   "cell_type": "code",
   "execution_count": 10,
   "id": "ddf5a5a7",
   "metadata": {},
   "outputs": [
    {
     "data": {
      "text/plain": [
       "<All keys matched successfully>"
      ]
     },
     "execution_count": 10,
     "metadata": {},
     "output_type": "execute_result"
    }
   ],
   "source": [
    "model = NeuralNetwork()\n",
    "model.load_state_dict(torch.load(\"model.pth\"))"
   ]
  },
  {
   "cell_type": "code",
   "execution_count": 11,
   "id": "e1b67440",
   "metadata": {},
   "outputs": [
    {
     "name": "stdout",
     "output_type": "stream",
     "text": [
      "Predicted: \"7\", Actual: \"7\"\n"
     ]
    }
   ],
   "source": [
    "model.eval()\n",
    "x, y = test_data[0][0], test_data[0][1]\n",
    "with torch.no_grad():\n",
    "    pred = model(x)\n",
    "    predicted, actual = pred[0].argmax(0), y\n",
    "    print(f'Predicted: \"{predicted}\", Actual: \"{actual}\"')"
   ]
  }
 ],
 "metadata": {
  "kernelspec": {
   "display_name": "PytorchEnv",
   "language": "python",
   "name": "pytorchenv"
  },
  "language_info": {
   "codemirror_mode": {
    "name": "ipython",
    "version": 3
   },
   "file_extension": ".py",
   "mimetype": "text/x-python",
   "name": "python",
   "nbconvert_exporter": "python",
   "pygments_lexer": "ipython3",
   "version": "3.9.6"
  }
 },
 "nbformat": 4,
 "nbformat_minor": 5
}
