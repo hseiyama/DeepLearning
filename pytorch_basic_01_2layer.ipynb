{
 "cells": [
  {
   "cell_type": "markdown",
   "id": "e95231ab",
   "metadata": {},
   "source": [
    "# PyTorch を利用した実装"
   ]
  },
  {
   "cell_type": "code",
   "execution_count": 50,
   "id": "e4acc762",
   "metadata": {},
   "outputs": [],
   "source": [
    "import torch\n",
    "from torch import nn\n",
    "from torch.utils.data import DataLoader\n",
    "from torchvision import datasets\n",
    "from torchvision.transforms import ToTensor\n",
    "import matplotlib.pyplot as plt"
   ]
  },
  {
   "cell_type": "markdown",
   "id": "67197fa6",
   "metadata": {},
   "source": [
    "### パラメータの定義"
   ]
  },
  {
   "cell_type": "code",
   "execution_count": 51,
   "id": "383e5d30",
   "metadata": {},
   "outputs": [],
   "source": [
    "epoch_num = 20  # エポック数を設定する\n",
    "batch_size = 100  # バッチの数\n",
    "learning_rate = 0.1  # 学習係数"
   ]
  },
  {
   "cell_type": "markdown",
   "id": "fd15d5e9",
   "metadata": {},
   "source": [
    "### MNIST データセット"
   ]
  },
  {
   "cell_type": "code",
   "execution_count": 52,
   "id": "eb2fe989",
   "metadata": {},
   "outputs": [],
   "source": [
    "# 訓練データをdatasetsからダウンロード\n",
    "training_data = datasets.MNIST(\n",
    "    root=\"data\",\n",
    "    train=True,\n",
    "    download=True,\n",
    "    transform=ToTensor()\n",
    ")\n",
    "\n",
    "# テストデータをdatasetsからダウンロード\n",
    "test_data = datasets.MNIST(\n",
    "    root=\"data\",\n",
    "    train=False,\n",
    "    download=True,\n",
    "    transform=ToTensor()\n",
    ")"
   ]
  },
  {
   "cell_type": "markdown",
   "id": "649faba1",
   "metadata": {},
   "source": [
    "### データローダー"
   ]
  },
  {
   "cell_type": "code",
   "execution_count": 53,
   "id": "72b4c0b6",
   "metadata": {},
   "outputs": [
    {
     "name": "stdout",
     "output_type": "stream",
     "text": [
      "X.shape [N, C, H, W]: torch.Size([100, 1, 28, 28])\n",
      "y.shape: torch.Size([100]) torch.int64\n"
     ]
    }
   ],
   "source": [
    "# データローダーの作成\n",
    "train_dataloader = DataLoader(training_data, batch_size=batch_size)\n",
    "test_dataloader = DataLoader(test_data, batch_size=batch_size)\n",
    "\n",
    "for X, y in test_dataloader:\n",
    "    print(\"X.shape [N, C, H, W]:\", X.shape)\n",
    "    print(\"y.shape:\", y.shape, y.dtype)\n",
    "    break"
   ]
  },
  {
   "cell_type": "markdown",
   "id": "ff9d0dbc",
   "metadata": {},
   "source": [
    "#### 【オプション】入力データの確認"
   ]
  },
  {
   "cell_type": "code",
   "execution_count": 54,
   "id": "57f6b6c1",
   "metadata": {},
   "outputs": [
    {
     "data": {
      "image/png": "[encoded data removed]",
      "text/plain": [
       "<Figure size 864x288 with 12 Axes>"
      ]
     },
     "metadata": {
      "needs_background": "light"
     },
     "output_type": "display_data"
    },
    {
     "name": "stdout",
     "output_type": "stream",
     "text": [
      "tensor([5, 0, 4, 1, 9, 2, 1, 3, 1, 4, 3, 5])\n"
     ]
    }
   ],
   "source": [
    "for X, y in train_dataloader:\n",
    "    x_train = X\n",
    "    t_train = y\n",
    "    break\n",
    "\n",
    "# 画像を表示\n",
    "figure = plt.figure(figsize=(12, 4))\n",
    "rows, cols = 2, 6\n",
    "for i in range(rows * cols):\n",
    "    img, label = x_train[i], t_train[i]\n",
    "    figure.add_subplot(rows, cols, i + 1)\n",
    "    plt.title(f'{label} (idx={i})')\n",
    "    plt.axis('off')\n",
    "    plt.imshow(img.squeeze(), cmap='gray')  # 1x28x28 -> 28x28 に変換\n",
    "plt.show()\n",
    "print(y[:rows * cols])"
   ]
  },
  {
   "cell_type": "markdown",
   "id": "ea1751a9",
   "metadata": {},
   "source": [
    "### ニューラルネットワークの定義"
   ]
  },
  {
   "cell_type": "code",
   "execution_count": 55,
   "id": "2a8235d4",
   "metadata": {},
   "outputs": [],
   "source": [
    "# modelを定義します\n",
    "class NeuralNetwork(nn.Module):\n",
    "    def __init__(self):\n",
    "        super(NeuralNetwork, self).__init__()\n",
    "        self.flatten = nn.Flatten()\n",
    "        self.linear_sigmoid_stack = nn.Sequential(\n",
    "            nn.Linear(28*28, 50),\n",
    "            #nn.Sigmoid(),\n",
    "            nn.ReLU(),\n",
    "            nn.Linear(50, 10)\n",
    "        )\n",
    "\n",
    "    def forward(self, x):\n",
    "        x = self.flatten(x)\n",
    "        logits = self.linear_sigmoid_stack(x)\n",
    "        return logits"
   ]
  },
  {
   "cell_type": "markdown",
   "id": "544e268d",
   "metadata": {},
   "source": [
    "### ニューラルネットワークのインスタンス化"
   ]
  },
  {
   "cell_type": "code",
   "execution_count": 56,
   "id": "c97e4688",
   "metadata": {},
   "outputs": [
    {
     "name": "stdout",
     "output_type": "stream",
     "text": [
      "Using cpu device\n",
      "NeuralNetwork(\n",
      "  (flatten): Flatten(start_dim=1, end_dim=-1)\n",
      "  (linear_sigmoid_stack): Sequential(\n",
      "    (0): Linear(in_features=784, out_features=50, bias=True)\n",
      "    (1): ReLU()\n",
      "    (2): Linear(in_features=50, out_features=10, bias=True)\n",
      "  )\n",
      ")\n"
     ]
    }
   ],
   "source": [
    "# 訓練に際して、可能であればGPU（cuda）を設定します。GPUが搭載されていない場合はCPUを使用します\n",
    "device = \"cuda\" if torch.cuda.is_available() else \"cpu\"\n",
    "print(\"Using {} device\".format(device))\n",
    "\n",
    "model = NeuralNetwork().to(device)\n",
    "print(model)"
   ]
  },
  {
   "cell_type": "markdown",
   "id": "f4363c18",
   "metadata": {},
   "source": [
    "### 損失関数と最適化手法を定義"
   ]
  },
  {
   "cell_type": "code",
   "execution_count": 57,
   "id": "14ff85f9",
   "metadata": {},
   "outputs": [],
   "source": [
    "loss_fn = nn.CrossEntropyLoss()\n",
    "optimizer = torch.optim.SGD(model.parameters(), lr=learning_rate)"
   ]
  },
  {
   "cell_type": "markdown",
   "id": "a7b9f22e",
   "metadata": {},
   "source": [
    "### 訓練のプロセス"
   ]
  },
  {
   "cell_type": "code",
   "execution_count": 58,
   "id": "3b858f73",
   "metadata": {},
   "outputs": [],
   "source": [
    "def train(dataloader, model, loss_fn, optimizer):\n",
    "    model.train()  # 訓練モード\n",
    "    loss_list = []\n",
    "    size = len(dataloader.dataset)\n",
    "    for batch, (X, y) in enumerate(dataloader):\n",
    "        X, y = X.to(device), y.to(device)\n",
    "        #y = torch.eye(10)[y]  # index -> one-hot 形式に変換\n",
    "        \n",
    "        # 損失誤差を計算\n",
    "        pred = model(X)\n",
    "        loss = loss_fn(pred, y)\n",
    "        \n",
    "        # バックプロパゲーション\n",
    "        optimizer.zero_grad()\n",
    "        loss.backward()\n",
    "        optimizer.step()\n",
    "        \n",
    "        loss_list.append(loss.item())\n",
    "    \n",
    "    return loss_list"
   ]
  },
  {
   "cell_type": "markdown",
   "id": "25d1036b",
   "metadata": {},
   "source": [
    "### 評価のプロセス"
   ]
  },
  {
   "cell_type": "code",
   "execution_count": 59,
   "id": "2cc55dab",
   "metadata": {},
   "outputs": [],
   "source": [
    "def test(dataloader, model):\n",
    "    model.eval()  # 評価モード\n",
    "    correct = 0\n",
    "    size = len(dataloader.dataset)\n",
    "    with torch.no_grad():\n",
    "        for X, y in dataloader:\n",
    "            X, y = X.to(device), y.to(device)\n",
    "            pred = model(X)\n",
    "            correct += (pred.argmax(1) == y).type(torch.float).sum().item()\n",
    "    correct /= size\n",
    "    \n",
    "    return correct"
   ]
  },
  {
   "cell_type": "markdown",
   "id": "f364be56",
   "metadata": {},
   "source": [
    "### ミニバッチの学習"
   ]
  },
  {
   "cell_type": "code",
   "execution_count": 60,
   "id": "8fe2bc91",
   "metadata": {},
   "outputs": [
    {
     "name": "stdout",
     "output_type": "stream",
     "text": [
      "epoch(1) loss = 0.3414597809314728\n",
      "epoch(1) accuracy(train, test) = (0.9043166666666667, 0.9097)\n",
      "epoch(2) loss = 0.2948123812675476\n",
      "epoch(2) accuracy(train, test) = (0.9262333333333334, 0.9268)\n",
      "epoch(3) loss = 0.2768723666667938\n",
      "epoch(3) accuracy(train, test) = (0.9387166666666666, 0.9382)\n",
      "epoch(4) loss = 0.2680833041667938\n",
      "epoch(4) accuracy(train, test) = (0.94685, 0.9454)\n",
      "epoch(5) loss = 0.26043108105659485\n",
      "epoch(5) accuracy(train, test) = (0.9528333333333333, 0.9521)\n",
      "epoch(6) loss = 0.2548459768295288\n",
      "epoch(6) accuracy(train, test) = (0.9576666666666667, 0.9565)\n",
      "epoch(7) loss = 0.24949318170547485\n",
      "epoch(7) accuracy(train, test) = (0.96155, 0.9589)\n",
      "epoch(8) loss = 0.24398669600486755\n",
      "epoch(8) accuracy(train, test) = (0.9645666666666667, 0.9609)\n",
      "epoch(9) loss = 0.240119069814682\n",
      "epoch(9) accuracy(train, test) = (0.967, 0.9614)\n",
      "epoch(10) loss = 0.23394964635372162\n",
      "epoch(10) accuracy(train, test) = (0.96915, 0.9621)\n",
      "epoch(11) loss = 0.22925974428653717\n",
      "epoch(11) accuracy(train, test) = (0.971, 0.9645)\n",
      "epoch(12) loss = 0.22554191946983337\n",
      "epoch(12) accuracy(train, test) = (0.9725333333333334, 0.9651)\n",
      "epoch(13) loss = 0.22143398225307465\n",
      "epoch(13) accuracy(train, test) = (0.9738833333333333, 0.9657)\n",
      "epoch(14) loss = 0.2173590213060379\n",
      "epoch(14) accuracy(train, test) = (0.9751333333333333, 0.9666)\n",
      "epoch(15) loss = 0.21336691081523895\n",
      "epoch(15) accuracy(train, test) = (0.9762166666666666, 0.9672)\n",
      "epoch(16) loss = 0.21126139163970947\n",
      "epoch(16) accuracy(train, test) = (0.9768, 0.9676)\n",
      "epoch(17) loss = 0.20861920714378357\n",
      "epoch(17) accuracy(train, test) = (0.9779166666666667, 0.9684)\n",
      "epoch(18) loss = 0.2057674080133438\n",
      "epoch(18) accuracy(train, test) = (0.9786, 0.9684)\n",
      "epoch(19) loss = 0.2048414647579193\n",
      "epoch(19) accuracy(train, test) = (0.9791166666666666, 0.9688)\n",
      "epoch(20) loss = 0.20287221670150757\n",
      "epoch(20) accuracy(train, test) = (0.9801166666666666, 0.9693)\n",
      "Done!\n"
     ]
    }
   ],
   "source": [
    "train_loss_list = []\n",
    "train_acc_list = [0.0]\n",
    "test_acc_list = [0.0]\n",
    "\n",
    "for t in range(epoch_num):\n",
    "    train_loss = train(train_dataloader, model, loss_fn, optimizer)\n",
    "    train_loss_list += train_loss\n",
    "    print(f'epoch({t + 1}) loss = {train_loss_list[-1]}')\n",
    "    train_acc = test(train_dataloader, model)\n",
    "    train_acc_list.append(train_acc)\n",
    "    test_acc = test(test_dataloader, model)\n",
    "    test_acc_list.append(test_acc)\n",
    "    print(f'epoch({t + 1}) accuracy(train, test) = ({train_acc}, {test_acc})')\n",
    "\n",
    "print('Done!')"
   ]
  },
  {
   "cell_type": "markdown",
   "id": "2ff68a9d",
   "metadata": {},
   "source": [
    "### 損失関数の推移"
   ]
  },
  {
   "cell_type": "code",
   "execution_count": 61,
   "id": "f4db9b20",
   "metadata": {},
   "outputs": [
    {
     "data": {
      "image/png": "[encoded data removed]",
      "text/plain": [
       "<Figure size 432x288 with 1 Axes>"
      ]
     },
     "metadata": {
      "needs_background": "light"
     },
     "output_type": "display_data"
    }
   ],
   "source": [
    "# グラフの描画\n",
    "x = torch.arange(len(train_loss_list))\n",
    "plt.plot(x, train_loss_list, label='train loss')\n",
    "plt.xlabel('batchs')\n",
    "plt.ylabel('loss')\n",
    "plt.title('loss by batchs')\n",
    "plt.legend(loc='upper right')\n",
    "plt.show()"
   ]
  },
  {
   "cell_type": "markdown",
   "id": "e9543c97",
   "metadata": {},
   "source": [
    "### 認識精度の推移"
   ]
  },
  {
   "cell_type": "code",
   "execution_count": 62,
   "id": "a6fdc67f",
   "metadata": {},
   "outputs": [
    {
     "data": {
      "image/png": "[encoded data removed]",
      "text/plain": [
       "<Figure size 432x288 with 1 Axes>"
      ]
     },
     "metadata": {
      "needs_background": "light"
     },
     "output_type": "display_data"
    }
   ],
   "source": [
    "# グラフの描画\n",
    "x = torch.arange(len(train_acc_list))\n",
    "plt.plot(x, train_acc_list, label='train acc', marker='o')\n",
    "plt.plot(x, test_acc_list, label='test acc', linestyle='--', marker='^')\n",
    "plt.xlabel('epochs')\n",
    "plt.ylabel('accuracy')\n",
    "plt.title('accuracy by epochs')\n",
    "plt.ylim(0, 1.0)\n",
    "plt.legend(loc='lower right')\n",
    "plt.show()"
   ]
  },
  {
   "cell_type": "markdown",
   "id": "c218411b",
   "metadata": {},
   "source": [
    "#### 【オプション】テストの結果"
   ]
  },
  {
   "cell_type": "code",
   "execution_count": 63,
   "id": "e1b67440",
   "metadata": {},
   "outputs": [
    {
     "name": "stdout",
     "output_type": "stream",
     "text": [
      "torch.Size([10000, 10])\n",
      "index = 0\n",
      "tensor([ -0.3757,  -2.3457,   1.7945,   5.6432,  -5.7003,  -0.3477, -14.2088,\n",
      "         13.2587,  -1.4019,   3.1540])\n",
      "tensor(7)\n",
      "index = 1\n",
      "tensor([  2.0825,   5.4148,  12.6734,   5.7754, -15.2684,   3.2713,   5.0835,\n",
      "        -14.3471,   5.0124, -15.4717])\n",
      "tensor(2)\n",
      "index = 2\n",
      "tensor([-4.1386,  7.1181,  0.0296, -2.7101, -0.9241, -2.7689, -1.1378,  0.7708,\n",
      "         1.6915, -1.9278])\n",
      "tensor(1)\n"
     ]
    }
   ],
   "source": [
    "x_test = None\n",
    "t_test = None\n",
    "test_predict = None\n",
    "\n",
    "# テストの実行\n",
    "model.eval()\n",
    "for batch, (X, y) in enumerate(test_dataloader):\n",
    "    with torch.no_grad():\n",
    "        pred = model(X)\n",
    "        x_test = torch.cat((x_test,X),0) if x_test is not None else X\n",
    "        t_test = torch.cat((t_test,y),0) if t_test is not None else y\n",
    "        test_predict = torch.cat((test_predict,pred),0) if test_predict is not None else pred\n",
    "\n",
    "print(test_predict.shape)\n",
    "for index in range(3):\n",
    "    print(f'index = {index}')\n",
    "    print(test_predict[index])\n",
    "    print(t_test[index])"
   ]
  },
  {
   "cell_type": "markdown",
   "id": "a2eb9cca",
   "metadata": {},
   "source": [
    "#### 【オプション】エラー結果の確認"
   ]
  },
  {
   "cell_type": "code",
   "execution_count": 64,
   "id": "0d49b25e",
   "metadata": {},
   "outputs": [
    {
     "name": "stdout",
     "output_type": "stream",
     "text": [
      "error rate = 3.0700000000000003[%]\n"
     ]
    },
    {
     "data": {
      "image/png": "[encoded data removed]",
      "text/plain": [
       "<Figure size 864x288 with 12 Axes>"
      ]
     },
     "metadata": {
      "needs_background": "light"
     },
     "output_type": "display_data"
    }
   ],
   "source": [
    "# エラー結果の要素を抽出\n",
    "index_error = torch.argmax(test_predict, axis=1) != t_test\n",
    "error_list = torch.arange(len(test_predict))[index_error]\n",
    "print(f'error rate = {len(error_list) / len(test_predict) * 100}[%]')\n",
    "\n",
    "# 画像を表示\n",
    "figure = plt.figure(figsize=(12, 4))\n",
    "rows, cols = 2, 6\n",
    "for i in range(rows * cols):\n",
    "    index = error_list[i]\n",
    "    img, label_t, label_y = x_test[index], t_test[index], test_predict[index].argmax()\n",
    "    figure.add_subplot(rows, cols, i + 1)\n",
    "    plt.title(f'{label_y} (t={label_t})')\n",
    "    plt.axis('off')\n",
    "    plt.imshow(img.squeeze(), cmap='gray')  # 1x28x28 -> 28x28 に変換\n",
    "plt.show()"
   ]
  },
  {
   "cell_type": "code",
   "execution_count": null,
   "id": "fafd3cb8",
   "metadata": {},
   "outputs": [],
   "source": []
  }
 ],
 "metadata": {
  "kernelspec": {
   "display_name": "PytorchEnv",
   "language": "python",
   "name": "pytorchenv"
  },
  "language_info": {
   "codemirror_mode": {
    "name": "ipython",
    "version": 3
   },
   "file_extension": ".py",
   "mimetype": "text/x-python",
   "name": "python",
   "nbconvert_exporter": "python",
   "pygments_lexer": "ipython3",
   "version": "3.9.6"
  }
 },
 "nbformat": 4,
 "nbformat_minor": 5
}
