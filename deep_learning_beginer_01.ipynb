{
 "cells": [
  {
   "cell_type": "markdown",
   "id": "d489872a",
   "metadata": {},
   "source": [
    "# MNISTデータの用意\n",
    "手書きの数字の白黒画像（0から9まで）で構成された古典的なデータセットである、MNISTデータセットを使用します。\n",
    "ファイルのパスを扱うために、pathlib（Python 3標準ライブラリの一部）を使用し、requestsを用いてデータセットをダウンロードします。"
   ]
  },
  {
   "cell_type": "code",
   "execution_count": 32,
   "id": "50695dad",
   "metadata": {},
   "outputs": [],
   "source": [
    "%matplotlib inline"
   ]
  },
  {
   "cell_type": "code",
   "execution_count": 33,
   "id": "90b30485",
   "metadata": {},
   "outputs": [],
   "source": [
    "from pathlib import Path\n",
    "import requests\n",
    "\n",
    "DATA_PATH = Path(\"data\")\n",
    "PATH = DATA_PATH / \"mnist\"\n",
    "\n",
    "PATH.mkdir(parents=True, exist_ok=True)\n",
    "\n",
    "URL = \"https://github.com/pytorch/tutorials/raw/master/_static/\"\n",
    "FILENAME = \"mnist.pkl.gz\"\n",
    "\n",
    "if not (PATH / FILENAME).exists():\n",
    "        content = requests.get(URL + FILENAME).content\n",
    "        (PATH / FILENAME).open(\"wb\").write(content)"
   ]
  },
  {
   "cell_type": "markdown",
   "id": "dec230aa",
   "metadata": {},
   "source": [
    "このデータセットはNumpy配列と同じ形式であり、データを連結して格納するためにPickleを利用しています。"
   ]
  },
  {
   "cell_type": "code",
   "execution_count": 34,
   "id": "344a7698",
   "metadata": {},
   "outputs": [],
   "source": [
    "import pickle\n",
    "import gzip\n",
    "\n",
    "with gzip.open((PATH / FILENAME).as_posix(), \"rb\") as f:\n",
    "        ((x_train, y_train), (x_valid, y_valid), _) = pickle.load(f, encoding=\"latin-1\")"
   ]
  },
  {
   "cell_type": "markdown",
   "id": "cf070d9c",
   "metadata": {},
   "source": [
    "それぞれの画像のサイズは 28 x 28 ですが、1次元に平坦化されて要素数が784 (= 28×28)の数値配列として保存されています。\n",
    "まずデータを2次元の画像に変換し、画面に表示してみましょう。"
   ]
  },
  {
   "cell_type": "code",
   "execution_count": 35,
   "id": "0bf24fda",
   "metadata": {},
   "outputs": [
    {
     "name": "stdout",
     "output_type": "stream",
     "text": [
      "4\n",
      "(50000, 784)\n"
     ]
    },
    {
     "data": {
      "image/png": "[encoded data removed]",
      "text/plain": [
       "<Figure size 432x288 with 1 Axes>"
      ]
     },
     "metadata": {
      "needs_background": "light"
     },
     "output_type": "display_data"
    }
   ],
   "source": [
    "from matplotlib import pyplot\n",
    "import numpy as np\n",
    "\n",
    "idx = 2\n",
    "pyplot.imshow(x_train[idx].reshape((28, 28)), cmap=\"gray\")\n",
    "print(y_train[idx])\n",
    "print(x_train.shape)\n",
    "# print(type(x_train[idx][0]))\n",
    "# print(x_train[idx])"
   ]
  },
  {
   "cell_type": "markdown",
   "id": "9288656b",
   "metadata": {},
   "source": [
    "PyTorchはNumpy配列ではなくtorch.tensorを利用するので、データを変換する必要があります。"
   ]
  },
  {
   "cell_type": "code",
   "execution_count": 37,
   "id": "7bada073",
   "metadata": {},
   "outputs": [
    {
     "name": "stdout",
     "output_type": "stream",
     "text": [
      "tensor([[0., 0., 0.,  ..., 0., 0., 0.],\n",
      "        [0., 0., 0.,  ..., 0., 0., 0.],\n",
      "        [0., 0., 0.,  ..., 0., 0., 0.],\n",
      "        ...,\n",
      "        [0., 0., 0.,  ..., 0., 0., 0.],\n",
      "        [0., 0., 0.,  ..., 0., 0., 0.],\n",
      "        [0., 0., 0.,  ..., 0., 0., 0.]]) tensor([5, 0, 4,  ..., 8, 4, 8])\n",
      "torch.Size([50000, 784])\n",
      "tensor(0) tensor(9)\n"
     ]
    }
   ],
   "source": [
    "import torch\n",
    "\n",
    "x_train, y_train, x_valid, y_valid = map(\n",
    "    torch.tensor, (x_train, y_train, x_valid, y_valid)\n",
    ")\n",
    "n, c = x_train.shape\n",
    "x_train, x_train.shape, y_train.min(), y_train.max()\n",
    "print(x_train, y_train)\n",
    "print(x_train.shape)\n",
    "print(y_train.min(), y_train.max())"
   ]
  },
  {
   "cell_type": "markdown",
   "id": "53fcae1f",
   "metadata": {},
   "source": [
    "# (torch.nnなしで）ニューラルネットワークを構築\n",
    "まず、PyTorch Tensorによる演算以外は何も利用せずに、ニューラルネットワークのモデルを実装してみましょう。\n",
    "### 注釈\n",
    "重みの初期化はXavierの初期値(1/sqrt(n)を掛ける)を使用しています。"
   ]
  },
  {
   "cell_type": "code",
   "execution_count": 38,
   "id": "07d4ce34",
   "metadata": {},
   "outputs": [],
   "source": [
    "import math\n",
    "\n",
    "weights = torch.randn(784, 10) / math.sqrt(784)\n",
    "weights.requires_grad_()\n",
    "bias = torch.zeros(10, requires_grad=True)"
   ]
  },
  {
   "cell_type": "markdown",
   "id": "72aef823",
   "metadata": {},
   "source": [
    "それでは、シンプルな線形モデルを作成するために、単純な行列の乗算とブロードキャストを使った加算を定義してみましょう。\n",
    "さらに、活性化関数も必要になるので、log_softmax関数を定義して使用します。"
   ]
  },
  {
   "cell_type": "code",
   "execution_count": 39,
   "id": "085be005",
   "metadata": {},
   "outputs": [],
   "source": [
    "def log_softmax(x):\n",
    "    return x - x.exp().sum(-1).log().unsqueeze(-1)\n",
    "\n",
    "def model(xb):\n",
    "    return log_softmax(xb @ weights + bias)"
   ]
  },
  {
   "cell_type": "markdown",
   "id": "8a42621c",
   "metadata": {},
   "source": [
    "上記のコードで、@は行列積を表しています。\n",
    "一つのバッチデータ（この場合は64枚の画像）に対して、各関数が実行されることになります。\n",
    "\n",
    "以下のコードは、順伝播の経路を表していますが、乱数で定義された重みをそのまま使用しているので、予測値はランダムな結果よりも優れたものは得られないことに注意してください。"
   ]
  },
  {
   "cell_type": "code",
   "execution_count": 40,
   "id": "22b534d3",
   "metadata": {},
   "outputs": [
    {
     "name": "stdout",
     "output_type": "stream",
     "text": [
      "tensor([-2.2363, -2.5043, -2.5111, -2.4225, -2.4171, -2.3085, -2.1428, -2.3620,\n",
      "        -2.4217, -1.8798], grad_fn=<SelectBackward>) torch.Size([64, 10])\n"
     ]
    }
   ],
   "source": [
    "bs = 64  # batch size\n",
    "\n",
    "xb = x_train[0:bs]  # a mini-batch from x\n",
    "preds = model(xb)  # predictions\n",
    "preds[0], preds.shape\n",
    "print(preds[0], preds.shape)"
   ]
  },
  {
   "cell_type": "markdown",
   "id": "cca12678",
   "metadata": {},
   "source": [
    "このようにTensor変数predsには、値だけではなく勾配情報も含まれていて、誤差逆伝播を行う際に利用することができます。\n",
    "\n",
    "損失関数として、負の対数尤度を出力する関数（nll関数）を実装してみましょう（ここでも標準的なPythonのコードを用います）。"
   ]
  },
  {
   "cell_type": "code",
   "execution_count": 41,
   "id": "28ecc192",
   "metadata": {},
   "outputs": [],
   "source": [
    "def nll(input, target):\n",
    "    return -input[range(target.shape[0]), target].mean()\n",
    "\n",
    "loss_func = nll"
   ]
  },
  {
   "cell_type": "markdown",
   "id": "c1417e5d",
   "metadata": {},
   "source": [
    "先ほど実装したランダムなモデルで損失の値を確認してみましょう。\n",
    "\n",
    "モデルが改善されていることは、誤差逆伝播を行った後に確認することができます。"
   ]
  },
  {
   "cell_type": "code",
   "execution_count": 42,
   "id": "e9e55f51",
   "metadata": {},
   "outputs": [
    {
     "name": "stdout",
     "output_type": "stream",
     "text": [
      "tensor(2.3015, grad_fn=<NegBackward>)\n"
     ]
    }
   ],
   "source": [
    "yb = y_train[0:bs]\n",
    "print(loss_func(preds, yb))"
   ]
  },
  {
   "cell_type": "markdown",
   "id": "f34f9141",
   "metadata": {},
   "source": [
    "モデルの予測精度を計算する関数も実装しておきましょう。\n",
    "それぞれの予測において、出力が最大となった要素のラベルが正解のラベルと一致すれば、予測が正しかったことになります。\n",
    "（日本語訳注）：0から9までの手書き文字を予測する場合、モデルから出力されるTensorは10種類の値を持ち、それぞれの値は数字の0から順に対応付けられています。"
   ]
  },
  {
   "cell_type": "code",
   "execution_count": 44,
   "id": "743e8935",
   "metadata": {},
   "outputs": [],
   "source": [
    "def accuracy(out, yb):\n",
    "    preds = torch.argmax(out, dim=1)\n",
    "    return (preds == yb).float().mean()"
   ]
  },
  {
   "cell_type": "markdown",
   "id": "b1693deb",
   "metadata": {},
   "source": [
    "ランダムなモデルの精度を確認して、損失が減少すると予測精度が改善されるのか確認してみます。"
   ]
  },
  {
   "cell_type": "code",
   "execution_count": 45,
   "id": "b0da8445",
   "metadata": {},
   "outputs": [
    {
     "name": "stdout",
     "output_type": "stream",
     "text": [
      "tensor(0.0625)\n"
     ]
    }
   ],
   "source": [
    "print(accuracy(preds, yb))"
   ]
  },
  {
   "cell_type": "markdown",
   "id": "0d919d4d",
   "metadata": {},
   "source": [
    "これで、学習を繰り返し行う準備が整いました。\n",
    "それでは次に、イテレーションごとに次の手順を実施します。\n",
    "- データのミニバッチをbs（バッチサイズ）の大きさで選択する\n",
    "- モデルを用いて予測を行う\n",
    "- 損失を計算する\n",
    "- loss.backward()はモデルの勾配を更新します。この場合では重みとバイアスの勾配を算出しています。"
   ]
  },
  {
   "cell_type": "code",
   "execution_count": 46,
   "id": "26b59409",
   "metadata": {},
   "outputs": [],
   "source": [
    "from IPython.core.debugger import set_trace\n",
    "\n",
    "lr = 0.05  # learning rate\n",
    "epochs = 10  # how many epochs to train for\n",
    "\n",
    "for epoch in range(epochs):\n",
    "    for i in range((n - 1) // bs + 1):\n",
    "        # set_trace()\n",
    "        start_i = i * bs\n",
    "        end_i = start_i + bs\n",
    "        xb = x_train[start_i:end_i]\n",
    "        yb = y_train[start_i:end_i]\n",
    "        pred = model(xb)\n",
    "        loss = loss_func(pred, yb)\n",
    "\n",
    "        loss.backward()\n",
    "        with torch.no_grad():\n",
    "            weights -= weights.grad * lr\n",
    "            bias -= bias.grad * lr\n",
    "            weights.grad.zero_()\n",
    "            bias.grad.zero_()"
   ]
  },
  {
   "cell_type": "markdown",
   "id": "be8a3472",
   "metadata": {},
   "source": [
    "これで、最小限の大きさのニューラルネットワークをスクラッチで実装し訓練することに成功しました（このケースでは、隠れ層がないので単なるロジスティクス回帰になります）。\n",
    "\n",
    "では、モデルの損失と精度を算出して、その前に得た結果と比較してみましょう。"
   ]
  },
  {
   "cell_type": "code",
   "execution_count": 47,
   "id": "394d6f39",
   "metadata": {},
   "outputs": [
    {
     "name": "stdout",
     "output_type": "stream",
     "text": [
      "tensor(0.3719, grad_fn=<NegBackward>) tensor(0.8750)\n"
     ]
    }
   ],
   "source": [
    "print(loss_func(model(xb), yb), accuracy(model(xb), yb))"
   ]
  }
 ],
 "metadata": {
  "kernelspec": {
   "display_name": "Python 3",
   "language": "python",
   "name": "python3"
  },
  "language_info": {
   "codemirror_mode": {
    "name": "ipython",
    "version": 3
   },
   "file_extension": ".py",
   "mimetype": "text/x-python",
   "name": "python",
   "nbconvert_exporter": "python",
   "pygments_lexer": "ipython3",
   "version": "3.8.8"
  }
 },
 "nbformat": 4,
 "nbformat_minor": 5
}
