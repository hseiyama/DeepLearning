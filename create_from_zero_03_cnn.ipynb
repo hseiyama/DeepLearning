{
 "cells": [
  {
   "cell_type": "markdown",
   "id": "e17e0f98",
   "metadata": {},
   "source": [
    "# 畳み込みニューラルネットワーク"
   ]
  },
  {
   "cell_type": "code",
   "execution_count": 30,
   "id": "e1a0a4f1",
   "metadata": {},
   "outputs": [],
   "source": [
    "import numpy as np\n",
    "import matplotlib.pyplot as plt\n",
    "from dataset.mnist import load_mnist\n",
    "from collections import OrderedDict"
   ]
  },
  {
   "cell_type": "markdown",
   "id": "6af64f0b",
   "metadata": {},
   "source": [
    "### im2col による展開"
   ]
  },
  {
   "cell_type": "code",
   "execution_count": 31,
   "id": "a02ff046",
   "metadata": {},
   "outputs": [],
   "source": [
    "def im2col(input_data, filter_h, filter_w, stride=1, pad=0):\n",
    "    \"\"\"\n",
    "\n",
    "    Parameters\n",
    "    ----------\n",
    "    input_data : (データ数, チャンネル, 高さ, 幅)の4次元配列からなる入力データ\n",
    "    filter_h : フィルターの高さ\n",
    "    filter_w : フィルターの幅\n",
    "    stride : ストライド\n",
    "    pad : パディング\n",
    "\n",
    "    Returns\n",
    "    -------\n",
    "    col : 2次元配列\n",
    "    \"\"\"\n",
    "    N, C, H, W = input_data.shape\n",
    "    out_h = (H + 2*pad - filter_h)//stride + 1\n",
    "    out_w = (W + 2*pad - filter_w)//stride + 1\n",
    "\n",
    "    img = np.pad(input_data, [(0,0), (0,0), (pad, pad), (pad, pad)], 'constant')\n",
    "    col = np.zeros((N, C, filter_h, filter_w, out_h, out_w))\n",
    "\n",
    "    for y in range(filter_h):\n",
    "        y_max = y + stride*out_h\n",
    "        for x in range(filter_w):\n",
    "            x_max = x + stride*out_w\n",
    "            col[:, :, y, x, :, :] = img[:, :, y:y_max:stride, x:x_max:stride]\n",
    "\n",
    "    col = col.transpose(0, 4, 5, 1, 2, 3).reshape(N*out_h*out_w, -1)\n",
    "    return col"
   ]
  },
  {
   "cell_type": "markdown",
   "id": "350c9f38",
   "metadata": {},
   "source": [
    "### col2im（im2col の逆伝播）"
   ]
  },
  {
   "cell_type": "code",
   "execution_count": 32,
   "id": "d5f04ed0",
   "metadata": {},
   "outputs": [],
   "source": [
    "def col2im(col, input_shape, filter_h, filter_w, stride=1, pad=0):\n",
    "    \"\"\"\n",
    "\n",
    "    Parameters\n",
    "    ----------\n",
    "    col :\n",
    "    input_shape : 入力データの形状（例：(10, 1, 28, 28)）\n",
    "    filter_h :\n",
    "    filter_w\n",
    "    stride\n",
    "    pad\n",
    "\n",
    "    Returns\n",
    "    -------\n",
    "\n",
    "    \"\"\"\n",
    "    N, C, H, W = input_shape\n",
    "    out_h = (H + 2*pad - filter_h)//stride + 1\n",
    "    out_w = (W + 2*pad - filter_w)//stride + 1\n",
    "    col = col.reshape(N, out_h, out_w, C, filter_h, filter_w).transpose(0, 3, 4, 5, 1, 2)\n",
    "\n",
    "    img = np.zeros((N, C, H + 2*pad + stride - 1, W + 2*pad + stride - 1))\n",
    "    for y in range(filter_h):\n",
    "        y_max = y + stride*out_h\n",
    "        for x in range(filter_w):\n",
    "            x_max = x + stride*out_w\n",
    "            img[:, :, y:y_max:stride, x:x_max:stride] += col[:, :, y, x, :, :]\n",
    "\n",
    "    return img[:, :, pad:H + pad, pad:W + pad]"
   ]
  },
  {
   "cell_type": "markdown",
   "id": "dc803d8a",
   "metadata": {},
   "source": [
    "### ソフトマックス関数（出力層：分類問題）\n",
    "$ y_k = \\frac{exp(a_k)}{\\sum_{i=1}^{n}exp(a_i)} $"
   ]
  },
  {
   "cell_type": "code",
   "execution_count": 33,
   "id": "594552ce",
   "metadata": {},
   "outputs": [],
   "source": [
    "def softmax(x):\n",
    "    x = x - np.max(x, axis=-1, keepdims=True)  # オーバーフロー対策\n",
    "    return np.exp(x) / np.sum(np.exp(x), axis=-1, keepdims=True)"
   ]
  },
  {
   "cell_type": "markdown",
   "id": "fd828a12",
   "metadata": {},
   "source": [
    "### 交差エントロピー誤差（損失関数）\n",
    "$ E = -\\sum_{k}^{n}t_k log(y_k) $"
   ]
  },
  {
   "cell_type": "code",
   "execution_count": 34,
   "id": "17c3f217",
   "metadata": {},
   "outputs": [],
   "source": [
    "def cross_entropy_error(y, t):\n",
    "    if y.ndim == 1:\n",
    "        t = t.reshape(1, t.size)\n",
    "        y = y.reshape(1, y.size)\n",
    "        \n",
    "    # 教師データがone-hot-vectorの場合、正解ラベルのインデックスに変換\n",
    "    if t.size == y.size:\n",
    "        t = t.argmax(axis=1)\n",
    "             \n",
    "    batch_size = y.shape[0]\n",
    "    return -np.sum(np.log(y[np.arange(batch_size), t] + 1e-7)) / batch_size"
   ]
  },
  {
   "cell_type": "markdown",
   "id": "dcf18c3e",
   "metadata": {},
   "source": [
    "### Convolution レイヤ（畳み込み層）"
   ]
  },
  {
   "cell_type": "code",
   "execution_count": 35,
   "id": "558dfab5",
   "metadata": {},
   "outputs": [],
   "source": [
    "class Convolution:\n",
    "    def __init__(self, W, b, stride=1, pad=0):\n",
    "        self.W = W\n",
    "        self.b = b\n",
    "        self.stride = stride\n",
    "        self.pad = pad\n",
    "        \n",
    "        # 中間データ（backward時に使用）\n",
    "        self.x = None   \n",
    "        self.col = None\n",
    "        self.col_W = None\n",
    "        \n",
    "        # 重み・バイアスパラメータの勾配\n",
    "        self.dW = None\n",
    "        self.db = None\n",
    "\n",
    "    def forward(self, x):\n",
    "        FN, C, FH, FW = self.W.shape\n",
    "        N, C, H, W = x.shape\n",
    "        out_h = 1 + int((H + 2*self.pad - FH) / self.stride)\n",
    "        out_w = 1 + int((W + 2*self.pad - FW) / self.stride)\n",
    "\n",
    "        col = im2col(x, FH, FW, self.stride, self.pad)\n",
    "        col_W = self.W.reshape(FN, -1).T\n",
    "\n",
    "        out = np.dot(col, col_W) + self.b\n",
    "        out = out.reshape(N, out_h, out_w, -1).transpose(0, 3, 1, 2)\n",
    "\n",
    "        self.x = x\n",
    "        self.col = col\n",
    "        self.col_W = col_W\n",
    "\n",
    "        return out\n",
    "\n",
    "    def backward(self, dout):\n",
    "        FN, C, FH, FW = self.W.shape\n",
    "        dout = dout.transpose(0,2,3,1).reshape(-1, FN)\n",
    "\n",
    "        self.db = np.sum(dout, axis=0)\n",
    "        self.dW = np.dot(self.col.T, dout)\n",
    "        self.dW = self.dW.transpose(1, 0).reshape(FN, C, FH, FW)\n",
    "\n",
    "        dcol = np.dot(dout, self.col_W.T)\n",
    "        dx = col2im(dcol, self.x.shape, FH, FW, self.stride, self.pad)\n",
    "\n",
    "        return dx"
   ]
  },
  {
   "cell_type": "markdown",
   "id": "3f5224b6",
   "metadata": {},
   "source": [
    "### ReLU レイヤ（活性化関数）\n",
    "$ y = \\begin{cases}\n",
    "          x \\quad (x > 0) \\\\\n",
    "          0 \\quad (x \\leqq 0) \\\\\n",
    "      \\end{cases} $"
   ]
  },
  {
   "cell_type": "code",
   "execution_count": 36,
   "id": "b8cf0c68",
   "metadata": {},
   "outputs": [],
   "source": [
    "class Relu:\n",
    "    def __init__(self):\n",
    "        self.mask = None\n",
    "\n",
    "    def forward(self, x):\n",
    "        self.mask = (x <= 0)\n",
    "        out = x.copy()\n",
    "        out[self.mask] = 0\n",
    "\n",
    "        return out\n",
    "\n",
    "    def backward(self, dout):\n",
    "        dout[self.mask] = 0\n",
    "        dx = dout\n",
    "\n",
    "        return dx"
   ]
  },
  {
   "cell_type": "markdown",
   "id": "b4555b0d",
   "metadata": {},
   "source": [
    "### Pooling レイヤ（プーリング層）"
   ]
  },
  {
   "cell_type": "code",
   "execution_count": 37,
   "id": "275d85cb",
   "metadata": {},
   "outputs": [],
   "source": [
    "class Pooling:\n",
    "    def __init__(self, pool_h, pool_w, stride=2, pad=0):\n",
    "        self.pool_h = pool_h\n",
    "        self.pool_w = pool_w\n",
    "        self.stride = stride\n",
    "        self.pad = pad\n",
    "        \n",
    "        self.x = None\n",
    "        self.arg_max = None\n",
    "\n",
    "    def forward(self, x):\n",
    "        N, C, H, W = x.shape\n",
    "        out_h = int(1 + (H - self.pool_h) / self.stride)\n",
    "        out_w = int(1 + (W - self.pool_w) / self.stride)\n",
    "\n",
    "        col = im2col(x, self.pool_h, self.pool_w, self.stride, self.pad)\n",
    "        col = col.reshape(-1, self.pool_h*self.pool_w)\n",
    "\n",
    "        arg_max = np.argmax(col, axis=1)\n",
    "        out = np.max(col, axis=1)\n",
    "        out = out.reshape(N, out_h, out_w, C).transpose(0, 3, 1, 2)\n",
    "\n",
    "        self.x = x\n",
    "        self.arg_max = arg_max\n",
    "\n",
    "        return out\n",
    "\n",
    "    def backward(self, dout):\n",
    "        dout = dout.transpose(0, 2, 3, 1)\n",
    "        \n",
    "        pool_size = self.pool_h * self.pool_w\n",
    "        dmax = np.zeros((dout.size, pool_size))\n",
    "        dmax[np.arange(self.arg_max.size), self.arg_max.flatten()] = dout.flatten()\n",
    "        dmax = dmax.reshape(dout.shape + (pool_size,)) \n",
    "        \n",
    "        dcol = dmax.reshape(dmax.shape[0] * dmax.shape[1] * dmax.shape[2], -1)\n",
    "        dx = col2im(dcol, self.x.shape, self.pool_h, self.pool_w, self.stride, self.pad)\n",
    "        \n",
    "        return dx"
   ]
  },
  {
   "cell_type": "markdown",
   "id": "d57950cf",
   "metadata": {},
   "source": [
    "### Affine レイヤ（全結合層）"
   ]
  },
  {
   "cell_type": "code",
   "execution_count": 38,
   "id": "ab30c1bf",
   "metadata": {},
   "outputs": [],
   "source": [
    "class Affine:\n",
    "    def __init__(self, W, b):\n",
    "        self.W =W\n",
    "        self.b = b\n",
    "        \n",
    "        self.x = None\n",
    "        self.original_x_shape = None\n",
    "        # 重み・バイアスパラメータの微分\n",
    "        self.dW = None\n",
    "        self.db = None\n",
    "\n",
    "    def forward(self, x):\n",
    "        # テンソル対応\n",
    "        self.original_x_shape = x.shape\n",
    "        x = x.reshape(x.shape[0], -1)\n",
    "        self.x = x\n",
    "\n",
    "        out = np.dot(self.x, self.W) + self.b\n",
    "\n",
    "        return out\n",
    "\n",
    "    def backward(self, dout):\n",
    "        dx = np.dot(dout, self.W.T)\n",
    "        self.dW = np.dot(self.x.T, dout)\n",
    "        self.db = np.sum(dout, axis=0)\n",
    "        \n",
    "        dx = dx.reshape(*self.original_x_shape)  # 入力データの形状に戻す（テンソル対応）\n",
    "        return dx"
   ]
  },
  {
   "cell_type": "markdown",
   "id": "16f7efae",
   "metadata": {},
   "source": [
    "### Softmax-with-Loss レイヤ（損失関数）\n",
    "$ L = -\\sum_{k}^{n}t_k log(\\frac{exp(a_k)}{\\sum_{i}^{n}exp(a_i)}) $"
   ]
  },
  {
   "cell_type": "code",
   "execution_count": 39,
   "id": "89d655aa",
   "metadata": {},
   "outputs": [],
   "source": [
    "class SoftmaxWithLoss:\n",
    "    def __init__(self):\n",
    "        self.loss = None\n",
    "        self.y = None # softmaxの出力\n",
    "        self.t = None # 教師データ\n",
    "\n",
    "    def forward(self, x, t):\n",
    "        self.t = t\n",
    "        self.y = softmax(x)\n",
    "        self.loss = cross_entropy_error(self.y, self.t)\n",
    "        \n",
    "        return self.loss\n",
    "\n",
    "    def backward(self, dout=1):\n",
    "        batch_size = self.t.shape[0]\n",
    "        if self.t.size == self.y.size: # 教師データがone-hot-vectorの場合\n",
    "            dx = (self.y - self.t) / batch_size\n",
    "        else:\n",
    "            dx = self.y.copy()\n",
    "            dx[np.arange(batch_size), self.t] -= 1\n",
    "            dx = dx / batch_size\n",
    "        \n",
    "        return dx"
   ]
  },
  {
   "cell_type": "markdown",
   "id": "9f3fdee6",
   "metadata": {},
   "source": [
    "### MNIST データセット"
   ]
  },
  {
   "cell_type": "code",
   "execution_count": 40,
   "id": "0551a485",
   "metadata": {},
   "outputs": [
    {
     "name": "stdout",
     "output_type": "stream",
     "text": [
      "x_train.shape [N, C, H, W]: (60000, 1, 28, 28)\n",
      "t_train.shape: (60000,) uint8\n"
     ]
    }
   ],
   "source": [
    "# データの読み込み\n",
    "(x_train, t_train), (x_test, t_test) = load_mnist(flatten=False)\n",
    "print(\"x_train.shape [N, C, H, W]:\", x_train.shape)\n",
    "print(\"t_train.shape:\", t_train.shape, t_train.dtype)"
   ]
  },
  {
   "cell_type": "markdown",
   "id": "36bb1dff",
   "metadata": {},
   "source": [
    "#### 【オプション】入力データの削減"
   ]
  },
  {
   "cell_type": "code",
   "execution_count": 41,
   "id": "07bb1907",
   "metadata": {},
   "outputs": [
    {
     "name": "stdout",
     "output_type": "stream",
     "text": [
      "x_train.shape [N, C, H, W]: (10000, 1, 28, 28)\n",
      "t_train.shape: (10000,) uint8\n"
     ]
    }
   ],
   "source": [
    "sampled = 10000 # 高速化のため\n",
    "x_train = x_train[:sampled]\n",
    "t_train = t_train[:sampled]\n",
    "print(\"x_train.shape [N, C, H, W]:\", x_train.shape)\n",
    "print(\"t_train.shape:\", t_train.shape, t_train.dtype)"
   ]
  },
  {
   "cell_type": "markdown",
   "id": "68787ab6",
   "metadata": {},
   "source": [
    "#### 【オプション】入力データの確認"
   ]
  },
  {
   "cell_type": "code",
   "execution_count": 42,
   "id": "1865dd29",
   "metadata": {},
   "outputs": [
    {
     "data": {
      "image/png": "[encoded data removed]",
      "text/plain": [
       "<Figure size 864x288 with 12 Axes>"
      ]
     },
     "metadata": {
      "needs_background": "light"
     },
     "output_type": "display_data"
    },
    {
     "name": "stdout",
     "output_type": "stream",
     "text": [
      "[5 0 4 1 9 2 1 3 1 4 3 5]\n"
     ]
    }
   ],
   "source": [
    "# 画像を表示\n",
    "figure = plt.figure(figsize=(12, 4))\n",
    "rows, cols = 2, 6\n",
    "for i in range(rows * cols):\n",
    "    img, label = x_train[i], t_train[i].argmax()\n",
    "    figure.add_subplot(rows, cols, i + 1)\n",
    "    plt.title(f'{label} (idx={i})')\n",
    "    plt.axis('off')\n",
    "    img = img.reshape(28, 28)  # 784 -> 28x28 に変換\n",
    "    plt.imshow(img, cmap='gray')\n",
    "plt.show()\n",
    "print(t_train[:rows * cols])"
   ]
  },
  {
   "cell_type": "markdown",
   "id": "95cf47be",
   "metadata": {},
   "source": [
    "### ニューラルネットワークの定義"
   ]
  },
  {
   "cell_type": "code",
   "execution_count": 43,
   "id": "46fcec1d",
   "metadata": {},
   "outputs": [],
   "source": [
    "class SimpleConvNet:\n",
    "    \"\"\"単純なConvNet\n",
    "\n",
    "    conv - relu - pool - affine - relu - affine - softmax\n",
    "    \n",
    "    Parameters\n",
    "    ----------\n",
    "    input_size : 入力サイズ（MNISTの場合は784）\n",
    "    hidden_size : 隠れ層のニューロンの数（e.g. 100）\n",
    "    output_size : 出力サイズ（MNISTの場合は10）\n",
    "    activation : 'relu' or 'sigmoid'\n",
    "    weight_init_std : 重みの標準偏差を指定（e.g. 0.01）\n",
    "        'relu'または'he'を指定した場合は「Heの初期値」を設定\n",
    "        'sigmoid'または'xavier'を指定した場合は「Xavierの初期値」を設定\n",
    "    \"\"\"\n",
    "    def __init__(self, input_dim=(1, 28, 28), \n",
    "                 conv_param={'filter_num':30, 'filter_size':5, 'pad':0, 'stride':1},\n",
    "                 hidden_size=100, output_size=10, weight_init_std=0.01):\n",
    "        filter_num = conv_param['filter_num']\n",
    "        filter_size = conv_param['filter_size']\n",
    "        filter_pad = conv_param['pad']\n",
    "        filter_stride = conv_param['stride']\n",
    "        input_size = input_dim[1]\n",
    "        conv_output_size = (input_size - filter_size + 2*filter_pad) / filter_stride + 1\n",
    "        pool_output_size = int(filter_num * (conv_output_size/2) * (conv_output_size/2))\n",
    "\n",
    "        # 重みの初期化\n",
    "        self.params = {}\n",
    "        self.params['W1'] = weight_init_std * \\\n",
    "                            np.random.randn(filter_num, input_dim[0], filter_size, filter_size)\n",
    "        self.params['b1'] = np.zeros(filter_num)\n",
    "        self.params['W2'] = weight_init_std * \\\n",
    "                            np.random.randn(pool_output_size, hidden_size)\n",
    "        self.params['b2'] = np.zeros(hidden_size)\n",
    "        self.params['W3'] = weight_init_std * \\\n",
    "                            np.random.randn(hidden_size, output_size)\n",
    "        self.params['b3'] = np.zeros(output_size)\n",
    "\n",
    "        # レイヤの生成\n",
    "        self.layers = OrderedDict()\n",
    "        self.layers['Conv1'] = Convolution(self.params['W1'], self.params['b1'],\n",
    "                                           conv_param['stride'], conv_param['pad'])\n",
    "        self.layers['Relu1'] = Relu()\n",
    "        self.layers['Pool1'] = Pooling(pool_h=2, pool_w=2, stride=2)\n",
    "        self.layers['Affine1'] = Affine(self.params['W2'], self.params['b2'])\n",
    "        self.layers['Relu2'] = Relu()\n",
    "        self.layers['Affine2'] = Affine(self.params['W3'], self.params['b3'])\n",
    "\n",
    "        self.last_layer = SoftmaxWithLoss()\n",
    "\n",
    "    def predict(self, x):\n",
    "        for layer in self.layers.values():\n",
    "            x = layer.forward(x)\n",
    "\n",
    "        return x\n",
    "\n",
    "    def loss(self, x, t):\n",
    "        \"\"\"損失関数を求める\n",
    "        引数のxは入力データ、tは教師ラベル\n",
    "        \"\"\"\n",
    "        y = self.predict(x)\n",
    "        return self.last_layer.forward(y, t)\n",
    "\n",
    "    def accuracy(self, x, t, batch_size=100):\n",
    "        if t.ndim != 1 : t = np.argmax(t, axis=1)\n",
    "        \n",
    "        acc = 0.0\n",
    "        \n",
    "        for i in range(int(x.shape[0] / batch_size)):\n",
    "            tx = x[i*batch_size:(i+1)*batch_size]\n",
    "            tt = t[i*batch_size:(i+1)*batch_size]\n",
    "            y = self.predict(tx)\n",
    "            y = np.argmax(y, axis=1)\n",
    "            acc += np.sum(y == tt) \n",
    "        \n",
    "        return acc / x.shape[0]\n",
    "\n",
    "    def gradient(self, x, t):\n",
    "        \"\"\"勾配を求める（誤差逆伝搬法）\n",
    "\n",
    "        Parameters\n",
    "        ----------\n",
    "        x : 入力データ\n",
    "        t : 教師ラベル\n",
    "\n",
    "        Returns\n",
    "        -------\n",
    "        各層の勾配を持ったディクショナリ変数\n",
    "            grads['W1']、grads['W2']、...は各層の重み\n",
    "            grads['b1']、grads['b2']、...は各層のバイアス\n",
    "        \"\"\"\n",
    "        # forward\n",
    "        self.loss(x, t)\n",
    "\n",
    "        # backward\n",
    "        dout = 1\n",
    "        dout = self.last_layer.backward(dout)\n",
    "\n",
    "        layers = list(self.layers.values())\n",
    "        layers.reverse()\n",
    "        for layer in layers:\n",
    "            dout = layer.backward(dout)\n",
    "\n",
    "        # 設定\n",
    "        grads = {}\n",
    "        grads['W1'], grads['b1'] = self.layers['Conv1'].dW, self.layers['Conv1'].db\n",
    "        grads['W2'], grads['b2'] = self.layers['Affine1'].dW, self.layers['Affine1'].db\n",
    "        grads['W3'], grads['b3'] = self.layers['Affine2'].dW, self.layers['Affine2'].db\n",
    "\n",
    "        return grads\n",
    "        \n",
    "    def save_params(self, file_name=\"params.pkl\"):\n",
    "        params = {}\n",
    "        for key, val in self.params.items():\n",
    "            params[key] = val\n",
    "        with open(file_name, 'wb') as f:\n",
    "            pickle.dump(params, f)\n",
    "\n",
    "    def load_params(self, file_name=\"params.pkl\"):\n",
    "        with open(file_name, 'rb') as f:\n",
    "            params = pickle.load(f)\n",
    "        for key, val in params.items():\n",
    "            self.params[key] = val\n",
    "\n",
    "        for i, key in enumerate(['Conv1', 'Affine1', 'Affine2']):\n",
    "            self.layers[key].W = self.params['W' + str(i+1)]\n",
    "            self.layers[key].b = self.params['b' + str(i+1)]"
   ]
  },
  {
   "cell_type": "markdown",
   "id": "c53ab207",
   "metadata": {},
   "source": [
    "### ニューラルネットワークのインスタンス化"
   ]
  },
  {
   "cell_type": "code",
   "execution_count": 44,
   "id": "df18efc0",
   "metadata": {},
   "outputs": [
    {
     "name": "stdout",
     "output_type": "stream",
     "text": [
      "<__main__.SimpleConvNet object at 0x000001C24F215B50>\n"
     ]
    }
   ],
   "source": [
    "network = SimpleConvNet(input_dim=(1,28,28),\n",
    "                        conv_param = {'filter_num': 30, 'filter_size': 5, 'pad': 0, 'stride': 1},\n",
    "                        hidden_size=100, output_size=10, weight_init_std=0.01)\n",
    "print(network)"
   ]
  },
  {
   "cell_type": "markdown",
   "id": "f1b8d8fb",
   "metadata": {},
   "source": [
    "### パラメータの定義"
   ]
  },
  {
   "cell_type": "code",
   "execution_count": 45,
   "id": "3a3c3dac",
   "metadata": {},
   "outputs": [],
   "source": [
    "epoch_num = 20  # エポック数を設定する\n",
    "batch_size = 100  # バッチの数\n",
    "learning_rate = 0.1  # 学習係数"
   ]
  },
  {
   "cell_type": "markdown",
   "id": "71a20711",
   "metadata": {},
   "source": [
    "### ミニバッチの学習"
   ]
  },
  {
   "cell_type": "code",
   "execution_count": 46,
   "id": "6da32506",
   "metadata": {},
   "outputs": [
    {
     "name": "stdout",
     "output_type": "stream",
     "text": [
      "epoch(1) loss = 2.294703107692676767\n",
      "epoch(1) accuracy(train, test) = (0.1139, 0.1156)\n",
      "epoch(2) loss = 0.587691956286300303\n",
      "epoch(2) accuracy(train, test) = (0.7744, 0.7738)\n",
      "epoch(3) loss = 0.2999171753535793737\n",
      "epoch(3) accuracy(train, test) = (0.8665, 0.8643)\n",
      "epoch(4) loss = 0.2255760375070554646\n",
      "epoch(4) accuracy(train, test) = (0.918, 0.9094)\n",
      "epoch(5) loss = 0.1646264286578238181\n",
      "epoch(5) accuracy(train, test) = (0.9313, 0.9206)\n",
      "epoch(6) loss = 0.1062576586158652727\n",
      "epoch(6) accuracy(train, test) = (0.9363, 0.9256)\n",
      "epoch(7) loss = 0.0964136286198607075\n",
      "epoch(7) accuracy(train, test) = (0.9523, 0.9374)\n",
      "epoch(8) loss = 0.04746638693548673636\n",
      "epoch(8) accuracy(train, test) = (0.9584, 0.9441)\n",
      "epoch(9) loss = 0.0568314127991580101\n",
      "epoch(9) accuracy(train, test) = (0.9557, 0.9388)\n",
      "epoch(10) loss = 0.066074721010509677\n",
      "epoch(10) accuracy(train, test) = (0.9614, 0.9459)\n",
      "epoch(11) loss = 0.033363592411185166\n",
      "epoch(11) accuracy(train, test) = (0.9598, 0.9382)\n",
      "epoch(12) loss = 0.0226565865118359033\n",
      "epoch(12) accuracy(train, test) = (0.9715, 0.9539)\n",
      "epoch(13) loss = 0.0298744938648662744\n",
      "epoch(13) accuracy(train, test) = (0.9727, 0.9486)\n",
      "epoch(14) loss = 0.0172988022251347466\n",
      "epoch(14) accuracy(train, test) = (0.9803, 0.9561)\n",
      "epoch(15) loss = 0.0135876574135906944\n",
      "epoch(15) accuracy(train, test) = (0.9797, 0.9558)\n",
      "epoch(16) loss = 0.0155030797082828733\n",
      "epoch(16) accuracy(train, test) = (0.9823, 0.9575)\n",
      "epoch(17) loss = 0.039459894655142444\n",
      "epoch(17) accuracy(train, test) = (0.9704, 0.9491)\n",
      "epoch(18) loss = 0.0314218994642360766\n",
      "epoch(18) accuracy(train, test) = (0.9782, 0.9524)\n",
      "epoch(19) loss = 0.0110935832271459311\n",
      "epoch(19) accuracy(train, test) = (0.9862, 0.9609)\n",
      "epoch(20) loss = 0.020688371055055377\n",
      "epoch(20) accuracy(train, test) = (0.986, 0.9603)\n",
      "Done!\n"
     ]
    }
   ],
   "source": [
    "train_loss_list = []\n",
    "train_acc_list = [0.0]\n",
    "test_acc_list = [0.0]\n",
    "\n",
    "train_size = x_train.shape[0]  # 訓練データの数\n",
    "iter_per_epoch = max(int(train_size / batch_size), 1)  # エポック毎の繰り返しの回数\n",
    "iters_num = iter_per_epoch * epoch_num  # 全体の繰り返しの回数\n",
    "\n",
    "for i in range(iters_num):\n",
    "    batch_mask = np.random.choice(train_size, batch_size)\n",
    "    x_batch = x_train[batch_mask]\n",
    "    t_batch = t_train[batch_mask]\n",
    "    \n",
    "    # 勾配の計算\n",
    "    grad = network.gradient(x_batch, t_batch)\n",
    "    \n",
    "    # パラメータの更新\n",
    "    for key in ('W1', 'b1', 'W2', 'b2', 'W3', 'b3'):\n",
    "        network.params[key] -= learning_rate * grad[key]\n",
    "    \n",
    "    loss = network.loss(x_batch, t_batch)\n",
    "    train_loss_list.append(loss)\n",
    "    \n",
    "    print(f'\\rbatch({i % iter_per_epoch + 1}) loss = {train_loss_list[-1]}', end='')\n",
    "    if (i + 1) % iter_per_epoch == 0:\n",
    "        epoch_count = int((i + 1) / iter_per_epoch)\n",
    "        print(f'\\repoch({epoch_count}) loss = {train_loss_list[-1]}')\n",
    "        train_acc = network.accuracy(x_train, t_train)\n",
    "        test_acc = network.accuracy(x_test, t_test)\n",
    "        train_acc_list.append(train_acc)\n",
    "        test_acc_list.append(test_acc)\n",
    "        print(f'epoch({epoch_count}) accuracy(train, test) = ({train_acc}, {test_acc})')\n",
    "\n",
    "print('Done!')"
   ]
  },
  {
   "cell_type": "markdown",
   "id": "3357d344",
   "metadata": {},
   "source": [
    "### 損失関数の推移"
   ]
  },
  {
   "cell_type": "code",
   "execution_count": 47,
   "id": "254d9d0f",
   "metadata": {},
   "outputs": [
    {
     "data": {
      "image/png": "[encoded data removed]",
      "text/plain": [
       "<Figure size 432x288 with 1 Axes>"
      ]
     },
     "metadata": {
      "needs_background": "light"
     },
     "output_type": "display_data"
    }
   ],
   "source": [
    "# グラフの描画\n",
    "x = np.arange(len(train_loss_list))\n",
    "plt.plot(x, train_loss_list, label='train loss')\n",
    "plt.xlabel('batchs')\n",
    "plt.ylabel('loss')\n",
    "plt.title('loss by batchs')\n",
    "plt.legend(loc='upper right')\n",
    "plt.show()"
   ]
  },
  {
   "cell_type": "markdown",
   "id": "632bd5e4",
   "metadata": {},
   "source": [
    "### 認識精度の推移"
   ]
  },
  {
   "cell_type": "code",
   "execution_count": 48,
   "id": "a6ce5f21",
   "metadata": {},
   "outputs": [
    {
     "data": {
      "image/png": "[encoded data removed]",
      "text/plain": [
       "<Figure size 432x288 with 1 Axes>"
      ]
     },
     "metadata": {
      "needs_background": "light"
     },
     "output_type": "display_data"
    }
   ],
   "source": [
    "# グラフの描画\n",
    "x = np.arange(len(train_acc_list))\n",
    "plt.plot(x, train_acc_list, label='train acc', marker='o')\n",
    "plt.plot(x, test_acc_list, label='test acc', linestyle='--', marker='^')\n",
    "plt.xlabel('epochs')\n",
    "plt.ylabel('accuracy')\n",
    "plt.title('accuracy by epochs')\n",
    "plt.ylim(0, 1.0)\n",
    "plt.legend(loc='lower right')\n",
    "plt.show()"
   ]
  },
  {
   "cell_type": "markdown",
   "id": "ed96fa49",
   "metadata": {},
   "source": [
    "#### 【オプション】テストの結果"
   ]
  },
  {
   "cell_type": "code",
   "execution_count": 49,
   "id": "eb5653a1",
   "metadata": {},
   "outputs": [
    {
     "name": "stdout",
     "output_type": "stream",
     "text": [
      "(10000, 10)\n",
      "index = 0\n",
      "[ -3.23329383  -5.39383184   6.45023655   8.11539464 -11.45039026\n",
      "  -0.97871812 -13.53572165  17.56673581   0.12324857   2.05892928]\n",
      "7\n",
      "index = 1\n",
      "[-0.23640066  1.97395669 14.21607184  3.61362377 -3.9519265  -2.59203758\n",
      "  1.46182977 -9.5522618   0.40626129 -5.39922322]\n",
      "2\n",
      "index = 2\n",
      "[-6.8016652   8.73064513  2.90686002 -1.11866689 -0.53855412 -1.99101553\n",
      " -0.06915752  2.49683522  1.20270779 -4.41286604]\n",
      "1\n"
     ]
    }
   ],
   "source": [
    "# テストの実行\n",
    "test_predict = network.predict(x_test)\n",
    "print(test_predict.shape)\n",
    "for index in range(3):\n",
    "    print(f'index = {index}')\n",
    "    print(test_predict[index])\n",
    "    print(t_test[index])"
   ]
  },
  {
   "cell_type": "markdown",
   "id": "1bef472c",
   "metadata": {},
   "source": [
    "#### 【オプション】エラー結果の確認"
   ]
  },
  {
   "cell_type": "code",
   "execution_count": 50,
   "id": "1c057cfb",
   "metadata": {},
   "outputs": [
    {
     "name": "stdout",
     "output_type": "stream",
     "text": [
      "error rate = 3.9699999999999998[%] (num = 397/10000)\n"
     ]
    },
    {
     "data": {
      "image/png": "[encoded data removed]",
      "text/plain": [
       "<Figure size 864x144 with 6 Axes>"
      ]
     },
     "metadata": {
      "needs_background": "light"
     },
     "output_type": "display_data"
    },
    {
     "name": "stdout",
     "output_type": "stream",
     "text": [
      "[[ 5.39421660e+00 -8.00534504e+00  2.71254846e+00 -9.77973412e+00\n",
      "   4.71215584e+00  5.85921284e+00  9.63752671e+00 -1.16446125e+01\n",
      "   3.13473766e+00 -1.35862744e+00]\n",
      " [ 1.16372851e+00 -6.24157189e+00  1.19778487e+00  3.64827824e+00\n",
      "  -5.17328203e+00  1.38857663e+00 -7.93927141e+00  2.34892198e+00\n",
      "   5.48440158e+00  4.96116907e+00]\n",
      " [-5.70806028e+00 -7.18742714e+00  2.13148090e+00  1.01181473e+01\n",
      "  -8.96475374e+00  1.87914929e+00 -1.83840481e+01  1.14272932e+01\n",
      "   8.37551800e+00  6.19022382e+00]\n",
      " [ 1.54777980e+00 -6.76656985e+00  9.46604201e+00 -4.76433313e-01\n",
      "   7.12034176e+00 -7.60458657e-01  6.31356573e+00 -1.27174186e+00\n",
      "  -5.49984766e+00 -9.99879482e+00]\n",
      " [ 1.09933949e+01 -5.02055203e+00 -2.73215967e+00 -5.77031556e+00\n",
      "  -6.91391585e-01  1.00910055e+00  6.26376641e+00  1.77087868e-02\n",
      "  -2.26225637e+00 -2.04034637e+00]\n",
      " [-4.85706711e+00  7.26925489e-01  8.73084362e+00  7.37340048e+00\n",
      "  -1.13014307e+01 -3.98739580e+00 -1.24793807e+01  1.27613173e+01\n",
      "   4.13697219e+00 -3.37311045e-01]]\n"
     ]
    }
   ],
   "source": [
    "# エラー結果の要素を抽出\n",
    "index_error = np.argmax(test_predict, axis=1) != t_test\n",
    "error_list = np.arange(len(test_predict))[index_error]\n",
    "print(f'error rate = {len(error_list) / len(test_predict) * 100}[%]',\n",
    "      f'(num = {len(error_list)}/{len(test_predict)})')\n",
    "\n",
    "offset = 0\n",
    "# 画像を表示\n",
    "figure = plt.figure(figsize=(12, 2))\n",
    "rows, cols = 1, 6\n",
    "for i in range(rows * cols):\n",
    "    index = error_list[offset + i]\n",
    "    img, label_t, label_y = x_test[index], t_test[index], test_predict[index].argmax()\n",
    "    figure.add_subplot(rows, cols, i + 1)\n",
    "    plt.title(f'{label_y} (t={label_t})')\n",
    "    plt.axis('off')\n",
    "    img = img.reshape(28, 28)  # 784 -> 28x28 に変換\n",
    "    plt.imshow(img, cmap='gray')\n",
    "plt.show()\n",
    "print(test_predict[error_list[offset:offset + rows * cols]])"
   ]
  },
  {
   "cell_type": "code",
   "execution_count": null,
   "id": "dbade79a",
   "metadata": {},
   "outputs": [],
   "source": []
  }
 ],
 "metadata": {
  "kernelspec": {
   "display_name": "Python 3 (ipykernel)",
   "language": "python",
   "name": "python3"
  },
  "language_info": {
   "codemirror_mode": {
    "name": "ipython",
    "version": 3
   },
   "file_extension": ".py",
   "mimetype": "text/x-python",
   "name": "python",
   "nbconvert_exporter": "python",
   "pygments_lexer": "ipython3",
   "version": "3.9.6"
  }
 },
 "nbformat": 4,
 "nbformat_minor": 5
}
