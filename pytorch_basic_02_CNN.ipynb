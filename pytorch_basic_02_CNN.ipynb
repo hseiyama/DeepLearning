{
 "cells": [
  {
   "cell_type": "markdown",
   "id": "e95231ab",
   "metadata": {},
   "source": [
    "# PyTorch を利用したCNN実装"
   ]
  },
  {
   "cell_type": "code",
   "execution_count": 10,
   "id": "e4acc762",
   "metadata": {},
   "outputs": [],
   "source": [
    "import torch\n",
    "from torch import nn\n",
    "from torch.utils.data import DataLoader\n",
    "from torchvision import datasets\n",
    "from torchvision.transforms import ToTensor\n",
    "import torch.nn.functional as F\n",
    "import matplotlib.pyplot as plt"
   ]
  },
  {
   "cell_type": "code",
   "execution_count": 2,
   "id": "eb2fe989",
   "metadata": {},
   "outputs": [],
   "source": [
    "# 訓練データをdatasetsからダウンロード\n",
    "training_data = datasets.MNIST(\n",
    "    root=\"data\",\n",
    "    train=True,\n",
    "    download=True,\n",
    "    transform=ToTensor(),\n",
    ")\n",
    "\n",
    "# テストデータをdatasetsからダウンロード\n",
    "test_data = datasets.MNIST(\n",
    "    root=\"data\",\n",
    "    train=False,\n",
    "    download=True,\n",
    "    transform=ToTensor(),\n",
    ")"
   ]
  },
  {
   "cell_type": "code",
   "execution_count": 3,
   "id": "72b4c0b6",
   "metadata": {},
   "outputs": [
    {
     "name": "stdout",
     "output_type": "stream",
     "text": [
      "Shape of X [N, C, H, W]:  torch.Size([64, 1, 28, 28])\n",
      "Shape of y:  torch.Size([64]) torch.int64\n"
     ]
    }
   ],
   "source": [
    "batch_size = 64\n",
    "\n",
    "# データローダーの作成\n",
    "train_dataloader = DataLoader(training_data, batch_size=batch_size)\n",
    "test_dataloader = DataLoader(test_data, batch_size=batch_size)\n",
    "\n",
    "for X, y in test_dataloader:\n",
    "    print(\"Shape of X [N, C, H, W]: \", X.shape)\n",
    "    print(\"Shape of y: \", y.shape, y.dtype)\n",
    "    break"
   ]
  },
  {
   "cell_type": "code",
   "execution_count": 11,
   "id": "2a8235d4",
   "metadata": {},
   "outputs": [
    {
     "name": "stdout",
     "output_type": "stream",
     "text": [
      "Using cpu device\n",
      "NeuralNetwork(\n",
      "  (conv1): Conv2d(1, 32, kernel_size=(3, 3), stride=(1, 1))\n",
      "  (conv2): Conv2d(32, 64, kernel_size=(3, 3), stride=(1, 1))\n",
      "  (pool): MaxPool2d(kernel_size=2, stride=2, padding=0, dilation=1, ceil_mode=False)\n",
      "  (dropout1): Dropout2d(p=0.5, inplace=False)\n",
      "  (fc1): Linear(in_features=9216, out_features=128, bias=True)\n",
      "  (dropout2): Dropout2d(p=0.5, inplace=False)\n",
      "  (fc2): Linear(in_features=128, out_features=10, bias=True)\n",
      ")\n"
     ]
    }
   ],
   "source": [
    "# 訓練に際して、可能であればGPU（cuda）を設定します。GPUが搭載されていない場合はCPUを使用します\n",
    "device = \"cuda\" if torch.cuda.is_available() else \"cpu\"\n",
    "print(\"Using {} device\".format(device))\n",
    "\n",
    "# modelを定義します\n",
    "class NeuralNetwork(nn.Module):\n",
    "    def __init__(self):\n",
    "        super(NeuralNetwork, self).__init__()\n",
    "        # 畳み込み層:(入力チャンネル数, フィルタ数、フィルタサイズ)\n",
    "        self.conv1 = nn.Conv2d(1, 32, 3) # 28x28x32 -> 26x26x32\n",
    "        self.conv2 = nn.Conv2d(32, 64, 3) # 26x26x64 -> 24x24x64\n",
    "        # プーリング層:(領域のサイズ, ストライド)\n",
    "        self.pool = nn.MaxPool2d(2, 2) # 24x24x64 -> 12x12x64\n",
    "        # ドロップアウト:(p=ドロップアウト率)\n",
    "        self.dropout1 = nn.Dropout2d()\n",
    "        self.dropout2 = nn.Dropout2d()\n",
    "        # 全結合層\n",
    "        self.fc1 = nn.Linear(12 * 12 * 64, 128)\n",
    "        self.fc2 = nn.Linear(128, 10)\n",
    "\n",
    "    def forward(self, x):\n",
    "        x = F.relu(self.conv1(x))\n",
    "        x = self.pool(F.relu(self.conv2(x)))\n",
    "        x = self.dropout1(x)\n",
    "        x = x.view(-1, 12 * 12 * 64)\n",
    "        x = F.relu(self.fc1(x))\n",
    "        x = self.dropout2(x)\n",
    "        x = self.fc2(x)\n",
    "        return x\n",
    "\n",
    "model = NeuralNetwork().to(device)\n",
    "print(model)"
   ]
  },
  {
   "cell_type": "code",
   "execution_count": 6,
   "id": "14ff85f9",
   "metadata": {},
   "outputs": [],
   "source": [
    "loss_fn = nn.CrossEntropyLoss()\n",
    "optimizer = torch.optim.SGD(model.parameters(), lr=1e-3)"
   ]
  },
  {
   "cell_type": "code",
   "execution_count": 7,
   "id": "3b858f73",
   "metadata": {},
   "outputs": [],
   "source": [
    "def train(dataloader, model, loss_fn, optimizer):\n",
    "    size = len(dataloader.dataset)\n",
    "    for batch, (X, y) in enumerate(dataloader):\n",
    "        X, y = X.to(device), y.to(device)\n",
    "        \n",
    "        # 損失誤差を計算\n",
    "        pred = model(X)\n",
    "        loss = loss_fn(pred, y)\n",
    "        \n",
    "        # バックプロパゲーション\n",
    "        optimizer.zero_grad()\n",
    "        loss.backward()\n",
    "        optimizer.step()\n",
    "\n",
    "        if batch % 100 == 0:\n",
    "            loss, current = loss.item(), batch * len(X)\n",
    "            print(f\"loss: {loss:>7f}  [{current:>5d}/{size:>5d}]\")"
   ]
  },
  {
   "cell_type": "code",
   "execution_count": 8,
   "id": "2cc55dab",
   "metadata": {},
   "outputs": [],
   "source": [
    "def test(dataloader, model):\n",
    "    size = len(dataloader.dataset)\n",
    "    model.eval()\n",
    "    test_loss, correct = 0, 0\n",
    "    with torch.no_grad():\n",
    "        for X, y in dataloader:\n",
    "            X, y = X.to(device), y.to(device)\n",
    "            pred = model(X)\n",
    "            test_loss += loss_fn(pred, y).item()\n",
    "            correct += (pred.argmax(1) == y).type(torch.float).sum().item()\n",
    "    test_loss /= size\n",
    "    correct /= size\n",
    "    print(f\"Test Error: \\n Accuracy: {(100*correct):>0.1f}%, Avg loss: {test_loss:>8f} \\n\")"
   ]
  },
  {
   "cell_type": "code",
   "execution_count": 12,
   "id": "8fe2bc91",
   "metadata": {},
   "outputs": [
    {
     "name": "stdout",
     "output_type": "stream",
     "text": [
      "Epoch 1\n",
      "-------------------------------\n",
      "loss: 2.296288  [    0/60000]\n",
      "loss: 2.296212  [ 6400/60000]\n",
      "loss: 2.302644  [12800/60000]\n",
      "loss: 2.299665  [19200/60000]\n",
      "loss: 2.311972  [25600/60000]\n",
      "loss: 2.305540  [32000/60000]\n",
      "loss: 2.294002  [38400/60000]\n",
      "loss: 2.299544  [44800/60000]\n",
      "loss: 2.307468  [51200/60000]\n",
      "loss: 2.296980  [57600/60000]\n",
      "Test Error: \n",
      " Accuracy: 11.3%, Avg loss: 0.036133 \n",
      "\n",
      "Epoch 2\n",
      "-------------------------------\n",
      "loss: 2.298454  [    0/60000]\n",
      "loss: 2.295449  [ 6400/60000]\n",
      "loss: 2.305902  [12800/60000]\n",
      "loss: 2.300482  [19200/60000]\n",
      "loss: 2.311630  [25600/60000]\n",
      "loss: 2.308577  [32000/60000]\n",
      "loss: 2.298921  [38400/60000]\n",
      "loss: 2.304795  [44800/60000]\n",
      "loss: 2.305495  [51200/60000]\n",
      "loss: 2.300515  [57600/60000]\n",
      "Test Error: \n",
      " Accuracy: 11.3%, Avg loss: 0.036133 \n",
      "\n",
      "Epoch 3\n",
      "-------------------------------\n",
      "loss: 2.298454  [    0/60000]\n",
      "loss: 2.295449  [ 6400/60000]\n",
      "loss: 2.305902  [12800/60000]\n",
      "loss: 2.300482  [19200/60000]\n",
      "loss: 2.311630  [25600/60000]\n",
      "loss: 2.308577  [32000/60000]\n",
      "loss: 2.298921  [38400/60000]\n",
      "loss: 2.304795  [44800/60000]\n",
      "loss: 2.305495  [51200/60000]\n",
      "loss: 2.300515  [57600/60000]\n",
      "Test Error: \n",
      " Accuracy: 11.3%, Avg loss: 0.036133 \n",
      "\n",
      "Epoch 4\n",
      "-------------------------------\n",
      "loss: 2.298454  [    0/60000]\n",
      "loss: 2.295449  [ 6400/60000]\n",
      "loss: 2.305902  [12800/60000]\n",
      "loss: 2.300482  [19200/60000]\n",
      "loss: 2.311630  [25600/60000]\n",
      "loss: 2.308577  [32000/60000]\n",
      "loss: 2.298921  [38400/60000]\n",
      "loss: 2.304795  [44800/60000]\n",
      "loss: 2.305495  [51200/60000]\n",
      "loss: 2.300515  [57600/60000]\n",
      "Test Error: \n",
      " Accuracy: 11.3%, Avg loss: 0.036133 \n",
      "\n",
      "Epoch 5\n",
      "-------------------------------\n",
      "loss: 2.298454  [    0/60000]\n",
      "loss: 2.295449  [ 6400/60000]\n",
      "loss: 2.305902  [12800/60000]\n",
      "loss: 2.300482  [19200/60000]\n",
      "loss: 2.311630  [25600/60000]\n",
      "loss: 2.308577  [32000/60000]\n",
      "loss: 2.298921  [38400/60000]\n",
      "loss: 2.304795  [44800/60000]\n",
      "loss: 2.305495  [51200/60000]\n",
      "loss: 2.300515  [57600/60000]\n",
      "Test Error: \n",
      " Accuracy: 11.3%, Avg loss: 0.036133 \n",
      "\n",
      "Done!\n"
     ]
    }
   ],
   "source": [
    "epochs = 5\n",
    "for t in range(epochs):\n",
    "    print(f\"Epoch {t+1}\\n-------------------------------\")\n",
    "    train(train_dataloader, model, loss_fn, optimizer)\n",
    "    test(test_dataloader, model)\n",
    "print(\"Done!\")"
   ]
  },
  {
   "cell_type": "code",
   "execution_count": 9,
   "id": "c093a047",
   "metadata": {},
   "outputs": [
    {
     "name": "stdout",
     "output_type": "stream",
     "text": [
      "Saved PyTorch Model State to model.pth\n"
     ]
    }
   ],
   "source": [
    "torch.save(model.state_dict(), \"model.pth\")\n",
    "print(\"Saved PyTorch Model State to model.pth\")"
   ]
  },
  {
   "cell_type": "code",
   "execution_count": 10,
   "id": "ddf5a5a7",
   "metadata": {},
   "outputs": [
    {
     "data": {
      "text/plain": [
       "<All keys matched successfully>"
      ]
     },
     "execution_count": 10,
     "metadata": {},
     "output_type": "execute_result"
    }
   ],
   "source": [
    "model = NeuralNetwork()\n",
    "model.load_state_dict(torch.load(\"model.pth\"))"
   ]
  },
  {
   "cell_type": "code",
   "execution_count": 11,
   "id": "e1b67440",
   "metadata": {},
   "outputs": [
    {
     "name": "stdout",
     "output_type": "stream",
     "text": [
      "Predicted: \"7\", Actual: \"7\"\n"
     ]
    }
   ],
   "source": [
    "model.eval()\n",
    "x, y = test_data[0][0], test_data[0][1]\n",
    "with torch.no_grad():\n",
    "    pred = model(x)\n",
    "    predicted, actual = pred[0].argmax(0), y\n",
    "    print(f'Predicted: \"{predicted}\", Actual: \"{actual}\"')"
   ]
  }
 ],
 "metadata": {
  "kernelspec": {
   "display_name": "PytorchEnv",
   "language": "python",
   "name": "pytorchenv"
  },
  "language_info": {
   "codemirror_mode": {
    "name": "ipython",
    "version": 3
   },
   "file_extension": ".py",
   "mimetype": "text/x-python",
   "name": "python",
   "nbconvert_exporter": "python",
   "pygments_lexer": "ipython3",
   "version": "3.9.6"
  }
 },
 "nbformat": 4,
 "nbformat_minor": 5
}
