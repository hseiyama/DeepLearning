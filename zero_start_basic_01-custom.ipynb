{
 "cells": [
  {
   "cell_type": "markdown",
   "id": "e17e0f98",
   "metadata": {},
   "source": [
    "# 2層のニューラルネットワーク"
   ]
  },
  {
   "cell_type": "code",
   "execution_count": 11,
   "id": "e1a0a4f1",
   "metadata": {},
   "outputs": [],
   "source": [
    "import numpy as np\n",
    "import matplotlib.pyplot as plt\n",
    "from dataset.mnist import load_mnist"
   ]
  },
  {
   "cell_type": "markdown",
   "id": "16e2b8a1",
   "metadata": {},
   "source": [
    "### シグモイド関数（活性化関数）\n",
    "$ h(x) = \\frac{1}{1+exp(-x)} $"
   ]
  },
  {
   "cell_type": "code",
   "execution_count": 12,
   "id": "19c2e868",
   "metadata": {},
   "outputs": [],
   "source": [
    "def sigmoid(x):\n",
    "    return 1 / (1 + np.exp(-x))    "
   ]
  },
  {
   "cell_type": "markdown",
   "id": "dc803d8a",
   "metadata": {},
   "source": [
    "### ソフトマックス関数（出力層：分類問題）\n",
    "$ y_k = \\frac{exp(a_k)}{\\sum_{i=1}^{n}exp(a_i)} $"
   ]
  },
  {
   "cell_type": "code",
   "execution_count": 13,
   "id": "594552ce",
   "metadata": {},
   "outputs": [],
   "source": [
    "def softmax(x):\n",
    "    x = x - np.max(x, axis=-1, keepdims=True)   # オーバーフロー対策\n",
    "    return np.exp(x) / np.sum(np.exp(x), axis=-1, keepdims=True)"
   ]
  },
  {
   "cell_type": "markdown",
   "id": "fd828a12",
   "metadata": {},
   "source": [
    "### 交差エントロピー誤差（損失関数）\n",
    "$ E = -\\sum_{k}^{n}t_k log(y_k) $"
   ]
  },
  {
   "cell_type": "code",
   "execution_count": 14,
   "id": "17c3f217",
   "metadata": {},
   "outputs": [],
   "source": [
    "def cross_entropy_error(y, t):\n",
    "    if y.ndim == 1:\n",
    "        t = t.reshape(1, t.size)\n",
    "        y = y.reshape(1, y.size)\n",
    "        \n",
    "    # 教師データがone-hot-vectorの場合、正解ラベルのインデックスに変換\n",
    "    if t.size == y.size:\n",
    "        t = t.argmax(axis=1)\n",
    "             \n",
    "    batch_size = y.shape[0]\n",
    "    return -np.sum(np.log(y[np.arange(batch_size), t] + 1e-7)) / batch_size"
   ]
  },
  {
   "cell_type": "markdown",
   "id": "1524bfda",
   "metadata": {},
   "source": [
    "### シグモイド関数の勾配\n",
    "$ \\frac{\\partial L}{\\partial x} = \\frac{\\partial L}{\\partial y} \\frac{\\partial y}{\\partial x} = \\frac{\\partial L}{\\partial y} y(1-y) $"
   ]
  },
  {
   "cell_type": "code",
   "execution_count": 15,
   "id": "58e3236a",
   "metadata": {},
   "outputs": [],
   "source": [
    "def sigmoid_grad(x):\n",
    "    return (1.0 - sigmoid(x)) * sigmoid(x)"
   ]
  },
  {
   "cell_type": "markdown",
   "id": "95cf47be",
   "metadata": {},
   "source": [
    "### 2層のニューラルネットのクラス"
   ]
  },
  {
   "cell_type": "code",
   "execution_count": 16,
   "id": "46fcec1d",
   "metadata": {},
   "outputs": [],
   "source": [
    "class TwoLayerNet:\n",
    "\n",
    "    def __init__(self, input_size, hidden_size, output_size, weight_init_std=0.01):\n",
    "        # 重みの初期化\n",
    "        self.params = {}\n",
    "        self.params['W1'] = weight_init_std * np.random.randn(input_size, hidden_size)\n",
    "        self.params['b1'] = np.zeros(hidden_size)\n",
    "        self.params['W2'] = weight_init_std * np.random.randn(hidden_size, output_size)\n",
    "        self.params['b2'] = np.zeros(output_size)\n",
    "\n",
    "    def predict(self, x):\n",
    "        W1, W2 = self.params['W1'], self.params['W2']\n",
    "        b1, b2 = self.params['b1'], self.params['b2']\n",
    "    \n",
    "        a1 = np.dot(x, W1) + b1\n",
    "        z1 = sigmoid(a1)\n",
    "        a2 = np.dot(z1, W2) + b2\n",
    "        y = softmax(a2)\n",
    "        \n",
    "        return y\n",
    "        \n",
    "    # x:入力データ, t:教師データ\n",
    "    def loss(self, x, t):\n",
    "        y = self.predict(x)\n",
    "        \n",
    "        return cross_entropy_error(y, t)\n",
    "    \n",
    "    def accuracy(self, x, t):\n",
    "        y = self.predict(x)\n",
    "        y = np.argmax(y, axis=1)\n",
    "        t = np.argmax(t, axis=1)\n",
    "        \n",
    "        accuracy = np.sum(y == t) / float(x.shape[0])\n",
    "        return accuracy\n",
    "        \n",
    "    # x:入力データ, t:教師データ\n",
    "    def gradient(self, x, t):\n",
    "        W1, W2 = self.params['W1'], self.params['W2']\n",
    "        b1, b2 = self.params['b1'], self.params['b2']\n",
    "        grads = {}\n",
    "        \n",
    "        batch_num = x.shape[0]\n",
    "        \n",
    "        # forward\n",
    "        a1 = np.dot(x, W1) + b1\n",
    "        z1 = sigmoid(a1)\n",
    "        a2 = np.dot(z1, W2) + b2\n",
    "        y = softmax(a2)\n",
    "        \n",
    "        # backward\n",
    "        dy = (y - t) / batch_num\n",
    "        grads['W2'] = np.dot(z1.T, dy)\n",
    "        grads['b2'] = np.sum(dy, axis=0)\n",
    "        \n",
    "        dz1 = np.dot(dy, W2.T)\n",
    "        da1 = sigmoid_grad(a1) * dz1\n",
    "        grads['W1'] = np.dot(x.T, da1)\n",
    "        grads['b1'] = np.sum(da1, axis=0)\n",
    "\n",
    "        return grads"
   ]
  },
  {
   "cell_type": "markdown",
   "id": "9f3fdee6",
   "metadata": {},
   "source": [
    "### MNIST データセット"
   ]
  },
  {
   "cell_type": "code",
   "execution_count": 17,
   "id": "0551a485",
   "metadata": {},
   "outputs": [],
   "source": [
    "# データの読み込み\n",
    "(x_train, t_train), (x_test, t_test) = load_mnist(normalize=True, one_hot_label=True)"
   ]
  },
  {
   "cell_type": "markdown",
   "id": "92e86b17",
   "metadata": {},
   "source": [
    "#### 【オプション】入力データの削減"
   ]
  },
  {
   "cell_type": "code",
   "execution_count": null,
   "id": "1b4abd53",
   "metadata": {},
   "outputs": [],
   "source": [
    "# 入力データの削減\n",
    "x_train = x_train[:7500]\n",
    "t_train = t_train[:7500]\n",
    "x_test = x_test[:2500]\n",
    "t_test = t_test[:2500]\n",
    "print(x_train.shape)\n",
    "print(x_test.shape)"
   ]
  },
  {
   "cell_type": "markdown",
   "id": "68787ab6",
   "metadata": {},
   "source": [
    "#### 【オプション】入力データの確認"
   ]
  },
  {
   "cell_type": "code",
   "execution_count": 18,
   "id": "1865dd29",
   "metadata": {},
   "outputs": [
    {
     "data": {
      "image/png": "[encoded data removed]",
      "text/plain": [
       "<Figure size 1152x576 with 18 Axes>"
      ]
     },
     "metadata": {
      "needs_background": "light"
     },
     "output_type": "display_data"
    }
   ],
   "source": [
    "figure = plt.figure(figsize=(16, 8))\n",
    "rows, cols = 3, 6\n",
    "for i in range(rows * cols):\n",
    "    img, label = x_train[i], t_train[i].argmax()\n",
    "    figure.add_subplot(rows, cols, i + 1)\n",
    "    plt.title(str(label) + ' (idx=' + str(i) + ')')\n",
    "    plt.axis(\"off\")\n",
    "    img = img.reshape(28, 28)  # 追加\n",
    "    plt.imshow(img.squeeze(), cmap=\"gray\")\n",
    "plt.show()"
   ]
  },
  {
   "cell_type": "markdown",
   "id": "d543408a",
   "metadata": {},
   "source": [
    "#### クラスのインスタンス化"
   ]
  },
  {
   "cell_type": "code",
   "execution_count": 19,
   "id": "09fedbcf",
   "metadata": {},
   "outputs": [],
   "source": [
    "network = TwoLayerNet(input_size=784, hidden_size=50, output_size=10)"
   ]
  },
  {
   "cell_type": "markdown",
   "id": "f1b8d8fb",
   "metadata": {},
   "source": [
    "#### パラメータの定義"
   ]
  },
  {
   "cell_type": "code",
   "execution_count": 20,
   "id": "3a3c3dac",
   "metadata": {},
   "outputs": [],
   "source": [
    "epoch_num = 20  # エポック数を設定する\n",
    "train_size = x_train.shape[0]  # 訓練データの数\n",
    "batch_size = 100  # バッチの数\n",
    "learning_rate = 0.1  # 学習係数\n",
    "\n",
    "train_loss_list = []\n",
    "train_acc_list = [0.0]\n",
    "test_acc_list = [0.0]\n",
    "\n",
    "iter_per_epoch = max(int(train_size / batch_size), 1)  # エポック毎の繰り返しの回数\n",
    "iters_num = iter_per_epoch * epoch_num  # 繰り返しの回数"
   ]
  },
  {
   "cell_type": "markdown",
   "id": "71a20711",
   "metadata": {},
   "source": [
    "### ミニバッチの学習"
   ]
  },
  {
   "cell_type": "code",
   "execution_count": 21,
   "id": "13161b63",
   "metadata": {},
   "outputs": [
    {
     "name": "stdout",
     "output_type": "stream",
     "text": [
      "epoch(1) accuracy(train, test) = (0.7948166666666666, 0.8019)\n",
      "epoch(2) accuracy(train, test) = (0.8765666666666667, 0.8787)\n",
      "epoch(3) accuracy(train, test) = (0.89895, 0.9006)\n",
      "epoch(4) accuracy(train, test) = (0.9083666666666667, 0.9108)\n",
      "epoch(5) accuracy(train, test) = (0.9151, 0.9178)\n",
      "epoch(6) accuracy(train, test) = (0.92, 0.9216)\n",
      "epoch(7) accuracy(train, test) = (0.92435, 0.926)\n",
      "epoch(8) accuracy(train, test) = (0.92775, 0.9302)\n",
      "epoch(9) accuracy(train, test) = (0.9305666666666667, 0.9318)\n",
      "epoch(10) accuracy(train, test) = (0.9334166666666667, 0.936)\n",
      "epoch(11) accuracy(train, test) = (0.9364166666666667, 0.9378)\n",
      "epoch(12) accuracy(train, test) = (0.9388166666666666, 0.9399)\n",
      "epoch(13) accuracy(train, test) = (0.941, 0.9402)\n",
      "epoch(14) accuracy(train, test) = (0.9421333333333334, 0.9434)\n",
      "epoch(15) accuracy(train, test) = (0.9448666666666666, 0.9443)\n",
      "epoch(16) accuracy(train, test) = (0.9459833333333333, 0.9465)\n",
      "epoch(17) accuracy(train, test) = (0.9476166666666667, 0.9466)\n",
      "epoch(18) accuracy(train, test) = (0.94945, 0.9495)\n",
      "epoch(19) accuracy(train, test) = (0.9502333333333334, 0.9501)\n",
      "epoch(20) accuracy(train, test) = (0.9518166666666666, 0.95)\n",
      "Done!\n"
     ]
    }
   ],
   "source": [
    "for i in range(iters_num):\n",
    "    batch_mask = np.random.choice(train_size, batch_size)\n",
    "    x_batch = x_train[batch_mask]\n",
    "    t_batch = t_train[batch_mask]\n",
    "    \n",
    "    # 勾配の計算\n",
    "    grad = network.gradient(x_batch, t_batch)\n",
    "    \n",
    "    # パラメータの更新\n",
    "    for key in ('W1', 'b1', 'W2', 'b2'):\n",
    "        network.params[key] -= learning_rate * grad[key]\n",
    "    \n",
    "    loss = network.loss(x_batch, t_batch)\n",
    "    train_loss_list.append(loss)\n",
    "    \n",
    "    if (i + 1) % iter_per_epoch == 0:\n",
    "        train_acc = network.accuracy(x_train, t_train)\n",
    "        test_acc = network.accuracy(x_test, t_test)\n",
    "        train_acc_list.append(train_acc)\n",
    "        test_acc_list.append(test_acc)\n",
    "        epoch_count = int((i + 1) / iter_per_epoch)\n",
    "        print('epoch(' + str(epoch_count) + ') accuracy(train, test) = (' \\\n",
    "              + str(train_acc) + ', ' + str(test_acc) + ')')\n",
    "\n",
    "print('Done!')"
   ]
  },
  {
   "cell_type": "markdown",
   "id": "3357d344",
   "metadata": {},
   "source": [
    "### 損失関数の推移"
   ]
  },
  {
   "cell_type": "code",
   "execution_count": 22,
   "id": "254d9d0f",
   "metadata": {},
   "outputs": [
    {
     "data": {
      "image/png": "[encoded data removed]",
      "text/plain": [
       "<Figure size 432x288 with 1 Axes>"
      ]
     },
     "metadata": {
      "needs_background": "light"
     },
     "output_type": "display_data"
    }
   ],
   "source": [
    "# グラフの描画\n",
    "x = np.arange(len(train_loss_list))\n",
    "plt.plot(x, train_loss_list, label='train loss')\n",
    "plt.xlabel('batchs')\n",
    "plt.ylabel('loss')\n",
    "plt.title('loss by batchs')\n",
    "plt.legend(loc='upper right')\n",
    "plt.show()"
   ]
  },
  {
   "cell_type": "markdown",
   "id": "632bd5e4",
   "metadata": {},
   "source": [
    "### 認識精度の推移"
   ]
  },
  {
   "cell_type": "code",
   "execution_count": 23,
   "id": "a6ce5f21",
   "metadata": {},
   "outputs": [
    {
     "data": {
      "image/png": "[encoded data removed]",
      "text/plain": [
       "<Figure size 432x288 with 1 Axes>"
      ]
     },
     "metadata": {
      "needs_background": "light"
     },
     "output_type": "display_data"
    }
   ],
   "source": [
    "# グラフの描画\n",
    "x = np.arange(len(train_acc_list))\n",
    "plt.plot(x, train_acc_list, label='train acc', marker='o')\n",
    "plt.plot(x, test_acc_list, label='test acc', linestyle='--', marker='^')\n",
    "plt.xlabel('epochs')\n",
    "plt.ylabel('accuracy')\n",
    "plt.title('accuracy by epochs')\n",
    "plt.ylim(0, 1.0)\n",
    "plt.legend(loc='lower right')\n",
    "plt.show()"
   ]
  },
  {
   "cell_type": "markdown",
   "id": "ed96fa49",
   "metadata": {},
   "source": [
    "#### 【オプション】テストの結果"
   ]
  },
  {
   "cell_type": "code",
   "execution_count": 24,
   "id": "eb5653a1",
   "metadata": {},
   "outputs": [
    {
     "name": "stdout",
     "output_type": "stream",
     "text": [
      "(10000, 10)\n",
      "index = 0\n",
      "[3.95468352e-05 2.79258099e-06 1.43668759e-03 1.72330671e-03\n",
      " 1.81915110e-06 5.64079948e-05 2.29290369e-08 9.95862970e-01\n",
      " 3.43797489e-05 8.42066319e-04]\n",
      "[0. 0. 0. 0. 0. 0. 0. 1. 0. 0.]\n",
      "index = 1\n",
      "[4.61670563e-03 7.38324362e-03 9.63925047e-01 1.05673893e-02\n",
      " 2.86466877e-07 4.41732284e-03 7.90244315e-03 4.95726097e-07\n",
      " 1.18635270e-03 7.13152222e-07]\n",
      "[0. 0. 1. 0. 0. 0. 0. 0. 0. 0.]\n",
      "index = 2\n",
      "[1.94148611e-07 9.91388217e-01 3.11516408e-03 1.13029720e-03\n",
      " 6.90527205e-05 8.52862012e-04 4.04556711e-04 1.75218676e-03\n",
      " 1.19133899e-03 9.61303756e-05]\n",
      "[0. 1. 0. 0. 0. 0. 0. 0. 0. 0.]\n"
     ]
    }
   ],
   "source": [
    "# テストの実行\n",
    "test_result = network.predict(x_test)\n",
    "print(test_result.shape)\n",
    "for index in range(3):\n",
    "    print('index = ' + str(index))\n",
    "    print(test_result[index])\n",
    "    print(t_test[index])"
   ]
  },
  {
   "cell_type": "markdown",
   "id": "1bef472c",
   "metadata": {},
   "source": [
    "#### 【オプション】エラー結果の確認"
   ]
  },
  {
   "cell_type": "code",
   "execution_count": 25,
   "id": "1c057cfb",
   "metadata": {},
   "outputs": [
    {
     "name": "stdout",
     "output_type": "stream",
     "text": [
      "error rate = 5.0[%]\n"
     ]
    },
    {
     "data": {
      "image/png": "[encoded data removed]",
      "text/plain": [
       "<Figure size 1152x576 with 18 Axes>"
      ]
     },
     "metadata": {
      "needs_background": "light"
     },
     "output_type": "display_data"
    }
   ],
   "source": [
    "# エラー結果のみの要素を抽出\n",
    "index_error = np.argmax(test_result, axis=1) != np.argmax(t_test, axis=1)\n",
    "error_list = []\n",
    "for index, error in enumerate(index_error):\n",
    "    if error: error_list.append(index)\n",
    "print('error rate = ' + str(len(error_list) / len(test_result) * 100) + '[%]')\n",
    "\n",
    "# 画像を表示\n",
    "figure = plt.figure(figsize=(16, 8))\n",
    "rows, cols = 3, 6\n",
    "for i in range(rows * cols):\n",
    "    index = error_list[i]\n",
    "    img, label_t, label_x = x_test[index], t_test[index].argmax(), test_result[index].argmax()\n",
    "    figure.add_subplot(rows, cols, i + 1)\n",
    "    plt.title(str(label_x) + ' (t=' + str(label_t) + ')')\n",
    "    plt.axis(\"off\")\n",
    "    img = img.reshape(28, 28)  # 追加\n",
    "    plt.imshow(img.squeeze(), cmap=\"gray\")\n",
    "plt.show()"
   ]
  }
 ],
 "metadata": {
  "kernelspec": {
   "display_name": "Python 3 (ipykernel)",
   "language": "python",
   "name": "python3"
  },
  "language_info": {
   "codemirror_mode": {
    "name": "ipython",
    "version": 3
   },
   "file_extension": ".py",
   "mimetype": "text/x-python",
   "name": "python",
   "nbconvert_exporter": "python",
   "pygments_lexer": "ipython3",
   "version": "3.9.6"
  }
 },
 "nbformat": 4,
 "nbformat_minor": 5
}
