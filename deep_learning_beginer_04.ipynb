{
 "cells": [
  {
   "cell_type": "markdown",
   "id": "df8e94ef",
   "metadata": {},
   "source": [
    "### データの取り扱い\n",
    "PyTorchではデータを取り扱う際に、基本的な要素が2つ存在します。  \n",
    "torch.utils.data.Datasetとtorch.utils.data.DataLoaderです。"
   ]
  },
  {
   "cell_type": "code",
   "execution_count": 1,
   "id": "7b336a3d",
   "metadata": {},
   "outputs": [],
   "source": [
    "%matplotlib inline"
   ]
  },
  {
   "cell_type": "code",
   "execution_count": 2,
   "id": "02d299ec",
   "metadata": {},
   "outputs": [],
   "source": [
    "import torch\n",
    "from torch import nn\n",
    "from torch.utils.data import DataLoader\n",
    "from torchvision import datasets\n",
    "from torchvision.transforms import ToTensor, Lambda, Compose\n",
    "import matplotlib.pyplot as plt"
   ]
  },
  {
   "cell_type": "code",
   "execution_count": 4,
   "id": "214c2719",
   "metadata": {},
   "outputs": [],
   "source": [
    "# 訓練データをdatasetsからダウンロード\n",
    "training_data = datasets.MNIST(\n",
    "    root=\"data\",\n",
    "    train=True,\n",
    "    download=True,\n",
    "    transform=ToTensor(),\n",
    ")\n",
    "\n",
    "# テストデータをdatasetsからダウンロード\n",
    "test_data = datasets.MNIST(\n",
    "    root=\"data\",\n",
    "    train=False,\n",
    "    download=True,\n",
    "    transform=ToTensor(),\n",
    ")"
   ]
  },
  {
   "cell_type": "code",
   "execution_count": 5,
   "id": "2a45ee0d",
   "metadata": {},
   "outputs": [
    {
     "name": "stdout",
     "output_type": "stream",
     "text": [
      "Shape of X [N, C, H, W]:  torch.Size([64, 1, 28, 28])\n",
      "Shape of y:  torch.Size([64]) torch.int64\n"
     ]
    }
   ],
   "source": [
    "batch_size = 64\n",
    "\n",
    "# データローダーの作成\n",
    "train_dataloader = DataLoader(training_data, batch_size=batch_size)\n",
    "test_dataloader = DataLoader(test_data, batch_size=batch_size)\n",
    "\n",
    "for X, y in test_dataloader:\n",
    "    print(\"Shape of X [N, C, H, W]: \", X.shape)\n",
    "    print(\"Shape of y: \", y.shape, y.dtype)\n",
    "    break"
   ]
  },
  {
   "cell_type": "markdown",
   "id": "7c52c824",
   "metadata": {},
   "source": [
    "### モデルの構築\n",
    "PyTorchでニューラルネットワークの形を定義する際には、nn.Moduleを継承します。  \n",
    "__init__ 関数で、ネットワークの各レイヤーを定義し、データの順伝搬をforward 関数に定義します。  \n",
    "なお処理を高速化するために、可能であればニューラルネットワークをGPU上へ移動させます。"
   ]
  },
  {
   "cell_type": "code",
   "execution_count": 6,
   "id": "b77c927e",
   "metadata": {},
   "outputs": [
    {
     "name": "stdout",
     "output_type": "stream",
     "text": [
      "Using cpu device\n",
      "NeuralNetwork(\n",
      "  (flatten): Flatten(start_dim=1, end_dim=-1)\n",
      "  (linear_relu_stack): Sequential(\n",
      "    (0): Linear(in_features=784, out_features=512, bias=True)\n",
      "    (1): ReLU()\n",
      "    (2): Linear(in_features=512, out_features=512, bias=True)\n",
      "    (3): ReLU()\n",
      "    (4): Linear(in_features=512, out_features=10, bias=True)\n",
      "    (5): ReLU()\n",
      "  )\n",
      ")\n"
     ]
    }
   ],
   "source": [
    "# 訓練に際して、可能であればGPU（cuda）を設定します。GPUが搭載されていない場合はCPUを使用します\n",
    "device = \"cuda\" if torch.cuda.is_available() else \"cpu\"\n",
    "print(\"Using {} device\".format(device))\n",
    "\n",
    "# modelを定義します\n",
    "class NeuralNetwork(nn.Module):\n",
    "    def __init__(self):\n",
    "        super(NeuralNetwork, self).__init__()\n",
    "        self.flatten = nn.Flatten()\n",
    "        self.linear_relu_stack = nn.Sequential(\n",
    "            nn.Linear(28*28, 512),\n",
    "            nn.ReLU(),\n",
    "            nn.Linear(512, 512),\n",
    "            nn.ReLU(),\n",
    "            nn.Linear(512, 10),\n",
    "            nn.ReLU()\n",
    "        )\n",
    "\n",
    "    def forward(self, x):\n",
    "        x = self.flatten(x)\n",
    "        logits = self.linear_relu_stack(x)\n",
    "        return logits\n",
    "\n",
    "model = NeuralNetwork().to(device)\n",
    "print(model)"
   ]
  },
  {
   "cell_type": "markdown",
   "id": "dcd90501",
   "metadata": {},
   "source": [
    "### モデルパラメータの最適化\n",
    "ニューラルネットワークモデルを訓練するためには、  \n",
    "損失関数：loss functionと、最適化手法：optimizerが必要です。"
   ]
  },
  {
   "cell_type": "code",
   "execution_count": 7,
   "id": "17aba2b7",
   "metadata": {},
   "outputs": [],
   "source": [
    "loss_fn = nn.CrossEntropyLoss()\n",
    "optimizer = torch.optim.SGD(model.parameters(), lr=1e-3)"
   ]
  },
  {
   "cell_type": "code",
   "execution_count": 8,
   "id": "abfa3d1d",
   "metadata": {},
   "outputs": [],
   "source": [
    "def train(dataloader, model, loss_fn, optimizer):\n",
    "    size = len(dataloader.dataset)\n",
    "    for batch, (X, y) in enumerate(dataloader):\n",
    "        X, y = X.to(device), y.to(device)\n",
    "        \n",
    "        # 損失誤差を計算\n",
    "        pred = model(X)\n",
    "        loss = loss_fn(pred, y)\n",
    "        \n",
    "        # バックプロパゲーション\n",
    "        optimizer.zero_grad()\n",
    "        loss.backward()\n",
    "        optimizer.step()\n",
    "\n",
    "        if batch % 100 == 0:\n",
    "            loss, current = loss.item(), batch * len(X)\n",
    "            print(f\"loss: {loss:>7f}  [{current:>5d}/{size:>5d}]\")"
   ]
  },
  {
   "cell_type": "code",
   "execution_count": 9,
   "id": "76a0e7a3",
   "metadata": {},
   "outputs": [],
   "source": [
    "def test(dataloader, model):\n",
    "    size = len(dataloader.dataset)\n",
    "    model.eval()\n",
    "    test_loss, correct = 0, 0\n",
    "    with torch.no_grad():\n",
    "        for X, y in dataloader:\n",
    "            X, y = X.to(device), y.to(device)\n",
    "            pred = model(X)\n",
    "            test_loss += loss_fn(pred, y).item()\n",
    "            correct += (pred.argmax(1) == y).type(torch.float).sum().item()\n",
    "    test_loss /= size\n",
    "    correct /= size\n",
    "    print(f\"Test Error: \\n Accuracy: {(100*correct):>0.1f}%, Avg loss: {test_loss:>8f} \\n\")"
   ]
  },
  {
   "cell_type": "code",
   "execution_count": 14,
   "id": "de6eca95",
   "metadata": {},
   "outputs": [
    {
     "name": "stdout",
     "output_type": "stream",
     "text": [
      "Epoch 1\n",
      "-------------------------------\n",
      "loss: 2.030451  [    0/60000]\n",
      "loss: 1.991876  [ 6400/60000]\n",
      "loss: 2.151433  [12800/60000]\n",
      "loss: 2.032781  [19200/60000]\n",
      "loss: 2.076157  [25600/60000]\n",
      "loss: 2.048995  [32000/60000]\n",
      "loss: 2.074563  [38400/60000]\n",
      "loss: 2.166357  [44800/60000]\n",
      "loss: 2.097828  [51200/60000]\n",
      "loss: 2.122299  [57600/60000]\n",
      "Test Error: \n",
      " Accuracy: 41.2%, Avg loss: 0.032575 \n",
      "\n",
      "Epoch 2\n",
      "-------------------------------\n",
      "loss: 2.030451  [    0/60000]\n",
      "loss: 1.991876  [ 6400/60000]\n",
      "loss: 2.151433  [12800/60000]\n",
      "loss: 2.032781  [19200/60000]\n",
      "loss: 2.076157  [25600/60000]\n",
      "loss: 2.048995  [32000/60000]\n",
      "loss: 2.074563  [38400/60000]\n",
      "loss: 2.166357  [44800/60000]\n",
      "loss: 2.097828  [51200/60000]\n",
      "loss: 2.122299  [57600/60000]\n",
      "Test Error: \n",
      " Accuracy: 41.2%, Avg loss: 0.032575 \n",
      "\n",
      "Epoch 3\n",
      "-------------------------------\n",
      "loss: 2.030451  [    0/60000]\n",
      "loss: 1.991876  [ 6400/60000]\n",
      "loss: 2.151433  [12800/60000]\n",
      "loss: 2.032781  [19200/60000]\n",
      "loss: 2.076157  [25600/60000]\n",
      "loss: 2.048995  [32000/60000]\n",
      "loss: 2.074563  [38400/60000]\n",
      "loss: 2.166357  [44800/60000]\n",
      "loss: 2.097828  [51200/60000]\n",
      "loss: 2.122299  [57600/60000]\n",
      "Test Error: \n",
      " Accuracy: 41.2%, Avg loss: 0.032575 \n",
      "\n",
      "Epoch 4\n",
      "-------------------------------\n",
      "loss: 2.030451  [    0/60000]\n",
      "loss: 1.991876  [ 6400/60000]\n",
      "loss: 2.151433  [12800/60000]\n",
      "loss: 2.032781  [19200/60000]\n",
      "loss: 2.076157  [25600/60000]\n",
      "loss: 2.048995  [32000/60000]\n",
      "loss: 2.074563  [38400/60000]\n",
      "loss: 2.166357  [44800/60000]\n",
      "loss: 2.097828  [51200/60000]\n",
      "loss: 2.122299  [57600/60000]\n",
      "Test Error: \n",
      " Accuracy: 41.2%, Avg loss: 0.032575 \n",
      "\n",
      "Epoch 5\n",
      "-------------------------------\n",
      "loss: 2.030451  [    0/60000]\n",
      "loss: 1.991876  [ 6400/60000]\n",
      "loss: 2.151433  [12800/60000]\n",
      "loss: 2.032781  [19200/60000]\n",
      "loss: 2.076157  [25600/60000]\n",
      "loss: 2.048995  [32000/60000]\n",
      "loss: 2.074563  [38400/60000]\n",
      "loss: 2.166357  [44800/60000]\n",
      "loss: 2.097828  [51200/60000]\n",
      "loss: 2.122299  [57600/60000]\n",
      "Test Error: \n",
      " Accuracy: 41.2%, Avg loss: 0.032575 \n",
      "\n",
      "Done!\n"
     ]
    }
   ],
   "source": [
    "epochs = 5\n",
    "for t in range(epochs):\n",
    "    print(f\"Epoch {t+1}\\n-------------------------------\")\n",
    "    train(train_dataloader, model, loss_fn, optimizer)\n",
    "    test(test_dataloader, model)\n",
    "print(\"Done!\")"
   ]
  },
  {
   "cell_type": "markdown",
   "id": "0b156758",
   "metadata": {},
   "source": [
    "### モデルの保存\n",
    "モデルを保存する一般的な方法は、モデルの内部状態の辞書（モデルのパラメータを含む）をシリアル化する手法です。"
   ]
  },
  {
   "cell_type": "code",
   "execution_count": 15,
   "id": "f767abf3",
   "metadata": {},
   "outputs": [
    {
     "name": "stdout",
     "output_type": "stream",
     "text": [
      "Saved PyTorch Model State to model.pth\n"
     ]
    }
   ],
   "source": [
    "torch.save(model.state_dict(), \"model.pth\")\n",
    "print(\"Saved PyTorch Model State to model.pth\")"
   ]
  },
  {
   "cell_type": "markdown",
   "id": "5b280cb1",
   "metadata": {},
   "source": [
    "### モデルの読み込み\n",
    "モデルの読み込む際には、まずモデルの構造を再作成し、そのインスタンスに、保存しておいた状態辞書をロードします。"
   ]
  },
  {
   "cell_type": "code",
   "execution_count": 16,
   "id": "89fb9746",
   "metadata": {},
   "outputs": [
    {
     "data": {
      "text/plain": [
       "<All keys matched successfully>"
      ]
     },
     "execution_count": 16,
     "metadata": {},
     "output_type": "execute_result"
    }
   ],
   "source": [
    "model = NeuralNetwork()\n",
    "model.load_state_dict(torch.load(\"model.pth\"))"
   ]
  },
  {
   "cell_type": "code",
   "execution_count": 17,
   "id": "38bdfda3",
   "metadata": {},
   "outputs": [
    {
     "name": "stdout",
     "output_type": "stream",
     "text": [
      "Predicted: \"4\", Actual: \"7\"\n",
      "Predicted: \"3\", Actual: \"2\"\n",
      "Predicted: \"1\", Actual: \"1\"\n",
      "Predicted: \"0\", Actual: \"0\"\n",
      "Predicted: \"4\", Actual: \"4\"\n",
      "Predicted: \"1\", Actual: \"1\"\n",
      "Predicted: \"4\", Actual: \"4\"\n",
      "Predicted: \"4\", Actual: \"9\"\n",
      "Predicted: \"0\", Actual: \"5\"\n",
      "Predicted: \"4\", Actual: \"9\"\n",
      "Predicted: \"0\", Actual: \"0\"\n",
      "Predicted: \"0\", Actual: \"6\"\n",
      "Predicted: \"4\", Actual: \"9\"\n",
      "Predicted: \"0\", Actual: \"0\"\n",
      "Predicted: \"1\", Actual: \"1\"\n",
      "Predicted: \"3\", Actual: \"5\"\n",
      "Predicted: \"4\", Actual: \"9\"\n",
      "Predicted: \"3\", Actual: \"7\"\n",
      "Predicted: \"3\", Actual: \"3\"\n",
      "Predicted: \"4\", Actual: \"4\"\n"
     ]
    }
   ],
   "source": [
    "model.eval()\n",
    "for idx in range(20):\n",
    "    x, y = test_data[idx][0], test_data[idx][1]\n",
    "    with torch.no_grad():\n",
    "        pred = model(x)\n",
    "        predicted, actual = pred[0].argmax(0), y\n",
    "        print(f'Predicted: \"{predicted}\", Actual: \"{actual}\"')"
   ]
  }
 ],
 "metadata": {
  "kernelspec": {
   "display_name": "PytorchEnv",
   "language": "python",
   "name": "pytorchenv"
  },
  "language_info": {
   "codemirror_mode": {
    "name": "ipython",
    "version": 3
   },
   "file_extension": ".py",
   "mimetype": "text/x-python",
   "name": "python",
   "nbconvert_exporter": "python",
   "pygments_lexer": "ipython3",
   "version": "3.9.6"
  }
 },
 "nbformat": 4,
 "nbformat_minor": 5
}
