{
 "cells": [
  {
   "cell_type": "code",
   "execution_count": null,
   "id": "60356c0b",
   "metadata": {},
   "outputs": [],
   "source": [
    "import numpy as np\n",
    "import matplotlib.pyplot as plt"
   ]
  },
  {
   "cell_type": "markdown",
   "id": "55196464",
   "metadata": {},
   "source": [
    "### numpy による行列演算"
   ]
  },
  {
   "cell_type": "code",
   "execution_count": null,
   "id": "4e6ed714",
   "metadata": {},
   "outputs": [],
   "source": [
    "# 加算\n",
    "x = np.array([2, 3])\n",
    "w = np.array([0.1, 0.2])\n",
    "print(x, w)\n",
    "print(x + w)"
   ]
  },
  {
   "cell_type": "code",
   "execution_count": null,
   "id": "2651746d",
   "metadata": {},
   "outputs": [],
   "source": [
    "# 乗算\n",
    "x = np.array([2, 3])\n",
    "w = np.array([0.1, 0.2])\n",
    "print(x, w)\n",
    "print(x * w)"
   ]
  },
  {
   "cell_type": "code",
   "execution_count": null,
   "id": "b2b9cfc1",
   "metadata": {},
   "outputs": [],
   "source": [
    "# 行列の積\n",
    "x = np.array([2, 3])\n",
    "w = np.array([0.1, 0.2])\n",
    "print(x, w)\n",
    "print(np.dot(x, w))"
   ]
  },
  {
   "cell_type": "code",
   "execution_count": null,
   "id": "28b3061d",
   "metadata": {},
   "outputs": [],
   "source": [
    "# ブロードキャスト\n",
    "x = np.array([2, 3])\n",
    "b = 0.5\n",
    "print(x, b)\n",
    "print(x + b)"
   ]
  },
  {
   "cell_type": "markdown",
   "id": "f993c70f",
   "metadata": {},
   "source": [
    "##### ニューロンにおける行列計算の例\n",
    "$\n",
    "    X = \\left[\\begin{array}{cc}\n",
    "        x_1 & x_2\n",
    "    \\end{array}\\right], \\quad\n",
    "    W = \\left[\\begin{array}{cc}\n",
    "        w_{11} & w_{21} \\\\\n",
    "        w_{12} & w_{22} \\\\\n",
    "    \\end{array}\\right], \\quad\n",
    "    B = \\left[\\begin{array}{cc}\n",
    "        b_1 & b_2\n",
    "    \\end{array}\\right]\n",
    "$  \n",
    "  \n",
    "$\n",
    "    A = XW + B, \\quad\n",
    "    Y = h(A)\n",
    "$  \n",
    "  \n",
    "活性化関数 ReLU\n",
    "$\n",
    "    \\quad h(x) = \\begin{cases}\n",
    "        x \\quad (x > 0) \\\\\n",
    "        0 \\quad (x \\leqq 0) \\\\\n",
    "    \\end{cases} $"
   ]
  },
  {
   "cell_type": "code",
   "execution_count": null,
   "id": "659ff958",
   "metadata": {},
   "outputs": [],
   "source": [
    "# ニューロンにおける行列計算の例\n",
    "x = np.array([2, 3])\n",
    "w = np.array([[0.1, 0.2],\n",
    "              [-0.3, 0.4]])\n",
    "b = np.array([0.5, -0.3])"
   ]
  },
  {
   "cell_type": "code",
   "execution_count": null,
   "id": "61ce840a",
   "metadata": {},
   "outputs": [],
   "source": [
    "print(x, '<- x')\n",
    "print(w, '<- w')\n",
    "print('np.dot(x,w) ->', np.dot(x, w))"
   ]
  },
  {
   "cell_type": "code",
   "execution_count": null,
   "id": "65d96e82",
   "metadata": {},
   "outputs": [],
   "source": [
    "print(b, '<- b')\n",
    "a = np.dot(x, w) + b\n",
    "print('a = np.dot(x,w)+b ->', a)"
   ]
  },
  {
   "cell_type": "code",
   "execution_count": null,
   "id": "c16c8c0c",
   "metadata": {},
   "outputs": [],
   "source": [
    "# ReLU 関数\n",
    "mask = (a <= 0)\n",
    "y = a.copy()\n",
    "y[mask] = 0\n",
    "print('y = ReLU(a) ->', y)"
   ]
  },
  {
   "cell_type": "markdown",
   "id": "748d2748",
   "metadata": {},
   "source": [
    "### matplotlib によるグラフの描画"
   ]
  },
  {
   "cell_type": "code",
   "execution_count": null,
   "id": "6b75be05",
   "metadata": {},
   "outputs": [],
   "source": [
    "# データの作成\n",
    "x = np.arange(0, 6, 0.1) # 0から6まで0.1刻みで生成\n",
    "y1 = np.sin(x)\n",
    "y2 = np.cos(x)\n",
    "\n",
    "# グラフの描画\n",
    "plt.plot(x, y1, label=\"sin\")\n",
    "plt.plot(x, y2, linestyle = \"--\", label=\"cos\")\n",
    "plt.xlabel(\"x\") # x軸のラベル\n",
    "plt.ylabel(\"y\") # y軸のラベル\n",
    "plt.title('sin & cos')\n",
    "plt.legend()\n",
    "plt.show()"
   ]
  }
 ],
 "metadata": {
  "kernelspec": {
   "display_name": "Python 3 (ipykernel)",
   "language": "python",
   "name": "python3"
  },
  "language_info": {
   "codemirror_mode": {
    "name": "ipython",
    "version": 3
   },
   "file_extension": ".py",
   "mimetype": "text/x-python",
   "name": "python",
   "nbconvert_exporter": "python",
   "pygments_lexer": "ipython3",
   "version": "3.9.6"
  }
 },
 "nbformat": 4,
 "nbformat_minor": 5
}
