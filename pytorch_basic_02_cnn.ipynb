{
 "cells": [
  {
   "cell_type": "markdown",
   "id": "e95231ab",
   "metadata": {},
   "source": [
    "# PyTorch を利用した実装（畳み込みニューラルネットワーク）"
   ]
  },
  {
   "cell_type": "markdown",
   "id": "c8908905",
   "metadata": {},
   "source": [
    "[![Open In Colab](https://colab.research.google.com/assets/colab-badge.svg)](http://colab.research.google.com/github/hseiyama/DeepLearning/blob/main/pytorch_basic_02_cnn.ipynb)"
   ]
  },
  {
   "cell_type": "code",
   "execution_count": null,
   "id": "566c5b99",
   "metadata": {},
   "outputs": [],
   "source": [
    "import torch\n",
    "from torch import nn\n",
    "from torch.utils.data import DataLoader\n",
    "from torchvision import datasets\n",
    "from torchvision.transforms import ToTensor\n",
    "import matplotlib.pyplot as plt"
   ]
  },
  {
   "cell_type": "markdown",
   "id": "67197fa6",
   "metadata": {},
   "source": [
    "### パラメータの定義"
   ]
  },
  {
   "cell_type": "code",
   "execution_count": null,
   "id": "383e5d30",
   "metadata": {},
   "outputs": [],
   "source": [
    "epoch_num = 20  # エポック数を設定する\n",
    "batch_size = 100  # バッチの数\n",
    "learning_rate = 0.01  # 学習係数"
   ]
  },
  {
   "cell_type": "markdown",
   "id": "fd15d5e9",
   "metadata": {},
   "source": [
    "### MNIST データセット"
   ]
  },
  {
   "cell_type": "code",
   "execution_count": null,
   "id": "eb2fe989",
   "metadata": {},
   "outputs": [],
   "source": [
    "# 訓練データをdatasetsからダウンロード\n",
    "training_data = datasets.MNIST(\n",
    "    root='data',\n",
    "    train=True,\n",
    "    download=True,\n",
    "    transform=ToTensor()\n",
    ")\n",
    "\n",
    "# テストデータをdatasetsからダウンロード\n",
    "test_data = datasets.MNIST(\n",
    "    root='data',\n",
    "    train=False,\n",
    "    download=True,\n",
    "    transform=ToTensor()\n",
    ")"
   ]
  },
  {
   "cell_type": "markdown",
   "id": "649faba1",
   "metadata": {},
   "source": [
    "### データローダー"
   ]
  },
  {
   "cell_type": "code",
   "execution_count": null,
   "id": "72b4c0b6",
   "metadata": {},
   "outputs": [],
   "source": [
    "# データローダーの作成\n",
    "train_dataloader = DataLoader(training_data, batch_size=batch_size)\n",
    "test_dataloader = DataLoader(test_data, batch_size=batch_size)\n",
    "\n",
    "for X, y in test_dataloader:\n",
    "    print('X.shape [N, C, H, W]:', X.shape)\n",
    "    print('y.shape:', y.shape, y.dtype)\n",
    "    break"
   ]
  },
  {
   "cell_type": "markdown",
   "id": "ff9d0dbc",
   "metadata": {},
   "source": [
    "#### 【オプション】入力データの確認"
   ]
  },
  {
   "cell_type": "code",
   "execution_count": null,
   "id": "57f6b6c1",
   "metadata": {},
   "outputs": [],
   "source": [
    "for X, y in train_dataloader:\n",
    "    x_train = X\n",
    "    t_train = y\n",
    "    break\n",
    "\n",
    "# 画像を表示\n",
    "figure = plt.figure(figsize=(12, 4))\n",
    "rows, cols = 2, 6\n",
    "for i in range(rows * cols):\n",
    "    img, label = x_train[i], t_train[i]\n",
    "    figure.add_subplot(rows, cols, i + 1)\n",
    "    plt.title(f'{label} (idx={i})')\n",
    "    plt.axis('off')\n",
    "    plt.imshow(img.squeeze(), cmap='gray')  # 1x28x28 -> 28x28 に変換\n",
    "plt.show()\n",
    "print(y[:rows * cols])"
   ]
  },
  {
   "cell_type": "markdown",
   "id": "ea1751a9",
   "metadata": {},
   "source": [
    "### ニューラルネットワークの定義"
   ]
  },
  {
   "cell_type": "code",
   "execution_count": null,
   "id": "2a8235d4",
   "metadata": {},
   "outputs": [],
   "source": [
    "# modelを定義します\n",
    "class NeuralNetwork(nn.Module):\n",
    "    def __init__(self):\n",
    "        super(NeuralNetwork, self).__init__()\n",
    "        self.layer1 = nn.Sequential(\n",
    "            # 畳み込み層（入力チャンネル数、フィルタ数、フィルタサイズ、ストライド、パディング）\n",
    "            nn.Conv2d(1, 30, kernel_size=5, stride=1, padding=0),  # (batch)x1x28x28 -> (batch)x30x24x24\n",
    "            nn.ReLU(),\n",
    "            # プーリング層（領域のサイズ、ストライド、パディング）\n",
    "            nn.MaxPool2d(2, stride=2, padding=0)  # (batch)x30x24x24 -> (batch)x30x12x12\n",
    "        )\n",
    "        self.layer2 = nn.Sequential(\n",
    "            nn.Flatten(),  # (batch)x30x12x12 -> (batch)x(30*12*12) に変換\n",
    "            nn.Linear(30*12*12, 100),  # 全結合層 (batch)x(30*12*12) -> (batch)x100\n",
    "            nn.ReLU()\n",
    "        )\n",
    "        self.layer3 = nn.Linear(100, 10)  # 全結合層 (batch)x100-> (batch)x10\n",
    "\n",
    "    def forward(self, x):\n",
    "        x = self.layer1(x)\n",
    "        x = self.layer2(x)\n",
    "        x = self.layer3(x)\n",
    "        return x"
   ]
  },
  {
   "cell_type": "markdown",
   "id": "544e268d",
   "metadata": {},
   "source": [
    "### ニューラルネットワークのインスタンス化"
   ]
  },
  {
   "cell_type": "code",
   "execution_count": null,
   "id": "c97e4688",
   "metadata": {},
   "outputs": [],
   "source": [
    "# 訓練に際して、可能であればGPU（cuda）を設定します。GPUが搭載されていない場合はCPUを使用します\n",
    "device = 'cuda' if torch.cuda.is_available() else 'cpu'\n",
    "print(f'Using {device} device')\n",
    "\n",
    "model = NeuralNetwork().to(device)\n",
    "print(model)"
   ]
  },
  {
   "cell_type": "markdown",
   "id": "f4363c18",
   "metadata": {},
   "source": [
    "### 損失関数と最適化手法を定義"
   ]
  },
  {
   "cell_type": "code",
   "execution_count": null,
   "id": "14ff85f9",
   "metadata": {},
   "outputs": [],
   "source": [
    "loss_fn = nn.CrossEntropyLoss()\n",
    "#optimizer = torch.optim.SGD(model.parameters(), lr=learning_rate)  # SGD\n",
    "#optimizer = torch.optim.SGD(model.parameters(), lr=learning_rate, momentum=0.9)  # Momentum SGD\n",
    "#optimizer = torch.optim.Adagrad(model.parameters(), lr=learning_rate)  # Adagrad\n",
    "optimizer = torch.optim.Adam(model.parameters(), lr=learning_rate)  # Adam"
   ]
  },
  {
   "cell_type": "markdown",
   "id": "a7b9f22e",
   "metadata": {},
   "source": [
    "### 訓練のプロセス"
   ]
  },
  {
   "cell_type": "code",
   "execution_count": null,
   "id": "3b858f73",
   "metadata": {},
   "outputs": [],
   "source": [
    "def train(dataloader, model, loss_fn, optimizer):\n",
    "    model.train()  # 訓練モード\n",
    "    loss_list = []\n",
    "    size = len(dataloader.dataset)\n",
    "    for batch, (X, y) in enumerate(dataloader):\n",
    "        X, y = X.to(device), y.to(device)\n",
    "        #y = torch.eye(10)[y]  # index -> one-hot 形式に変換\n",
    "        \n",
    "        # 損失誤差を計算\n",
    "        pred = model(X)\n",
    "        loss = loss_fn(pred, y)\n",
    "        \n",
    "        # バックプロパゲーション\n",
    "        optimizer.zero_grad()\n",
    "        loss.backward()\n",
    "        optimizer.step()\n",
    "        \n",
    "        loss_list.append(loss.item())\n",
    "        print(f'\\rtrain batch({batch + 1})', end='')\n",
    "    \n",
    "    return loss_list"
   ]
  },
  {
   "cell_type": "markdown",
   "id": "25d1036b",
   "metadata": {},
   "source": [
    "### 評価のプロセス"
   ]
  },
  {
   "cell_type": "code",
   "execution_count": null,
   "id": "2cc55dab",
   "metadata": {},
   "outputs": [],
   "source": [
    "def test(dataloader, model, title):\n",
    "    model.eval()  # 評価モード\n",
    "    correct = 0\n",
    "    size = len(dataloader.dataset)\n",
    "    with torch.no_grad():\n",
    "        for batch, (X, y) in enumerate(dataloader):\n",
    "            X, y = X.to(device), y.to(device)\n",
    "            pred = model(X)\n",
    "            correct += (pred.argmax(1) == y).type(torch.float).sum().item()\n",
    "            print(f'\\rtest({title}) batch({batch + 1}){\" \" * 5}', end='')\n",
    "    correct /= size\n",
    "    \n",
    "    return correct"
   ]
  },
  {
   "cell_type": "markdown",
   "id": "f364be56",
   "metadata": {},
   "source": [
    "### ミニバッチの学習"
   ]
  },
  {
   "cell_type": "code",
   "execution_count": null,
   "id": "8fe2bc91",
   "metadata": {},
   "outputs": [],
   "source": [
    "train_loss_list = []\n",
    "train_acc_list = [0.0]\n",
    "test_acc_list = [0.0]\n",
    "\n",
    "for t in range(epoch_num):\n",
    "    train_loss = train(train_dataloader, model, loss_fn, optimizer)\n",
    "    train_loss_list += train_loss\n",
    "    print(f'\\repoch({t + 1}) loss = {train_loss_list[-1]}')\n",
    "    train_acc = test(train_dataloader, model, 'train_data')\n",
    "    test_acc = test(test_dataloader, model, 'test_data')\n",
    "    train_acc_list.append(train_acc)\n",
    "    test_acc_list.append(test_acc)\n",
    "    print(f'\\repoch({t + 1}) accuracy(train, test) = ({train_acc}, {test_acc})')\n",
    "\n",
    "print('Done!')"
   ]
  },
  {
   "cell_type": "markdown",
   "id": "2ff68a9d",
   "metadata": {},
   "source": [
    "### 損失関数の推移"
   ]
  },
  {
   "cell_type": "code",
   "execution_count": null,
   "id": "f4db9b20",
   "metadata": {},
   "outputs": [],
   "source": [
    "# グラフの描画\n",
    "x = torch.arange(len(train_loss_list))\n",
    "plt.plot(x, train_loss_list, label='train loss')\n",
    "plt.xlabel('batchs')\n",
    "plt.ylabel('loss')\n",
    "plt.title('loss by batchs')\n",
    "plt.legend(loc='upper right')\n",
    "plt.show()"
   ]
  },
  {
   "cell_type": "markdown",
   "id": "e9543c97",
   "metadata": {},
   "source": [
    "### 認識精度の推移"
   ]
  },
  {
   "cell_type": "code",
   "execution_count": null,
   "id": "a6fdc67f",
   "metadata": {},
   "outputs": [],
   "source": [
    "# グラフの描画\n",
    "x = torch.arange(len(train_acc_list))\n",
    "plt.plot(x, train_acc_list, label='train acc', marker='o')\n",
    "plt.plot(x, test_acc_list, label='test acc', linestyle='--', marker='^')\n",
    "plt.xlabel('epochs')\n",
    "plt.ylabel('accuracy')\n",
    "plt.title('accuracy by epochs')\n",
    "plt.ylim(0, 1.0)\n",
    "plt.legend(loc='lower right')\n",
    "plt.show()"
   ]
  },
  {
   "cell_type": "markdown",
   "id": "c218411b",
   "metadata": {},
   "source": [
    "#### 【オプション】テストの結果"
   ]
  },
  {
   "cell_type": "code",
   "execution_count": null,
   "id": "e1b67440",
   "metadata": {},
   "outputs": [],
   "source": [
    "x_test = None\n",
    "t_test = None\n",
    "test_predict = None\n",
    "\n",
    "# テストの実行\n",
    "model.eval()\n",
    "with torch.no_grad():\n",
    "    for X, y in test_dataloader:\n",
    "        X, y = X.to(device), y.to(device)\n",
    "        pred = model(X)\n",
    "        X, y, pred = X.cpu(), y.cpu(), pred.cpu()\n",
    "        x_test = torch.cat((x_test,X),0) if x_test is not None else X\n",
    "        t_test = torch.cat((t_test,y),0) if t_test is not None else y\n",
    "        test_predict = torch.cat((test_predict,pred),0) if test_predict is not None else pred\n",
    "\n",
    "print(test_predict.shape)\n",
    "for index in range(3):\n",
    "    print(f'index = {index}')\n",
    "    print(test_predict[index])\n",
    "    print(t_test[index])"
   ]
  },
  {
   "cell_type": "markdown",
   "id": "a2eb9cca",
   "metadata": {},
   "source": [
    "#### 【オプション】エラー結果の確認"
   ]
  },
  {
   "cell_type": "code",
   "execution_count": null,
   "id": "0d49b25e",
   "metadata": {},
   "outputs": [],
   "source": [
    "# エラー結果の要素を抽出\n",
    "index_error = torch.argmax(test_predict, axis=1) != t_test\n",
    "error_list = torch.arange(len(test_predict))[index_error]\n",
    "print(f'error rate = {len(error_list) / len(test_predict) * 100}[%]',\n",
    "      f'(num = {len(error_list)}/{len(test_predict)})')\n",
    "\n",
    "offset = 0\n",
    "# 画像を表示\n",
    "figure = plt.figure(figsize=(12, 2))\n",
    "rows, cols = 1, 6\n",
    "for i in range(rows * cols):\n",
    "    index = error_list[offset + i]\n",
    "    img, label_t, label_y = x_test[index], t_test[index], test_predict[index].argmax()\n",
    "    figure.add_subplot(rows, cols, i + 1)\n",
    "    plt.title(f'{label_y} (t={label_t})')\n",
    "    plt.axis('off')\n",
    "    plt.imshow(img.squeeze(), cmap='gray')  # 1x28x28 -> 28x28 に変換\n",
    "plt.show()\n",
    "print(test_predict[error_list[offset:offset + rows * cols]])"
   ]
  },
  {
   "cell_type": "markdown",
   "id": "40cf59ac",
   "metadata": {},
   "source": [
    "#### 【オプション】モデルの保存と読み込み"
   ]
  },
  {
   "cell_type": "code",
   "execution_count": null,
   "id": "38233123",
   "metadata": {},
   "outputs": [],
   "source": [
    "#torch.save(model, 'model_cnn.pth')\n",
    "model = torch.load('model_cnn.pth')"
   ]
  },
  {
   "cell_type": "markdown",
   "id": "b052cced",
   "metadata": {},
   "source": [
    "#### 【オプション】1層目の重みの可視化"
   ]
  },
  {
   "cell_type": "code",
   "execution_count": null,
   "id": "fafd3cb8",
   "metadata": {},
   "outputs": [],
   "source": [
    "def filter_show(filters, nx=10):\n",
    "    FN, C, FH, FW = filters.shape\n",
    "    ny = int(FN / nx)\n",
    "\n",
    "    fig = plt.figure()\n",
    "    fig.subplots_adjust(left=0, right=1.6, bottom=0, top=0.7, hspace=0.1, wspace=0.1)\n",
    "\n",
    "    for i in range(FN):\n",
    "        ax = fig.add_subplot(ny, nx, i+1, xticks=[], yticks=[])\n",
    "        ax.imshow(filters[i, 0], cmap=plt.cm.gray_r, interpolation='nearest')\n",
    "    plt.show()\n",
    "\n",
    "# 学習後の重み\n",
    "filter_show(model.state_dict()['layer1.0.weight'].cpu())"
   ]
  }
 ],
 "metadata": {
  "kernelspec": {
   "display_name": "PytorchEnv",
   "language": "python",
   "name": "pytorchenv"
  },
  "language_info": {
   "codemirror_mode": {
    "name": "ipython",
    "version": 3
   },
   "file_extension": ".py",
   "mimetype": "text/x-python",
   "name": "python",
   "nbconvert_exporter": "python",
   "pygments_lexer": "ipython3",
   "version": "3.9.6"
  }
 },
 "nbformat": 4,
 "nbformat_minor": 5
}
