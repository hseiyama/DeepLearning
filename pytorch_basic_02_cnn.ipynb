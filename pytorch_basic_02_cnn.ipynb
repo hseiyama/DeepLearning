{
 "cells": [
  {
   "cell_type": "markdown",
   "id": "e95231ab",
   "metadata": {},
   "source": [
    "# PyTorch を利用した実装（畳み込みニューラルネットワーク）"
   ]
  },
  {
   "cell_type": "markdown",
   "id": "c8908905",
   "metadata": {},
   "source": [
    "[![Open In Colab](https://colab.research.google.com/assets/colab-badge.svg)](http://colab.research.google.com/github/hseiyama/DeepLearning/blob/main/pytorch_basic_02_cnn.ipynb)"
   ]
  },
  {
   "cell_type": "code",
   "execution_count": 40,
   "id": "566c5b99",
   "metadata": {},
   "outputs": [],
   "source": [
    "import torch\n",
    "from torch import nn\n",
    "from torch.utils.data import DataLoader\n",
    "from torchvision import datasets\n",
    "from torchvision.transforms import ToTensor\n",
    "import matplotlib.pyplot as plt"
   ]
  },
  {
   "cell_type": "markdown",
   "id": "67197fa6",
   "metadata": {},
   "source": [
    "### パラメータの定義"
   ]
  },
  {
   "cell_type": "code",
   "execution_count": 41,
   "id": "383e5d30",
   "metadata": {},
   "outputs": [],
   "source": [
    "epoch_num = 20  # エポック数を設定する\n",
    "batch_size = 100  # バッチの数\n",
    "learning_rate = 0.1  # 学習係数"
   ]
  },
  {
   "cell_type": "markdown",
   "id": "fd15d5e9",
   "metadata": {},
   "source": [
    "### MNIST データセット"
   ]
  },
  {
   "cell_type": "code",
   "execution_count": 42,
   "id": "eb2fe989",
   "metadata": {},
   "outputs": [],
   "source": [
    "# 訓練データをdatasetsからダウンロード\n",
    "training_data = datasets.MNIST(\n",
    "    root='data',\n",
    "    train=True,\n",
    "    download=True,\n",
    "    transform=ToTensor()\n",
    ")\n",
    "\n",
    "# テストデータをdatasetsからダウンロード\n",
    "test_data = datasets.MNIST(\n",
    "    root='data',\n",
    "    train=False,\n",
    "    download=True,\n",
    "    transform=ToTensor()\n",
    ")"
   ]
  },
  {
   "cell_type": "markdown",
   "id": "649faba1",
   "metadata": {},
   "source": [
    "### データローダー"
   ]
  },
  {
   "cell_type": "code",
   "execution_count": 43,
   "id": "72b4c0b6",
   "metadata": {},
   "outputs": [
    {
     "name": "stdout",
     "output_type": "stream",
     "text": [
      "X.shape [N, C, H, W]: torch.Size([100, 1, 28, 28])\n",
      "y.shape: torch.Size([100]) torch.int64\n"
     ]
    }
   ],
   "source": [
    "# データローダーの作成\n",
    "train_dataloader = DataLoader(training_data, batch_size=batch_size)\n",
    "test_dataloader = DataLoader(test_data, batch_size=batch_size)\n",
    "\n",
    "for X, y in test_dataloader:\n",
    "    print('X.shape [N, C, H, W]:', X.shape)\n",
    "    print('y.shape:', y.shape, y.dtype)\n",
    "    break"
   ]
  },
  {
   "cell_type": "markdown",
   "id": "ff9d0dbc",
   "metadata": {},
   "source": [
    "#### 【オプション】入力データの確認"
   ]
  },
  {
   "cell_type": "code",
   "execution_count": 44,
   "id": "57f6b6c1",
   "metadata": {},
   "outputs": [
    {
     "data": {
      "image/png": "[encoded data removed]",
      "text/plain": [
       "<Figure size 864x288 with 12 Axes>"
      ]
     },
     "metadata": {
      "needs_background": "light"
     },
     "output_type": "display_data"
    },
    {
     "name": "stdout",
     "output_type": "stream",
     "text": [
      "tensor([5, 0, 4, 1, 9, 2, 1, 3, 1, 4, 3, 5])\n"
     ]
    }
   ],
   "source": [
    "for X, y in train_dataloader:\n",
    "    x_train = X\n",
    "    t_train = y\n",
    "    break\n",
    "\n",
    "# 画像を表示\n",
    "figure = plt.figure(figsize=(12, 4))\n",
    "rows, cols = 2, 6\n",
    "for i in range(rows * cols):\n",
    "    img, label = x_train[i], t_train[i]\n",
    "    figure.add_subplot(rows, cols, i + 1)\n",
    "    plt.title(f'{label} (idx={i})')\n",
    "    plt.axis('off')\n",
    "    plt.imshow(img.squeeze(), cmap='gray')  # 1x28x28 -> 28x28 に変換\n",
    "plt.show()\n",
    "print(y[:rows * cols])"
   ]
  },
  {
   "cell_type": "markdown",
   "id": "ea1751a9",
   "metadata": {},
   "source": [
    "### ニューラルネットワークの定義"
   ]
  },
  {
   "cell_type": "code",
   "execution_count": 45,
   "id": "2a8235d4",
   "metadata": {},
   "outputs": [],
   "source": [
    "# modelを定義します\n",
    "class NeuralNetwork(nn.Module):\n",
    "    def __init__(self):\n",
    "        super(NeuralNetwork, self).__init__()\n",
    "        self.layer1 = nn.Sequential(\n",
    "            # 畳み込み層（入力チャンネル数、フィルタ数、フィルタサイズ、ストライド、パディング）\n",
    "            nn.Conv2d(1, 30, kernel_size=5, stride=1, padding=0),  # (batch)x1x28x28 -> (batch)x30x24x24\n",
    "            nn.ReLU(),\n",
    "            # プーリング層（領域のサイズ、ストライド、パディング）\n",
    "            nn.MaxPool2d(2, stride=2, padding=0))  # (batch)x30x24x24 -> (batch)x30x12x12\n",
    "        self.layer2 = nn.Sequential(\n",
    "            nn.Flatten(),  # (batch)x30x12x12 -> (batch)x(30*12*12) に変換\n",
    "            nn.Linear(30*12*12, 100),  # 全結合層 (batch)x(30*12*12) -> (batch)x100\n",
    "            nn.ReLU())\n",
    "        self.layer3 = nn.Linear(100, 10)  # 全結合層 (batch)x100-> (batch)x10\n",
    "\n",
    "    def forward(self, x):\n",
    "        x = self.layer1(x)\n",
    "        x = self.layer2(x)\n",
    "        x = self.layer3(x)\n",
    "        return x"
   ]
  },
  {
   "cell_type": "markdown",
   "id": "544e268d",
   "metadata": {},
   "source": [
    "### ニューラルネットワークのインスタンス化"
   ]
  },
  {
   "cell_type": "code",
   "execution_count": 46,
   "id": "c97e4688",
   "metadata": {},
   "outputs": [
    {
     "name": "stdout",
     "output_type": "stream",
     "text": [
      "Using cpu device\n",
      "NeuralNetwork(\n",
      "  (layer1): Sequential(\n",
      "    (0): Conv2d(1, 30, kernel_size=(5, 5), stride=(1, 1))\n",
      "    (1): ReLU()\n",
      "    (2): MaxPool2d(kernel_size=2, stride=2, padding=0, dilation=1, ceil_mode=False)\n",
      "  )\n",
      "  (layer2): Sequential(\n",
      "    (0): Flatten(start_dim=1, end_dim=-1)\n",
      "    (1): Linear(in_features=4320, out_features=100, bias=True)\n",
      "    (2): ReLU()\n",
      "  )\n",
      "  (layer3): Linear(in_features=100, out_features=10, bias=True)\n",
      ")\n"
     ]
    }
   ],
   "source": [
    "# 訓練に際して、可能であればGPU（cuda）を設定します。GPUが搭載されていない場合はCPUを使用します\n",
    "device = 'cuda' if torch.cuda.is_available() else 'cpu'\n",
    "print(f'Using {device} device')\n",
    "\n",
    "model = NeuralNetwork().to(device)\n",
    "print(model)"
   ]
  },
  {
   "cell_type": "markdown",
   "id": "f4363c18",
   "metadata": {},
   "source": [
    "### 損失関数と最適化手法を定義"
   ]
  },
  {
   "cell_type": "code",
   "execution_count": 47,
   "id": "14ff85f9",
   "metadata": {},
   "outputs": [],
   "source": [
    "loss_fn = nn.CrossEntropyLoss()\n",
    "optimizer = torch.optim.SGD(model.parameters(), lr=learning_rate)"
   ]
  },
  {
   "cell_type": "markdown",
   "id": "a7b9f22e",
   "metadata": {},
   "source": [
    "### 訓練のプロセス"
   ]
  },
  {
   "cell_type": "code",
   "execution_count": 48,
   "id": "3b858f73",
   "metadata": {},
   "outputs": [],
   "source": [
    "def train(dataloader, model, loss_fn, optimizer):\n",
    "    model.train()  # 訓練モード\n",
    "    loss_list = []\n",
    "    size = len(dataloader.dataset)\n",
    "    for batch, (X, y) in enumerate(dataloader):\n",
    "        X, y = X.to(device), y.to(device)\n",
    "        #y = torch.eye(10)[y]  # index -> one-hot 形式に変換\n",
    "        \n",
    "        # 損失誤差を計算\n",
    "        pred = model(X)\n",
    "        loss = loss_fn(pred, y)\n",
    "        \n",
    "        # バックプロパゲーション\n",
    "        optimizer.zero_grad()\n",
    "        loss.backward()\n",
    "        optimizer.step()\n",
    "        \n",
    "        loss_list.append(loss.item())\n",
    "        print(f'\\rtrain batch({batch + 1})', end='')\n",
    "    \n",
    "    return loss_list"
   ]
  },
  {
   "cell_type": "markdown",
   "id": "25d1036b",
   "metadata": {},
   "source": [
    "### 評価のプロセス"
   ]
  },
  {
   "cell_type": "code",
   "execution_count": 49,
   "id": "2cc55dab",
   "metadata": {},
   "outputs": [],
   "source": [
    "def test(dataloader, model, title):\n",
    "    model.eval()  # 評価モード\n",
    "    correct = 0\n",
    "    size = len(dataloader.dataset)\n",
    "    with torch.no_grad():\n",
    "        for batch, (X, y) in enumerate(dataloader):\n",
    "            X, y = X.to(device), y.to(device)\n",
    "            pred = model(X)\n",
    "            correct += (pred.argmax(1) == y).type(torch.float).sum().item()\n",
    "            print(f'\\rtest({title}) batch({batch + 1}){\" \" * 5}', end='')\n",
    "    correct /= size\n",
    "    \n",
    "    return correct"
   ]
  },
  {
   "cell_type": "markdown",
   "id": "f364be56",
   "metadata": {},
   "source": [
    "### ミニバッチの学習"
   ]
  },
  {
   "cell_type": "code",
   "execution_count": 50,
   "id": "8fe2bc91",
   "metadata": {},
   "outputs": [
    {
     "name": "stdout",
     "output_type": "stream",
     "text": [
      "epoch(1) loss = 0.29971063137054443\n",
      "epoch(1) accuracy(train, test) = (0.95605, 0.959)\n",
      "epoch(2) loss = 0.2561866044998169\n",
      "epoch(2) accuracy(train, test) = (0.9753833333333334, 0.976)\n",
      "epoch(3) loss = 0.23108407855033875\n",
      "epoch(3) accuracy(train, test) = (0.9824833333333334, 0.9814)\n",
      "epoch(4) loss = 0.21561458706855774\n",
      "epoch(4) accuracy(train, test) = (0.98605, 0.9839)\n",
      "epoch(5) loss = 0.2062760293483734\n",
      "epoch(5) accuracy(train, test) = (0.9886333333333334, 0.9853)\n",
      "epoch(6) loss = 0.20143844187259674\n",
      "epoch(6) accuracy(train, test) = (0.9906166666666667, 0.9865)\n",
      "epoch(7) loss = 0.1968168318271637\n",
      "epoch(7) accuracy(train, test) = (0.99205, 0.987)\n",
      "epoch(8) loss = 0.19523963332176208\n",
      "epoch(8) accuracy(train, test) = (0.9930666666666667, 0.9874)\n",
      "epoch(9) loss = 0.19174480438232422\n",
      "epoch(9) accuracy(train, test) = (0.9939166666666667, 0.9879)\n",
      "epoch(10) loss = 0.19116181135177612\n",
      "epoch(10) accuracy(train, test) = (0.9945833333333334, 0.9884)\n",
      "epoch(11) loss = 0.1881883442401886\n",
      "epoch(11) accuracy(train, test) = (0.9948833333333333, 0.9887)\n",
      "epoch(12) loss = 0.1859399378299713\n",
      "epoch(12) accuracy(train, test) = (0.9953166666666666, 0.9882)\n",
      "epoch(13) loss = 0.18056420981884003\n",
      "epoch(13) accuracy(train, test) = (0.9954666666666667, 0.9882)\n",
      "epoch(14) loss = 0.17810261249542236\n",
      "epoch(14) accuracy(train, test) = (0.996, 0.9884)\n",
      "epoch(15) loss = 0.17084729671478271\n",
      "epoch(15) accuracy(train, test) = (0.99635, 0.9876)\n",
      "epoch(16) loss = 0.16096945106983185\n",
      "epoch(16) accuracy(train, test) = (0.9964333333333333, 0.988)\n",
      "epoch(17) loss = 0.15491101145744324\n",
      "epoch(17) accuracy(train, test) = (0.9970833333333333, 0.9883)\n",
      "epoch(18) loss = 0.1446291208267212\n",
      "epoch(18) accuracy(train, test) = (0.9969, 0.9879)\n",
      "epoch(19) loss = 0.1349257528781891\n",
      "epoch(19) accuracy(train, test) = (0.9973166666666666, 0.9883)\n",
      "epoch(20) loss = 0.12345963716506958\n",
      "epoch(20) accuracy(train, test) = (0.9971333333333333, 0.988)\n",
      "Done!\n"
     ]
    }
   ],
   "source": [
    "train_loss_list = []\n",
    "train_acc_list = [0.0]\n",
    "test_acc_list = [0.0]\n",
    "\n",
    "for t in range(epoch_num):\n",
    "    train_loss = train(train_dataloader, model, loss_fn, optimizer)\n",
    "    train_loss_list += train_loss\n",
    "    print(f'\\repoch({t + 1}) loss = {train_loss_list[-1]}')\n",
    "    train_acc = test(train_dataloader, model, 'train_data')\n",
    "    test_acc = test(test_dataloader, model, 'test_data')\n",
    "    train_acc_list.append(train_acc)\n",
    "    test_acc_list.append(test_acc)\n",
    "    print(f'\\repoch({t + 1}) accuracy(train, test) = ({train_acc}, {test_acc})')\n",
    "\n",
    "print('Done!')"
   ]
  },
  {
   "cell_type": "markdown",
   "id": "2ff68a9d",
   "metadata": {},
   "source": [
    "### 損失関数の推移"
   ]
  },
  {
   "cell_type": "code",
   "execution_count": 51,
   "id": "f4db9b20",
   "metadata": {},
   "outputs": [
    {
     "data": {
      "image/png": "[encoded data removed]",
      "text/plain": [
       "<Figure size 432x288 with 1 Axes>"
      ]
     },
     "metadata": {
      "needs_background": "light"
     },
     "output_type": "display_data"
    }
   ],
   "source": [
    "# グラフの描画\n",
    "x = torch.arange(len(train_loss_list))\n",
    "plt.plot(x, train_loss_list, label='train loss')\n",
    "plt.xlabel('batchs')\n",
    "plt.ylabel('loss')\n",
    "plt.title('loss by batchs')\n",
    "plt.legend(loc='upper right')\n",
    "plt.show()"
   ]
  },
  {
   "cell_type": "markdown",
   "id": "e9543c97",
   "metadata": {},
   "source": [
    "### 認識精度の推移"
   ]
  },
  {
   "cell_type": "code",
   "execution_count": 52,
   "id": "a6fdc67f",
   "metadata": {},
   "outputs": [
    {
     "data": {
      "image/png": "[encoded data removed]",
      "text/plain": [
       "<Figure size 432x288 with 1 Axes>"
      ]
     },
     "metadata": {
      "needs_background": "light"
     },
     "output_type": "display_data"
    }
   ],
   "source": [
    "# グラフの描画\n",
    "x = torch.arange(len(train_acc_list))\n",
    "plt.plot(x, train_acc_list, label='train acc', marker='o')\n",
    "plt.plot(x, test_acc_list, label='test acc', linestyle='--', marker='^')\n",
    "plt.xlabel('epochs')\n",
    "plt.ylabel('accuracy')\n",
    "plt.title('accuracy by epochs')\n",
    "plt.ylim(0, 1.0)\n",
    "plt.legend(loc='lower right')\n",
    "plt.show()"
   ]
  },
  {
   "cell_type": "markdown",
   "id": "c218411b",
   "metadata": {},
   "source": [
    "#### 【オプション】テストの結果"
   ]
  },
  {
   "cell_type": "code",
   "execution_count": 53,
   "id": "e1b67440",
   "metadata": {},
   "outputs": [
    {
     "name": "stdout",
     "output_type": "stream",
     "text": [
      "torch.Size([10000, 10])\n",
      "index = 0\n",
      "tensor([ -3.1841,   1.5001,  -1.0304,   1.1418,  -5.6666,  -3.7650, -17.1057,\n",
      "         18.3110,  -2.2297,   5.8947])\n",
      "tensor(7)\n",
      "index = 1\n",
      "tensor([  6.8826,   7.5178,  25.0510,  -2.2651, -12.4428, -12.4484,  -0.6981,\n",
      "         -6.8284,   1.1503,  -9.3200])\n",
      "tensor(2)\n",
      "index = 2\n",
      "tensor([-3.7089, 13.6744, -1.8751, -8.9444,  4.5411, -3.5198, -3.4266,  1.8270,\n",
      "         2.7402, -2.9957])\n",
      "tensor(1)\n"
     ]
    }
   ],
   "source": [
    "x_test = None\n",
    "t_test = None\n",
    "test_predict = None\n",
    "\n",
    "# テストの実行\n",
    "model.eval()\n",
    "with torch.no_grad():\n",
    "    for X, y in test_dataloader:\n",
    "        X, y = X.to(device), y.to(device)\n",
    "        pred = model(X)\n",
    "        X, y = X.to('cpu'), y.to('cpu')\n",
    "        x_test = torch.cat((x_test,X),0) if x_test is not None else X\n",
    "        t_test = torch.cat((t_test,y),0) if t_test is not None else y\n",
    "        test_predict = torch.cat((test_predict,pred),0) if test_predict is not None else pred\n",
    "\n",
    "print(test_predict.shape)\n",
    "for index in range(3):\n",
    "    print(f'index = {index}')\n",
    "    print(test_predict[index])\n",
    "    print(t_test[index])"
   ]
  },
  {
   "cell_type": "markdown",
   "id": "a2eb9cca",
   "metadata": {},
   "source": [
    "#### 【オプション】エラー結果の確認"
   ]
  },
  {
   "cell_type": "code",
   "execution_count": 54,
   "id": "0d49b25e",
   "metadata": {},
   "outputs": [
    {
     "name": "stdout",
     "output_type": "stream",
     "text": [
      "error rate = 1.2[%] (num = 120/10000)\n"
     ]
    },
    {
     "data": {
      "image/png": "[encoded data removed]",
      "text/plain": [
       "<Figure size 864x144 with 6 Axes>"
      ]
     },
     "metadata": {
      "needs_background": "light"
     },
     "output_type": "display_data"
    },
    {
     "name": "stdout",
     "output_type": "stream",
     "text": [
      "tensor([[ 11.5620,  -7.3894,   2.1042,  -2.6334,  -2.5495,  -3.8409,   3.3381,\n",
      "          -5.5671,  10.3603,  -3.9397],\n",
      "        [ -9.3104,  -3.8056,  -7.5775,  -2.7280,  15.3660,  -3.9476, -14.9943,\n",
      "           0.3530,   7.0759,  14.6108],\n",
      "        [ 16.3008, -10.1826,  -1.2089,  -7.0210,  -4.7604,   4.3233,  15.8187,\n",
      "          -1.3771,  -2.9535,  -4.2961],\n",
      "        [-18.5811,  -3.4570,  -6.1045,  20.1895, -10.4606,  24.7421,  -7.7719,\n",
      "          -6.3195,  -0.4956,   0.9973],\n",
      "        [ -3.6598,   0.6415,  15.8824,   7.9730,  -4.2917, -11.6988,  -8.4584,\n",
      "          -0.0742,  12.4694,  -5.3099],\n",
      "        [ -3.6865,  -0.6926,  17.8431,  11.3236, -12.0888, -20.5951, -18.9026,\n",
      "          18.3024,  13.6926,  -2.2099]])\n"
     ]
    }
   ],
   "source": [
    "# エラー結果の要素を抽出\n",
    "index_error = torch.argmax(test_predict, axis=1) != t_test\n",
    "error_list = torch.arange(len(test_predict))[index_error]\n",
    "print(f'error rate = {len(error_list) / len(test_predict) * 100}[%]',\n",
    "      f'(num = {len(error_list)}/{len(test_predict)})')\n",
    "\n",
    "offset = 0\n",
    "# 画像を表示\n",
    "figure = plt.figure(figsize=(12, 2))\n",
    "rows, cols = 1, 6\n",
    "for i in range(rows * cols):\n",
    "    index = error_list[offset + i]\n",
    "    img, label_t, label_y = x_test[index], t_test[index], test_predict[index].argmax()\n",
    "    figure.add_subplot(rows, cols, i + 1)\n",
    "    plt.title(f'{label_y} (t={label_t})')\n",
    "    plt.axis('off')\n",
    "    plt.imshow(img.squeeze(), cmap='gray')  # 1x28x28 -> 28x28 に変換\n",
    "plt.show()\n",
    "print(test_predict[error_list[offset:offset + rows * cols]])"
   ]
  },
  {
   "cell_type": "code",
   "execution_count": null,
   "id": "fafd3cb8",
   "metadata": {},
   "outputs": [],
   "source": []
  }
 ],
 "metadata": {
  "kernelspec": {
   "display_name": "PytorchEnv",
   "language": "python",
   "name": "pytorchenv"
  },
  "language_info": {
   "codemirror_mode": {
    "name": "ipython",
    "version": 3
   },
   "file_extension": ".py",
   "mimetype": "text/x-python",
   "name": "python",
   "nbconvert_exporter": "python",
   "pygments_lexer": "ipython3",
   "version": "3.9.6"
  }
 },
 "nbformat": 4,
 "nbformat_minor": 5
}
